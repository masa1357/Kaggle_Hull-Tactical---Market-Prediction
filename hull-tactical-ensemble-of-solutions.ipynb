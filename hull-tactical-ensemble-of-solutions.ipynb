{
 "cells": [
  {
   "cell_type": "code",
   "execution_count": 6,
   "id": "380342cb",
   "metadata": {},
   "outputs": [],
   "source": [
    "import os\n",
    "\n",
    "import pandas as pd\n",
    "import numpy as np\n",
    "from pathlib import Path\n",
    "from colorama import Fore, Style # 文字に色を付けるライブラリ\n",
    "# display, HTML のインポート\n",
    "from IPython.display import display, HTML\n",
    "import matplotlib.pyplot as plt"
   ]
  },
  {
   "cell_type": "code",
   "execution_count": 7,
   "id": "02bdc8e2",
   "metadata": {},
   "outputs": [],
   "source": [
    "BASE_PATH = Path.cwd()\n",
    "DATA_PATH = BASE_PATH / \"data\"\n",
    "\n",
    "train = pd.read_csv(DATA_PATH / \"train.csv\")\n",
    "test = pd.read_csv(DATA_PATH / \"test.csv\")"
   ]
  },
  {
   "cell_type": "code",
   "execution_count": 8,
   "id": "500eed7e",
   "metadata": {},
   "outputs": [],
   "source": [
    "MAX_INVESTMENT = 2\n",
    "MIN_INVESTMENT = 0"
   ]
  },
  {
   "cell_type": "code",
   "execution_count": null,
   "id": "500eed7e",
   "metadata": {},
   "outputs": [],
   "source": [
    "from python.metrics import score\n",
    "\n",
    "score_list_dict = {}\n",
    "def cross_validate(allocation_model, label=\"\", min_train_size=1500, test_size=180):\n",
    "    \"\"\"\n",
    "    時系列を考慮した交差検証を行う\n",
    "    検証インデックス：\n",
    "    range(len(train) - test_size, min_train_size, - test_size)\n",
    "    例えば、trainデータが2000行、test_size=120、min_train_size=1500の場合、\n",
    "    検証用のインデックスは：\n",
    "    range(2000 - 120, 1500, -120) = range(1880, 1500, -120)\n",
    "    = (1880, 1760, 1640, 1520)\n",
    "    となり、各foldで未来のデータを使用せずに評価することができる．\n",
    "    trainサイズはfoldが進む毎に減少し，min_train_sizeに達したら終了する．\n",
    "    減少させているのは未来リークを防ぐため．\n",
    "    \"\"\"\n",
    "    oof = np.full(len(train), np.nan)\n",
    "    score_list = []\n",
    "    intermediate_res = []\n",
    "\n",
    "    for fold, test_start in enumerate(\n",
    "        range(len(train) - test_size, min_train_size, -test_size)\n",
    "    ):\n",
    "        print(Fore.CYAN + f\"=== Fold {fold} Test start at {test_start} ===\" + Style.RESET_ALL)\n",
    "        # 1. データ分割\n",
    "        train_fold = train.iloc[:test_start]\n",
    "        test_fold = train.iloc[test_start : test_start + test_size]\n",
    "\n",
    "        # 特徴カラム選択\n",
    "        X_train = train_fold.drop(\n",
    "            [\n",
    "                \"date_id\",\n",
    "                \"forward_returns\",\n",
    "                \"risk_free_rate\",\n",
    "                \"market_forward_excess_returns\",\n",
    "            ],\n",
    "            axis=1,\n",
    "        )\n",
    "        y_train = train_fold[\"forward_returns\"]\n",
    "        X_test = test_fold.drop(\n",
    "            [\n",
    "                \"date_id\",\n",
    "                \"forward_returns\",\n",
    "                \"risk_free_rate\",\n",
    "                \"market_forward_excess_returns\",\n",
    "            ],\n",
    "            axis=1,\n",
    "        )\n",
    "        y_test = test_fold[\"forward_returns\"]\n",
    "\n",
    "        # 評価用のデータ保存\n",
    "        solution = pd.DataFrame(\n",
    "            {\n",
    "                \"forward_returns\": test_fold[\"forward_returns\"].values,\n",
    "                \"risk_free_rate\": test_fold[\"risk_free_rate\"].values,\n",
    "            }\n",
    "        ).reset_index(drop=True)\n",
    "\n",
    "        # 2. モデル学習\n",
    "        allocation_model.fit(X_train, y_train)\n",
    "\n",
    "        # 3. 予測\n",
    "        y_pred = allocation_model.predict(X_test)\n",
    "        allocation_list = np.clip(y_pred, 0, 2)  # 投資比率は0から2の間にクリップ\n",
    "\n",
    "        # 4. 評価\n",
    "        submission = pd.DataFrame({\"prediction\": allocation_list}).reset_index(drop=True)\n",
    "        validation_score, intermediate_res = score(\n",
    "            solution, submission, \"\", intermediate_res\n",
    "        )\n",
    "\n",
    "        vol_penalty = intermediate_res[-1][3]   # ボラティリティペナルティ\n",
    "        return_penalty = intermediate_res[-1][4]# リターンペナルティ\n",
    "\n",
    "        if fold < 5 or 30 <= fold:\n",
    "            display(HTML(f\"<p  style = 'color: orange'>train(:{test_start:4}) test({test_start:4}:{test_start+test_size:4})<br>val_score: {validation_score:6.3f} {vol_penalty=:.2f} {return_penalty=:.2f}</p>\"))\n",
    "        else:\n",
    "            print(Fore.YELLOW + f\"score : {validation_score:6.3f}\" + Style.RESET_ALL)\n",
    "\n",
    "        oof[test_start:test_start + test_size] = allocation_list\n",
    "        score_list.append(validation_score)\n",
    "\n",
    "    # 集計表示\n",
    "    display(HTML('<h2 style=\"text-align:center;color:orange\">======== Scoring ========</h2>'))\n",
    "    avg_validation_score = float(np.nanmean(score_list)) if len(score_list) else np.nan\n",
    "    print(f\"{label} Average Validation Score: {avg_validation_score:.6f}\")\n",
    "\n",
    "    # 全体スコア（インデックス揃え）\n",
    "    mask = np.isfinite(oof)\n",
    "    solution_all = train.loc[mask, ['forward_returns','risk_free_rate']].reset_index(drop=True)\n",
    "    submission_all = pd.DataFrame({'prediction': oof[mask]}).reset_index(drop=True)\n",
    "    overall_score, intermediate_res = score(solution_all, submission_all, '', intermediate_res)\n",
    "\n",
    "    if intermediate_res:\n",
    "        vol_penalty = intermediate_res[-1][3]\n",
    "        return_penalty = intermediate_res[-1][4]\n",
    "    else:\n",
    "        vol_penalty = return_penalty = np.nan\n",
    "    print(f\"{label} Overall Validation Score: {overall_score:.6f} vol_penalty={vol_penalty:.2f} return_penalty={return_penalty:.2f}\")\n",
    "    score_list_dict[label] = score_list\n",
    "    # 1回目のfoldのスコアを示す\n",
    "    if score_list:\n",
    "        print(f\"{label} First(Test) Fold Validation Score: {score_list[0]:.6f}\")\n",
    "\n",
    "    # 分布可視化\n",
    "    vals = oof[mask]\n",
    "    if len(vals):\n",
    "        vmin, vmax = float(np.min(vals)), float(np.max(vals))\n",
    "        if vmin == vmax:\n",
    "            vmax = vmin + 1e-6\n",
    "        bins = np.linspace(vmin, vmax, 50)\n",
    "        plt.figure(figsize=(6, 2))\n",
    "        plt.hist(vals, bins=bins, density=False, color='c', edgecolor='k', linewidth=0.5)\n",
    "        plt.title(f'Allocation histogram of {label}')\n",
    "        plt.gca().get_yaxis().set_visible(False)\n",
    "        plt.xlim(vmin, vmax)\n",
    "        plt.show()\n",
    "\n",
    "    print(f\"Range of predictions: [{vmin:.6f}, {vmax:.6f}]\")\n"
   ]
  },
  {
   "cell_type": "code",
   "execution_count": 14,
   "id": "e81e0bab",
   "metadata": {},
   "outputs": [
    {
     "name": "stdout",
     "output_type": "stream",
     "text": [
      "\u001b[36m=== Fold 0 Test start at 8810 ===\u001b[0m\n"
     ]
    },
    {
     "data": {
      "text/html": [
       "<p  style = 'color: orange'>train(:8810) test(8810:8990)<br>val_score:  3.603 vol_penalty=1.00 return_penalty=1.43</p>"
      ],
      "text/plain": [
       "<IPython.core.display.HTML object>"
      ]
     },
     "metadata": {},
     "output_type": "display_data"
    },
    {
     "name": "stdout",
     "output_type": "stream",
     "text": [
      "\u001b[36m=== Fold 1 Test start at 8630 ===\u001b[0m\n"
     ]
    },
    {
     "data": {
      "text/html": [
       "<p  style = 'color: orange'>train(:8630) test(8630:8810)<br>val_score:  2.210 vol_penalty=1.00 return_penalty=2.96</p>"
      ],
      "text/plain": [
       "<IPython.core.display.HTML object>"
      ]
     },
     "metadata": {},
     "output_type": "display_data"
    },
    {
     "name": "stdout",
     "output_type": "stream",
     "text": [
      "\u001b[36m=== Fold 2 Test start at 8450 ===\u001b[0m\n"
     ]
    },
    {
     "data": {
      "text/html": [
       "<p  style = 'color: orange'>train(:8450) test(8450:8630)<br>val_score:  2.581 vol_penalty=1.00 return_penalty=2.87</p>"
      ],
      "text/plain": [
       "<IPython.core.display.HTML object>"
      ]
     },
     "metadata": {},
     "output_type": "display_data"
    },
    {
     "name": "stdout",
     "output_type": "stream",
     "text": [
      "\u001b[36m=== Fold 3 Test start at 8270 ===\u001b[0m\n"
     ]
    },
    {
     "data": {
      "text/html": [
       "<p  style = 'color: orange'>train(:8270) test(8270:8450)<br>val_score:  1.340 vol_penalty=1.00 return_penalty=4.54</p>"
      ],
      "text/plain": [
       "<IPython.core.display.HTML object>"
      ]
     },
     "metadata": {},
     "output_type": "display_data"
    },
    {
     "name": "stdout",
     "output_type": "stream",
     "text": [
      "\u001b[36m=== Fold 4 Test start at 8090 ===\u001b[0m\n"
     ]
    },
    {
     "data": {
      "text/html": [
       "<p  style = 'color: orange'>train(:8090) test(8090:8270)<br>val_score:  8.000 vol_penalty=1.00 return_penalty=1.00</p>"
      ],
      "text/plain": [
       "<IPython.core.display.HTML object>"
      ]
     },
     "metadata": {},
     "output_type": "display_data"
    },
    {
     "name": "stdout",
     "output_type": "stream",
     "text": [
      "\u001b[36m=== Fold 5 Test start at 7910 ===\u001b[0m\n",
      "\u001b[36m=== Fold 6 Test start at 7730 ===\u001b[0m\n",
      "\u001b[36m=== Fold 7 Test start at 7550 ===\u001b[0m\n",
      "\u001b[36m=== Fold 8 Test start at 7370 ===\u001b[0m\n",
      "\u001b[36m=== Fold 9 Test start at 7190 ===\u001b[0m\n",
      "\u001b[36m=== Fold 10 Test start at 7010 ===\u001b[0m\n",
      "\u001b[36m=== Fold 11 Test start at 6830 ===\u001b[0m\n",
      "\u001b[36m=== Fold 12 Test start at 6650 ===\u001b[0m\n",
      "\u001b[36m=== Fold 13 Test start at 6470 ===\u001b[0m\n",
      "\u001b[36m=== Fold 14 Test start at 6290 ===\u001b[0m\n",
      "\u001b[36m=== Fold 15 Test start at 6110 ===\u001b[0m\n",
      "\u001b[36m=== Fold 16 Test start at 5930 ===\u001b[0m\n",
      "\u001b[36m=== Fold 17 Test start at 5750 ===\u001b[0m\n",
      "\u001b[36m=== Fold 18 Test start at 5570 ===\u001b[0m\n",
      "\u001b[36m=== Fold 19 Test start at 5390 ===\u001b[0m\n",
      "\u001b[36m=== Fold 20 Test start at 5210 ===\u001b[0m\n",
      "\u001b[36m=== Fold 21 Test start at 5030 ===\u001b[0m\n",
      "\u001b[36m=== Fold 22 Test start at 4850 ===\u001b[0m\n",
      "\u001b[36m=== Fold 23 Test start at 4670 ===\u001b[0m\n",
      "\u001b[36m=== Fold 24 Test start at 4490 ===\u001b[0m\n",
      "\u001b[36m=== Fold 25 Test start at 4310 ===\u001b[0m\n",
      "\u001b[36m=== Fold 26 Test start at 4130 ===\u001b[0m\n",
      "\u001b[36m=== Fold 27 Test start at 3950 ===\u001b[0m\n",
      "\u001b[36m=== Fold 28 Test start at 3770 ===\u001b[0m\n",
      "\u001b[36m=== Fold 29 Test start at 3590 ===\u001b[0m\n",
      "\u001b[36m=== Fold 30 Test start at 3410 ===\u001b[0m\n"
     ]
    },
    {
     "data": {
      "text/html": [
       "<p  style = 'color: orange'>train(:3410) test(3410:3590)<br>val_score:  2.267 vol_penalty=1.00 return_penalty=3.45</p>"
      ],
      "text/plain": [
       "<IPython.core.display.HTML object>"
      ]
     },
     "metadata": {},
     "output_type": "display_data"
    },
    {
     "name": "stdout",
     "output_type": "stream",
     "text": [
      "\u001b[36m=== Fold 31 Test start at 3230 ===\u001b[0m\n"
     ]
    },
    {
     "data": {
      "text/html": [
       "<p  style = 'color: orange'>train(:3230) test(3230:3410)<br>val_score:  3.146 vol_penalty=1.00 return_penalty=2.40</p>"
      ],
      "text/plain": [
       "<IPython.core.display.HTML object>"
      ]
     },
     "metadata": {},
     "output_type": "display_data"
    },
    {
     "name": "stdout",
     "output_type": "stream",
     "text": [
      "\u001b[36m=== Fold 32 Test start at 3050 ===\u001b[0m\n"
     ]
    },
    {
     "data": {
      "text/html": [
       "<p  style = 'color: orange'>train(:3050) test(3050:3230)<br>val_score:  6.738 vol_penalty=1.00 return_penalty=1.00</p>"
      ],
      "text/plain": [
       "<IPython.core.display.HTML object>"
      ]
     },
     "metadata": {},
     "output_type": "display_data"
    },
    {
     "name": "stdout",
     "output_type": "stream",
     "text": [
      "\u001b[36m=== Fold 33 Test start at 2870 ===\u001b[0m\n"
     ]
    },
    {
     "data": {
      "text/html": [
       "<p  style = 'color: orange'>train(:2870) test(2870:3050)<br>val_score:  6.704 vol_penalty=1.00 return_penalty=1.00</p>"
      ],
      "text/plain": [
       "<IPython.core.display.HTML object>"
      ]
     },
     "metadata": {},
     "output_type": "display_data"
    },
    {
     "name": "stdout",
     "output_type": "stream",
     "text": [
      "\u001b[36m=== Fold 34 Test start at 2690 ===\u001b[0m\n"
     ]
    },
    {
     "data": {
      "text/html": [
       "<p  style = 'color: orange'>train(:2690) test(2690:2870)<br>val_score:  6.402 vol_penalty=1.00 return_penalty=1.00</p>"
      ],
      "text/plain": [
       "<IPython.core.display.HTML object>"
      ]
     },
     "metadata": {},
     "output_type": "display_data"
    },
    {
     "name": "stdout",
     "output_type": "stream",
     "text": [
      "\u001b[36m=== Fold 35 Test start at 2510 ===\u001b[0m\n"
     ]
    },
    {
     "data": {
      "text/html": [
       "<p  style = 'color: orange'>train(:2510) test(2510:2690)<br>val_score:  6.760 vol_penalty=1.00 return_penalty=1.00</p>"
      ],
      "text/plain": [
       "<IPython.core.display.HTML object>"
      ]
     },
     "metadata": {},
     "output_type": "display_data"
    },
    {
     "name": "stdout",
     "output_type": "stream",
     "text": [
      "\u001b[36m=== Fold 36 Test start at 2330 ===\u001b[0m\n"
     ]
    },
    {
     "data": {
      "text/html": [
       "<p  style = 'color: orange'>train(:2330) test(2330:2510)<br>val_score:  3.343 vol_penalty=1.00 return_penalty=2.12</p>"
      ],
      "text/plain": [
       "<IPython.core.display.HTML object>"
      ]
     },
     "metadata": {},
     "output_type": "display_data"
    },
    {
     "name": "stdout",
     "output_type": "stream",
     "text": [
      "\u001b[36m=== Fold 37 Test start at 2150 ===\u001b[0m\n"
     ]
    },
    {
     "data": {
      "text/html": [
       "<p  style = 'color: orange'>train(:2150) test(2150:2330)<br>val_score:  4.772 vol_penalty=1.00 return_penalty=1.54</p>"
      ],
      "text/plain": [
       "<IPython.core.display.HTML object>"
      ]
     },
     "metadata": {},
     "output_type": "display_data"
    },
    {
     "name": "stdout",
     "output_type": "stream",
     "text": [
      "\u001b[36m=== Fold 38 Test start at 1970 ===\u001b[0m\n"
     ]
    },
    {
     "data": {
      "text/html": [
       "<p  style = 'color: orange'>train(:1970) test(1970:2150)<br>val_score:  1.209 vol_penalty=1.00 return_penalty=6.26</p>"
      ],
      "text/plain": [
       "<IPython.core.display.HTML object>"
      ]
     },
     "metadata": {},
     "output_type": "display_data"
    },
    {
     "name": "stdout",
     "output_type": "stream",
     "text": [
      "\u001b[36m=== Fold 39 Test start at 1790 ===\u001b[0m\n"
     ]
    },
    {
     "data": {
      "text/html": [
       "<p  style = 'color: orange'>train(:1790) test(1790:1970)<br>val_score:  0.928 vol_penalty=1.00 return_penalty=7.69</p>"
      ],
      "text/plain": [
       "<IPython.core.display.HTML object>"
      ]
     },
     "metadata": {},
     "output_type": "display_data"
    },
    {
     "name": "stdout",
     "output_type": "stream",
     "text": [
      "\u001b[36m=== Fold 40 Test start at 1610 ===\u001b[0m\n"
     ]
    },
    {
     "data": {
      "text/html": [
       "<p  style = 'color: orange'>train(:1610) test(1610:1790)<br>val_score:  1.934 vol_penalty=1.00 return_penalty=3.93</p>"
      ],
      "text/plain": [
       "<IPython.core.display.HTML object>"
      ]
     },
     "metadata": {},
     "output_type": "display_data"
    },
    {
     "data": {
      "text/html": [
       "<h2 style=\"text-align:center;color:orange\">======== Scoring ========</h2>"
      ],
      "text/plain": [
       "<IPython.core.display.HTML object>"
      ]
     },
     "metadata": {},
     "output_type": "display_data"
    },
    {
     "name": "stdout",
     "output_type": "stream",
     "text": [
      "Cheat Model Average Validation Score: 3.669409\n",
      "Cheat Model Overall Validation Score: 3.636027 vol_penalty=1.00 return_penalty=1.39\n",
      "Cheat Model First(Test) Fold Validation Score: 3.602988\n"
     ]
    },
    {
     "data": {
      "image/png": "[encoded data removed]",
      "text/plain": [
       "<Figure size 600x200 with 1 Axes>"
      ]
     },
     "metadata": {},
     "output_type": "display_data"
    },
    {
     "name": "stdout",
     "output_type": "stream",
     "text": [
      "Range of predictions: [0.000000, 0.040661]\n"
     ]
    }
   ],
   "source": [
    "# 真値をそのまま持ってくるチートモデルを定義し，スコアの最大値を確認する\n",
    "class CheatModel:\n",
    "    def fit(self, X, y):\n",
    "        pass\n",
    "\n",
    "    def predict(self, X):\n",
    "        indices = X.index\n",
    "        try:\n",
    "            true_returns = train.loc[indices, \"forward_returns\"].to_numpy()\n",
    "        except KeyError:\n",
    "            raise KeyError(\"CheatModel can only be used on training data.\")\n",
    "\n",
    "        return true_returns\n",
    "    \n",
    "cross_validate(CheatModel(), label=\"Cheat Model\")"
   ]
  },
  {
   "cell_type": "code",
   "execution_count": 15,
   "id": "1dde93fe",
   "metadata": {},
   "outputs": [
    {
     "name": "stdout",
     "output_type": "stream",
     "text": [
      "\u001b[36m=== Fold 0 Test start at 8810 ===\u001b[0m\n",
      "[LightGBM] [Info] Auto-choosing col-wise multi-threading, the overhead of testing was 0.002781 seconds.\n",
      "You can set `force_col_wise=true` to remove the overhead.\n",
      "[LightGBM] [Info] Total Bins 21575\n",
      "[LightGBM] [Info] Number of data points in the train set: 8810, number of used features: 94\n",
      "[LightGBM] [Info] Start training from score 0.000468\n"
     ]
    },
    {
     "data": {
      "text/html": [
       "<p  style = 'color: orange'>train(:8810) test(8810:8990)<br>val_score:  0.096 vol_penalty=1.00 return_penalty=1.63</p>"
      ],
      "text/plain": [
       "<IPython.core.display.HTML object>"
      ]
     },
     "metadata": {},
     "output_type": "display_data"
    },
    {
     "name": "stdout",
     "output_type": "stream",
     "text": [
      "\u001b[36m=== Fold 1 Test start at 8630 ===\u001b[0m\n",
      "[LightGBM] [Info] Auto-choosing col-wise multi-threading, the overhead of testing was 0.002341 seconds.\n",
      "You can set `force_col_wise=true` to remove the overhead.\n",
      "[LightGBM] [Info] Total Bins 21573\n",
      "[LightGBM] [Info] Number of data points in the train set: 8630, number of used features: 94\n",
      "[LightGBM] [Info] Start training from score 0.000460\n"
     ]
    },
    {
     "data": {
      "text/html": [
       "<p  style = 'color: orange'>train(:8630) test(8630:8810)<br>val_score:  0.237 vol_penalty=1.00 return_penalty=3.19</p>"
      ],
      "text/plain": [
       "<IPython.core.display.HTML object>"
      ]
     },
     "metadata": {},
     "output_type": "display_data"
    },
    {
     "name": "stdout",
     "output_type": "stream",
     "text": [
      "\u001b[36m=== Fold 2 Test start at 8450 ===\u001b[0m\n",
      "[LightGBM] [Info] Auto-choosing col-wise multi-threading, the overhead of testing was 0.001439 seconds.\n",
      "You can set `force_col_wise=true` to remove the overhead.\n",
      "[LightGBM] [Info] Total Bins 21575\n",
      "[LightGBM] [Info] Number of data points in the train set: 8450, number of used features: 94\n",
      "[LightGBM] [Info] Start training from score 0.000453\n"
     ]
    },
    {
     "data": {
      "text/html": [
       "<p  style = 'color: orange'>train(:8450) test(8450:8630)<br>val_score:  0.383 vol_penalty=1.00 return_penalty=3.08</p>"
      ],
      "text/plain": [
       "<IPython.core.display.HTML object>"
      ]
     },
     "metadata": {},
     "output_type": "display_data"
    },
    {
     "name": "stdout",
     "output_type": "stream",
     "text": [
      "\u001b[36m=== Fold 3 Test start at 8270 ===\u001b[0m\n",
      "[LightGBM] [Info] Auto-choosing col-wise multi-threading, the overhead of testing was 0.001402 seconds.\n",
      "You can set `force_col_wise=true` to remove the overhead.\n",
      "[LightGBM] [Info] Total Bins 21574\n",
      "[LightGBM] [Info] Number of data points in the train set: 8270, number of used features: 94\n",
      "[LightGBM] [Info] Start training from score 0.000440\n"
     ]
    },
    {
     "data": {
      "text/html": [
       "<p  style = 'color: orange'>train(:8270) test(8270:8450)<br>val_score:  0.345 vol_penalty=1.00 return_penalty=5.14</p>"
      ],
      "text/plain": [
       "<IPython.core.display.HTML object>"
      ]
     },
     "metadata": {},
     "output_type": "display_data"
    },
    {
     "name": "stdout",
     "output_type": "stream",
     "text": [
      "\u001b[36m=== Fold 4 Test start at 8090 ===\u001b[0m\n",
      "[LightGBM] [Info] Auto-choosing col-wise multi-threading, the overhead of testing was 0.001454 seconds.\n",
      "You can set `force_col_wise=true` to remove the overhead.\n",
      "[LightGBM] [Info] Total Bins 21569\n",
      "[LightGBM] [Info] Number of data points in the train set: 8090, number of used features: 94\n",
      "[LightGBM] [Info] Start training from score 0.000468\n"
     ]
    },
    {
     "data": {
      "text/html": [
       "<p  style = 'color: orange'>train(:8090) test(8090:8270)<br>val_score:  0.582 vol_penalty=1.00 return_penalty=1.00</p>"
      ],
      "text/plain": [
       "<IPython.core.display.HTML object>"
      ]
     },
     "metadata": {},
     "output_type": "display_data"
    },
    {
     "name": "stdout",
     "output_type": "stream",
     "text": [
      "\u001b[36m=== Fold 5 Test start at 7910 ===\u001b[0m\n",
      "[LightGBM] [Info] Auto-choosing col-wise multi-threading, the overhead of testing was 0.002368 seconds.\n",
      "You can set `force_col_wise=true` to remove the overhead.\n",
      "[LightGBM] [Info] Total Bins 21568\n",
      "[LightGBM] [Info] Number of data points in the train set: 7910, number of used features: 94\n",
      "[LightGBM] [Info] Start training from score 0.000465\n",
      "\u001b[36m=== Fold 6 Test start at 7730 ===\u001b[0m\n",
      "[LightGBM] [Info] Auto-choosing col-wise multi-threading, the overhead of testing was 0.002279 seconds.\n",
      "You can set `force_col_wise=true` to remove the overhead.\n",
      "[LightGBM] [Info] Total Bins 21566\n",
      "[LightGBM] [Info] Number of data points in the train set: 7730, number of used features: 94\n",
      "[LightGBM] [Info] Start training from score 0.000448\n",
      "\u001b[36m=== Fold 7 Test start at 7550 ===\u001b[0m\n",
      "[LightGBM] [Info] Auto-choosing col-wise multi-threading, the overhead of testing was 0.001670 seconds.\n",
      "You can set `force_col_wise=true` to remove the overhead.\n",
      "[LightGBM] [Info] Total Bins 21508\n",
      "[LightGBM] [Info] Number of data points in the train set: 7550, number of used features: 94\n",
      "[LightGBM] [Info] Start training from score 0.000434\n",
      "\u001b[36m=== Fold 8 Test start at 7370 ===\u001b[0m\n",
      "[LightGBM] [Info] Auto-choosing col-wise multi-threading, the overhead of testing was 0.002153 seconds.\n",
      "You can set `force_col_wise=true` to remove the overhead.\n",
      "[LightGBM] [Info] Total Bins 21444\n",
      "[LightGBM] [Info] Number of data points in the train set: 7370, number of used features: 94\n",
      "[LightGBM] [Info] Start training from score 0.000428\n",
      "\u001b[36m=== Fold 9 Test start at 7190 ===\u001b[0m\n",
      "[LightGBM] [Info] Auto-choosing col-wise multi-threading, the overhead of testing was 0.001384 seconds.\n",
      "You can set `force_col_wise=true` to remove the overhead.\n",
      "[LightGBM] [Info] Total Bins 21383\n",
      "[LightGBM] [Info] Number of data points in the train set: 7190, number of used features: 94\n",
      "[LightGBM] [Info] Start training from score 0.000433\n",
      "\u001b[36m=== Fold 10 Test start at 7010 ===\u001b[0m\n",
      "[LightGBM] [Info] Auto-choosing col-wise multi-threading, the overhead of testing was 0.001402 seconds.\n",
      "You can set `force_col_wise=true` to remove the overhead.\n",
      "[LightGBM] [Info] Total Bins 21328\n",
      "[LightGBM] [Info] Number of data points in the train set: 7010, number of used features: 94\n",
      "[LightGBM] [Info] Start training from score 0.000428\n",
      "\u001b[36m=== Fold 11 Test start at 6830 ===\u001b[0m\n",
      "[LightGBM] [Info] Auto-choosing col-wise multi-threading, the overhead of testing was 0.001433 seconds.\n",
      "You can set `force_col_wise=true` to remove the overhead.\n",
      "[LightGBM] [Info] Total Bins 21313\n",
      "[LightGBM] [Info] Number of data points in the train set: 6830, number of used features: 93\n",
      "[LightGBM] [Info] Start training from score 0.000421\n",
      "\u001b[36m=== Fold 12 Test start at 6650 ===\u001b[0m\n",
      "[LightGBM] [Info] Auto-choosing col-wise multi-threading, the overhead of testing was 0.001361 seconds.\n",
      "You can set `force_col_wise=true` to remove the overhead.\n",
      "[LightGBM] [Info] Total Bins 21261\n",
      "[LightGBM] [Info] Number of data points in the train set: 6650, number of used features: 93\n",
      "[LightGBM] [Info] Start training from score 0.000413\n",
      "\u001b[36m=== Fold 13 Test start at 6470 ===\u001b[0m\n",
      "[LightGBM] [Info] Auto-choosing col-wise multi-threading, the overhead of testing was 0.001357 seconds.\n",
      "You can set `force_col_wise=true` to remove the overhead.\n",
      "[LightGBM] [Info] Total Bins 21194\n",
      "[LightGBM] [Info] Number of data points in the train set: 6470, number of used features: 93\n",
      "[LightGBM] [Info] Start training from score 0.000413\n",
      "\u001b[36m=== Fold 14 Test start at 6290 ===\u001b[0m\n",
      "[LightGBM] [Info] Auto-choosing col-wise multi-threading, the overhead of testing was 0.001331 seconds.\n",
      "You can set `force_col_wise=true` to remove the overhead.\n",
      "[LightGBM] [Info] Total Bins 21072\n",
      "[LightGBM] [Info] Number of data points in the train set: 6290, number of used features: 93\n",
      "[LightGBM] [Info] Start training from score 0.000422\n",
      "\u001b[36m=== Fold 15 Test start at 6110 ===\u001b[0m\n",
      "[LightGBM] [Info] Auto-choosing col-wise multi-threading, the overhead of testing was 0.001362 seconds.\n",
      "You can set `force_col_wise=true` to remove the overhead.\n",
      "[LightGBM] [Info] Total Bins 20660\n",
      "[LightGBM] [Info] Number of data points in the train set: 6110, number of used features: 93\n",
      "[LightGBM] [Info] Start training from score 0.000424\n",
      "\u001b[36m=== Fold 16 Test start at 5930 ===\u001b[0m\n",
      "[LightGBM] [Info] Auto-choosing col-wise multi-threading, the overhead of testing was 0.001288 seconds.\n",
      "You can set `force_col_wise=true` to remove the overhead.\n",
      "[LightGBM] [Info] Total Bins 20389\n",
      "[LightGBM] [Info] Number of data points in the train set: 5930, number of used features: 92\n",
      "[LightGBM] [Info] Start training from score 0.000415\n",
      "\u001b[36m=== Fold 17 Test start at 5750 ===\u001b[0m\n",
      "[LightGBM] [Info] Auto-choosing col-wise multi-threading, the overhead of testing was 0.002103 seconds.\n",
      "You can set `force_col_wise=true` to remove the overhead.\n",
      "[LightGBM] [Info] Total Bins 19944\n",
      "[LightGBM] [Info] Number of data points in the train set: 5750, number of used features: 91\n",
      "[LightGBM] [Info] Start training from score 0.000396\n",
      "\u001b[36m=== Fold 18 Test start at 5570 ===\u001b[0m\n",
      "[LightGBM] [Info] Auto-choosing col-wise multi-threading, the overhead of testing was 0.001230 seconds.\n",
      "You can set `force_col_wise=true` to remove the overhead.\n",
      "[LightGBM] [Info] Total Bins 19631\n",
      "[LightGBM] [Info] Number of data points in the train set: 5570, number of used features: 91\n",
      "[LightGBM] [Info] Start training from score 0.000394\n",
      "\u001b[36m=== Fold 19 Test start at 5390 ===\u001b[0m\n",
      "[LightGBM] [Info] Auto-choosing col-wise multi-threading, the overhead of testing was 0.001177 seconds.\n",
      "You can set `force_col_wise=true` to remove the overhead.\n",
      "[LightGBM] [Info] Total Bins 19296\n",
      "[LightGBM] [Info] Number of data points in the train set: 5390, number of used features: 88\n",
      "[LightGBM] [Info] Start training from score 0.000394\n",
      "\u001b[36m=== Fold 20 Test start at 5210 ===\u001b[0m\n",
      "[LightGBM] [Info] Auto-choosing col-wise multi-threading, the overhead of testing was 0.001259 seconds.\n",
      "You can set `force_col_wise=true` to remove the overhead.\n",
      "[LightGBM] [Info] Total Bins 19172\n",
      "[LightGBM] [Info] Number of data points in the train set: 5210, number of used features: 88\n",
      "[LightGBM] [Info] Start training from score 0.000362\n",
      "\u001b[36m=== Fold 21 Test start at 5030 ===\u001b[0m\n",
      "[LightGBM] [Info] Auto-choosing col-wise multi-threading, the overhead of testing was 0.001415 seconds.\n",
      "You can set `force_col_wise=true` to remove the overhead.\n",
      "[LightGBM] [Info] Total Bins 19057\n",
      "[LightGBM] [Info] Number of data points in the train set: 5030, number of used features: 87\n",
      "[LightGBM] [Info] Start training from score 0.000377\n",
      "\u001b[36m=== Fold 22 Test start at 4850 ===\u001b[0m\n",
      "[LightGBM] [Info] Auto-choosing col-wise multi-threading, the overhead of testing was 0.001169 seconds.\n",
      "You can set `force_col_wise=true` to remove the overhead.\n",
      "[LightGBM] [Info] Total Bins 18949\n",
      "[LightGBM] [Info] Number of data points in the train set: 4850, number of used features: 87\n",
      "[LightGBM] [Info] Start training from score 0.000312\n",
      "\u001b[36m=== Fold 23 Test start at 4670 ===\u001b[0m\n",
      "[LightGBM] [Info] Auto-choosing col-wise multi-threading, the overhead of testing was 0.001226 seconds.\n",
      "You can set `force_col_wise=true` to remove the overhead.\n",
      "[LightGBM] [Info] Total Bins 18896\n",
      "[LightGBM] [Info] Number of data points in the train set: 4670, number of used features: 87\n",
      "[LightGBM] [Info] Start training from score 0.000386\n",
      "\u001b[36m=== Fold 24 Test start at 4490 ===\u001b[0m\n",
      "[LightGBM] [Info] Auto-choosing col-wise multi-threading, the overhead of testing was 0.001165 seconds.\n",
      "You can set `force_col_wise=true` to remove the overhead.\n",
      "[LightGBM] [Info] Total Bins 18469\n",
      "[LightGBM] [Info] Number of data points in the train set: 4490, number of used features: 86\n",
      "[LightGBM] [Info] Start training from score 0.000442\n",
      "\u001b[36m=== Fold 25 Test start at 4310 ===\u001b[0m\n",
      "[LightGBM] [Info] Auto-choosing col-wise multi-threading, the overhead of testing was 0.001301 seconds.\n",
      "You can set `force_col_wise=true` to remove the overhead.\n",
      "[LightGBM] [Info] Total Bins 18318\n",
      "[LightGBM] [Info] Number of data points in the train set: 4310, number of used features: 86\n",
      "[LightGBM] [Info] Start training from score 0.000444\n",
      "\u001b[36m=== Fold 26 Test start at 4130 ===\u001b[0m\n",
      "[LightGBM] [Info] Auto-choosing col-wise multi-threading, the overhead of testing was 0.001041 seconds.\n",
      "You can set `force_col_wise=true` to remove the overhead.\n",
      "[LightGBM] [Info] Total Bins 18264\n",
      "[LightGBM] [Info] Number of data points in the train set: 4130, number of used features: 86\n",
      "[LightGBM] [Info] Start training from score 0.000425\n",
      "\u001b[36m=== Fold 27 Test start at 3950 ===\u001b[0m\n",
      "[LightGBM] [Info] Auto-choosing col-wise multi-threading, the overhead of testing was 0.001389 seconds.\n",
      "You can set `force_col_wise=true` to remove the overhead.\n",
      "[LightGBM] [Info] Total Bins 17761\n",
      "[LightGBM] [Info] Number of data points in the train set: 3950, number of used features: 86\n",
      "[LightGBM] [Info] Start training from score 0.000430\n",
      "\u001b[36m=== Fold 28 Test start at 3770 ===\u001b[0m\n",
      "[LightGBM] [Info] Auto-choosing col-wise multi-threading, the overhead of testing was 0.001089 seconds.\n",
      "You can set `force_col_wise=true` to remove the overhead.\n",
      "[LightGBM] [Info] Total Bins 17476\n",
      "[LightGBM] [Info] Number of data points in the train set: 3770, number of used features: 86\n",
      "[LightGBM] [Info] Start training from score 0.000444\n",
      "\u001b[36m=== Fold 29 Test start at 3590 ===\u001b[0m\n",
      "[LightGBM] [Info] Auto-choosing col-wise multi-threading, the overhead of testing was 0.001082 seconds.\n",
      "You can set `force_col_wise=true` to remove the overhead.\n",
      "[LightGBM] [Info] Total Bins 17231\n",
      "[LightGBM] [Info] Number of data points in the train set: 3590, number of used features: 86\n",
      "[LightGBM] [Info] Start training from score 0.000440\n",
      "\u001b[36m=== Fold 30 Test start at 3410 ===\u001b[0m\n",
      "[LightGBM] [Info] Auto-choosing col-wise multi-threading, the overhead of testing was 0.001043 seconds.\n",
      "You can set `force_col_wise=true` to remove the overhead.\n",
      "[LightGBM] [Info] Total Bins 17027\n",
      "[LightGBM] [Info] Number of data points in the train set: 3410, number of used features: 85\n",
      "[LightGBM] [Info] Start training from score 0.000425\n"
     ]
    },
    {
     "data": {
      "text/html": [
       "<p  style = 'color: orange'>train(:3410) test(3410:3590)<br>val_score:  0.229 vol_penalty=1.00 return_penalty=3.68</p>"
      ],
      "text/plain": [
       "<IPython.core.display.HTML object>"
      ]
     },
     "metadata": {},
     "output_type": "display_data"
    },
    {
     "name": "stdout",
     "output_type": "stream",
     "text": [
      "\u001b[36m=== Fold 31 Test start at 3230 ===\u001b[0m\n",
      "[LightGBM] [Info] Auto-choosing col-wise multi-threading, the overhead of testing was 0.001057 seconds.\n",
      "You can set `force_col_wise=true` to remove the overhead.\n",
      "[LightGBM] [Info] Total Bins 16840\n",
      "[LightGBM] [Info] Number of data points in the train set: 3230, number of used features: 83\n",
      "[LightGBM] [Info] Start training from score 0.000411\n"
     ]
    },
    {
     "data": {
      "text/html": [
       "<p  style = 'color: orange'>train(:3230) test(3230:3410)<br>val_score:  0.379 vol_penalty=1.00 return_penalty=2.96</p>"
      ],
      "text/plain": [
       "<IPython.core.display.HTML object>"
      ]
     },
     "metadata": {},
     "output_type": "display_data"
    },
    {
     "name": "stdout",
     "output_type": "stream",
     "text": [
      "\u001b[36m=== Fold 32 Test start at 3050 ===\u001b[0m\n",
      "[LightGBM] [Info] Auto-choosing col-wise multi-threading, the overhead of testing was 0.001095 seconds.\n",
      "You can set `force_col_wise=true` to remove the overhead.\n",
      "[LightGBM] [Info] Total Bins 16764\n",
      "[LightGBM] [Info] Number of data points in the train set: 3050, number of used features: 83\n",
      "[LightGBM] [Info] Start training from score 0.000508\n"
     ]
    },
    {
     "data": {
      "text/html": [
       "<p  style = 'color: orange'>train(:3050) test(3050:3230)<br>val_score: -0.072 vol_penalty=1.00 return_penalty=1.00</p>"
      ],
      "text/plain": [
       "<IPython.core.display.HTML object>"
      ]
     },
     "metadata": {},
     "output_type": "display_data"
    },
    {
     "name": "stdout",
     "output_type": "stream",
     "text": [
      "\u001b[36m=== Fold 33 Test start at 2870 ===\u001b[0m\n",
      "[LightGBM] [Info] Auto-choosing col-wise multi-threading, the overhead of testing was 0.001052 seconds.\n",
      "You can set `force_col_wise=true` to remove the overhead.\n",
      "[LightGBM] [Info] Total Bins 16753\n",
      "[LightGBM] [Info] Number of data points in the train set: 2870, number of used features: 82\n",
      "[LightGBM] [Info] Start training from score 0.000571\n"
     ]
    },
    {
     "data": {
      "text/html": [
       "<p  style = 'color: orange'>train(:2870) test(2870:3050)<br>val_score: -0.435 vol_penalty=1.00 return_penalty=1.00</p>"
      ],
      "text/plain": [
       "<IPython.core.display.HTML object>"
      ]
     },
     "metadata": {},
     "output_type": "display_data"
    },
    {
     "name": "stdout",
     "output_type": "stream",
     "text": [
      "\u001b[36m=== Fold 34 Test start at 2690 ===\u001b[0m\n",
      "[LightGBM] [Info] Auto-choosing col-wise multi-threading, the overhead of testing was 0.001055 seconds.\n",
      "You can set `force_col_wise=true` to remove the overhead.\n",
      "[LightGBM] [Info] Total Bins 16710\n",
      "[LightGBM] [Info] Number of data points in the train set: 2690, number of used features: 82\n",
      "[LightGBM] [Info] Start training from score 0.000672\n"
     ]
    },
    {
     "data": {
      "text/html": [
       "<p  style = 'color: orange'>train(:2690) test(2690:2870)<br>val_score:  0.741 vol_penalty=1.00 return_penalty=1.00</p>"
      ],
      "text/plain": [
       "<IPython.core.display.HTML object>"
      ]
     },
     "metadata": {},
     "output_type": "display_data"
    },
    {
     "name": "stdout",
     "output_type": "stream",
     "text": [
      "\u001b[36m=== Fold 35 Test start at 2510 ===\u001b[0m\n",
      "[LightGBM] [Info] Auto-choosing col-wise multi-threading, the overhead of testing was 0.000948 seconds.\n",
      "You can set `force_col_wise=true` to remove the overhead.\n",
      "[LightGBM] [Info] Total Bins 16510\n",
      "[LightGBM] [Info] Number of data points in the train set: 2510, number of used features: 82\n",
      "[LightGBM] [Info] Start training from score 0.000688\n"
     ]
    },
    {
     "data": {
      "text/html": [
       "<p  style = 'color: orange'>train(:2510) test(2510:2690)<br>val_score:  2.367 vol_penalty=1.00 return_penalty=1.08</p>"
      ],
      "text/plain": [
       "<IPython.core.display.HTML object>"
      ]
     },
     "metadata": {},
     "output_type": "display_data"
    },
    {
     "name": "stdout",
     "output_type": "stream",
     "text": [
      "\u001b[36m=== Fold 36 Test start at 2330 ===\u001b[0m\n",
      "[LightGBM] [Info] Auto-choosing col-wise multi-threading, the overhead of testing was 0.000925 seconds.\n",
      "You can set `force_col_wise=true` to remove the overhead.\n",
      "[LightGBM] [Info] Total Bins 16156\n",
      "[LightGBM] [Info] Number of data points in the train set: 2330, number of used features: 82\n",
      "[LightGBM] [Info] Start training from score 0.000685\n"
     ]
    },
    {
     "data": {
      "text/html": [
       "<p  style = 'color: orange'>train(:2330) test(2330:2510)<br>val_score:  1.150 vol_penalty=1.00 return_penalty=2.49</p>"
      ],
      "text/plain": [
       "<IPython.core.display.HTML object>"
      ]
     },
     "metadata": {},
     "output_type": "display_data"
    },
    {
     "name": "stdout",
     "output_type": "stream",
     "text": [
      "\u001b[36m=== Fold 37 Test start at 2150 ===\u001b[0m\n",
      "[LightGBM] [Info] Auto-choosing col-wise multi-threading, the overhead of testing was 0.000827 seconds.\n",
      "You can set `force_col_wise=true` to remove the overhead.\n",
      "[LightGBM] [Info] Total Bins 14744\n",
      "[LightGBM] [Info] Number of data points in the train set: 2150, number of used features: 82\n",
      "[LightGBM] [Info] Start training from score 0.000685\n"
     ]
    },
    {
     "data": {
      "text/html": [
       "<p  style = 'color: orange'>train(:2150) test(2150:2330)<br>val_score:  0.420 vol_penalty=1.00 return_penalty=1.98</p>"
      ],
      "text/plain": [
       "<IPython.core.display.HTML object>"
      ]
     },
     "metadata": {},
     "output_type": "display_data"
    },
    {
     "name": "stdout",
     "output_type": "stream",
     "text": [
      "\u001b[36m=== Fold 38 Test start at 1970 ===\u001b[0m\n",
      "[LightGBM] [Info] Auto-choosing col-wise multi-threading, the overhead of testing was 0.000931 seconds.\n",
      "You can set `force_col_wise=true` to remove the overhead.\n",
      "[LightGBM] [Info] Total Bins 13765\n",
      "[LightGBM] [Info] Number of data points in the train set: 1970, number of used features: 81\n",
      "[LightGBM] [Info] Start training from score 0.000635\n"
     ]
    },
    {
     "data": {
      "text/html": [
       "<p  style = 'color: orange'>train(:1970) test(1970:2150)<br>val_score:  0.435 vol_penalty=1.00 return_penalty=6.88</p>"
      ],
      "text/plain": [
       "<IPython.core.display.HTML object>"
      ]
     },
     "metadata": {},
     "output_type": "display_data"
    },
    {
     "name": "stdout",
     "output_type": "stream",
     "text": [
      "\u001b[36m=== Fold 39 Test start at 1790 ===\u001b[0m\n",
      "[LightGBM] [Info] Auto-choosing col-wise multi-threading, the overhead of testing was 0.000950 seconds.\n",
      "You can set `force_col_wise=true` to remove the overhead.\n",
      "[LightGBM] [Info] Total Bins 13090\n",
      "[LightGBM] [Info] Number of data points in the train set: 1790, number of used features: 80\n",
      "[LightGBM] [Info] Start training from score 0.000562\n"
     ]
    },
    {
     "data": {
      "text/html": [
       "<p  style = 'color: orange'>train(:1790) test(1790:1970)<br>val_score:  0.147 vol_penalty=1.00 return_penalty=8.64</p>"
      ],
      "text/plain": [
       "<IPython.core.display.HTML object>"
      ]
     },
     "metadata": {},
     "output_type": "display_data"
    },
    {
     "name": "stdout",
     "output_type": "stream",
     "text": [
      "\u001b[36m=== Fold 40 Test start at 1610 ===\u001b[0m\n",
      "[LightGBM] [Info] Auto-choosing col-wise multi-threading, the overhead of testing was 0.000769 seconds.\n",
      "You can set `force_col_wise=true` to remove the overhead.\n",
      "[LightGBM] [Info] Total Bins 10124\n",
      "[LightGBM] [Info] Number of data points in the train set: 1610, number of used features: 77\n",
      "[LightGBM] [Info] Start training from score 0.000519\n",
      "[LightGBM] [Warning] No further splits with positive gain, best gain: -inf\n",
      "[LightGBM] [Warning] No further splits with positive gain, best gain: -inf\n",
      "[LightGBM] [Warning] No further splits with positive gain, best gain: -inf\n",
      "[LightGBM] [Warning] No further splits with positive gain, best gain: -inf\n",
      "[LightGBM] [Warning] No further splits with positive gain, best gain: -inf\n",
      "[LightGBM] [Warning] No further splits with positive gain, best gain: -inf\n",
      "[LightGBM] [Warning] No further splits with positive gain, best gain: -inf\n",
      "[LightGBM] [Warning] No further splits with positive gain, best gain: -inf\n",
      "[LightGBM] [Warning] No further splits with positive gain, best gain: -inf\n",
      "[LightGBM] [Warning] No further splits with positive gain, best gain: -inf\n",
      "[LightGBM] [Warning] No further splits with positive gain, best gain: -inf\n",
      "[LightGBM] [Warning] No further splits with positive gain, best gain: -inf\n",
      "[LightGBM] [Warning] No further splits with positive gain, best gain: -inf\n",
      "[LightGBM] [Warning] No further splits with positive gain, best gain: -inf\n",
      "[LightGBM] [Warning] No further splits with positive gain, best gain: -inf\n",
      "[LightGBM] [Warning] No further splits with positive gain, best gain: -inf\n",
      "[LightGBM] [Warning] No further splits with positive gain, best gain: -inf\n",
      "[LightGBM] [Warning] No further splits with positive gain, best gain: -inf\n",
      "[LightGBM] [Warning] No further splits with positive gain, best gain: -inf\n",
      "[LightGBM] [Warning] No further splits with positive gain, best gain: -inf\n",
      "[LightGBM] [Warning] No further splits with positive gain, best gain: -inf\n",
      "[LightGBM] [Warning] No further splits with positive gain, best gain: -inf\n",
      "[LightGBM] [Warning] No further splits with positive gain, best gain: -inf\n",
      "[LightGBM] [Warning] No further splits with positive gain, best gain: -inf\n",
      "[LightGBM] [Warning] No further splits with positive gain, best gain: -inf\n",
      "[LightGBM] [Warning] No further splits with positive gain, best gain: -inf\n",
      "[LightGBM] [Warning] No further splits with positive gain, best gain: -inf\n",
      "[LightGBM] [Warning] No further splits with positive gain, best gain: -inf\n",
      "[LightGBM] [Warning] No further splits with positive gain, best gain: -inf\n",
      "[LightGBM] [Warning] No further splits with positive gain, best gain: -inf\n",
      "[LightGBM] [Warning] No further splits with positive gain, best gain: -inf\n",
      "[LightGBM] [Warning] No further splits with positive gain, best gain: -inf\n",
      "[LightGBM] [Warning] No further splits with positive gain, best gain: -inf\n",
      "[LightGBM] [Warning] No further splits with positive gain, best gain: -inf\n",
      "[LightGBM] [Warning] No further splits with positive gain, best gain: -inf\n",
      "[LightGBM] [Warning] No further splits with positive gain, best gain: -inf\n",
      "[LightGBM] [Warning] No further splits with positive gain, best gain: -inf\n",
      "[LightGBM] [Warning] No further splits with positive gain, best gain: -inf\n",
      "[LightGBM] [Warning] No further splits with positive gain, best gain: -inf\n",
      "[LightGBM] [Warning] No further splits with positive gain, best gain: -inf\n",
      "[LightGBM] [Warning] No further splits with positive gain, best gain: -inf\n",
      "[LightGBM] [Warning] No further splits with positive gain, best gain: -inf\n",
      "[LightGBM] [Warning] No further splits with positive gain, best gain: -inf\n",
      "[LightGBM] [Warning] No further splits with positive gain, best gain: -inf\n",
      "[LightGBM] [Warning] No further splits with positive gain, best gain: -inf\n",
      "[LightGBM] [Warning] No further splits with positive gain, best gain: -inf\n",
      "[LightGBM] [Warning] No further splits with positive gain, best gain: -inf\n",
      "[LightGBM] [Warning] No further splits with positive gain, best gain: -inf\n",
      "[LightGBM] [Warning] No further splits with positive gain, best gain: -inf\n",
      "[LightGBM] [Warning] No further splits with positive gain, best gain: -inf\n",
      "[LightGBM] [Warning] No further splits with positive gain, best gain: -inf\n",
      "[LightGBM] [Warning] No further splits with positive gain, best gain: -inf\n",
      "[LightGBM] [Warning] No further splits with positive gain, best gain: -inf\n",
      "[LightGBM] [Warning] No further splits with positive gain, best gain: -inf\n",
      "[LightGBM] [Warning] No further splits with positive gain, best gain: -inf\n",
      "[LightGBM] [Warning] No further splits with positive gain, best gain: -inf\n",
      "[LightGBM] [Warning] No further splits with positive gain, best gain: -inf\n",
      "[LightGBM] [Warning] No further splits with positive gain, best gain: -inf\n",
      "[LightGBM] [Warning] No further splits with positive gain, best gain: -inf\n",
      "[LightGBM] [Warning] No further splits with positive gain, best gain: -inf\n",
      "[LightGBM] [Warning] No further splits with positive gain, best gain: -inf\n",
      "[LightGBM] [Warning] No further splits with positive gain, best gain: -inf\n",
      "[LightGBM] [Warning] No further splits with positive gain, best gain: -inf\n",
      "[LightGBM] [Warning] No further splits with positive gain, best gain: -inf\n",
      "[LightGBM] [Warning] No further splits with positive gain, best gain: -inf\n",
      "[LightGBM] [Warning] No further splits with positive gain, best gain: -inf\n",
      "[LightGBM] [Warning] No further splits with positive gain, best gain: -inf\n",
      "[LightGBM] [Warning] No further splits with positive gain, best gain: -inf\n",
      "[LightGBM] [Warning] No further splits with positive gain, best gain: -inf\n",
      "[LightGBM] [Warning] No further splits with positive gain, best gain: -inf\n",
      "[LightGBM] [Warning] No further splits with positive gain, best gain: -inf\n",
      "[LightGBM] [Warning] No further splits with positive gain, best gain: -inf\n",
      "[LightGBM] [Warning] No further splits with positive gain, best gain: -inf\n",
      "[LightGBM] [Warning] No further splits with positive gain, best gain: -inf\n",
      "[LightGBM] [Warning] No further splits with positive gain, best gain: -inf\n",
      "[LightGBM] [Warning] No further splits with positive gain, best gain: -inf\n",
      "[LightGBM] [Warning] No further splits with positive gain, best gain: -inf\n",
      "[LightGBM] [Warning] No further splits with positive gain, best gain: -inf\n",
      "[LightGBM] [Warning] No further splits with positive gain, best gain: -inf\n",
      "[LightGBM] [Warning] No further splits with positive gain, best gain: -inf\n",
      "[LightGBM] [Warning] No further splits with positive gain, best gain: -inf\n",
      "[LightGBM] [Warning] No further splits with positive gain, best gain: -inf\n"
     ]
    },
    {
     "data": {
      "text/html": [
       "<p  style = 'color: orange'>train(:1610) test(1610:1790)<br>val_score:  0.032 vol_penalty=1.00 return_penalty=4.23</p>"
      ],
      "text/plain": [
       "<IPython.core.display.HTML object>"
      ]
     },
     "metadata": {},
     "output_type": "display_data"
    },
    {
     "data": {
      "text/html": [
       "<h2 style=\"text-align:center;color:orange\">======== Scoring ========</h2>"
      ],
      "text/plain": [
       "<IPython.core.display.HTML object>"
      ]
     },
     "metadata": {},
     "output_type": "display_data"
    },
    {
     "name": "stdout",
     "output_type": "stream",
     "text": [
      "LightGBM Model Average Validation Score: 0.435870\n",
      "LightGBM Model Overall Validation Score: 0.227294 vol_penalty=1.00 return_penalty=1.59\n",
      "LightGBM Model First(Test) Fold Validation Score: 0.096097\n"
     ]
    },
    {
     "data": {
      "image/png": "[encoded data removed]",
      "text/plain": [
       "<Figure size 600x200 with 1 Axes>"
      ]
     },
     "metadata": {},
     "output_type": "display_data"
    },
    {
     "name": "stdout",
     "output_type": "stream",
     "text": [
      "Range of predictions: [0.000000, 0.034116]\n"
     ]
    }
   ],
   "source": [
    "# 単純なLightGBMモデルで試す\n",
    "import lightgbm as lgb\n",
    "allocation_model = lgb.LGBMRegressor(\n",
    "    n_estimators=1000,\n",
    "    learning_rate=0.05,\n",
    "    num_leaves=31,\n",
    "    colsample_bytree=0.8,\n",
    "    subsample=0.8,\n",
    "    random_state=42,\n",
    ")\n",
    "\n",
    "cross_validate(allocation_model, label=\"LightGBM Model\")"
   ]
  },
  {
   "cell_type": "code",
   "execution_count": 16,
   "id": "82edf535",
   "metadata": {},
   "outputs": [
    {
     "name": "stdout",
     "output_type": "stream",
     "text": [
      "\u001b[36m=== Fold 0 Test start at 8810 ===\u001b[0m\n"
     ]
    },
    {
     "data": {
      "text/html": [
       "<p  style = 'color: orange'>train(:8810) test(8810:8990)<br>val_score:  0.129 vol_penalty=1.00 return_penalty=1.63</p>"
      ],
      "text/plain": [
       "<IPython.core.display.HTML object>"
      ]
     },
     "metadata": {},
     "output_type": "display_data"
    },
    {
     "name": "stdout",
     "output_type": "stream",
     "text": [
      "\u001b[36m=== Fold 1 Test start at 8630 ===\u001b[0m\n"
     ]
    },
    {
     "data": {
      "text/html": [
       "<p  style = 'color: orange'>train(:8630) test(8630:8810)<br>val_score:  0.066 vol_penalty=1.00 return_penalty=3.20</p>"
      ],
      "text/plain": [
       "<IPython.core.display.HTML object>"
      ]
     },
     "metadata": {},
     "output_type": "display_data"
    },
    {
     "name": "stdout",
     "output_type": "stream",
     "text": [
      "\u001b[36m=== Fold 2 Test start at 8450 ===\u001b[0m\n"
     ]
    },
    {
     "data": {
      "text/html": [
       "<p  style = 'color: orange'>train(:8450) test(8450:8630)<br>val_score:  0.557 vol_penalty=1.00 return_penalty=3.07</p>"
      ],
      "text/plain": [
       "<IPython.core.display.HTML object>"
      ]
     },
     "metadata": {},
     "output_type": "display_data"
    },
    {
     "name": "stdout",
     "output_type": "stream",
     "text": [
      "\u001b[36m=== Fold 3 Test start at 8270 ===\u001b[0m\n"
     ]
    },
    {
     "data": {
      "text/html": [
       "<p  style = 'color: orange'>train(:8270) test(8270:8450)<br>val_score:  0.404 vol_penalty=1.00 return_penalty=5.12</p>"
      ],
      "text/plain": [
       "<IPython.core.display.HTML object>"
      ]
     },
     "metadata": {},
     "output_type": "display_data"
    },
    {
     "name": "stdout",
     "output_type": "stream",
     "text": [
      "\u001b[36m=== Fold 4 Test start at 8090 ===\u001b[0m\n"
     ]
    },
    {
     "data": {
      "text/html": [
       "<p  style = 'color: orange'>train(:8090) test(8090:8270)<br>val_score: -0.415 vol_penalty=1.00 return_penalty=1.00</p>"
      ],
      "text/plain": [
       "<IPython.core.display.HTML object>"
      ]
     },
     "metadata": {},
     "output_type": "display_data"
    },
    {
     "name": "stdout",
     "output_type": "stream",
     "text": [
      "\u001b[36m=== Fold 5 Test start at 7910 ===\u001b[0m\n",
      "\u001b[36m=== Fold 6 Test start at 7730 ===\u001b[0m\n",
      "\u001b[36m=== Fold 7 Test start at 7550 ===\u001b[0m\n",
      "\u001b[36m=== Fold 8 Test start at 7370 ===\u001b[0m\n",
      "\u001b[36m=== Fold 9 Test start at 7190 ===\u001b[0m\n",
      "\u001b[36m=== Fold 10 Test start at 7010 ===\u001b[0m\n",
      "\u001b[36m=== Fold 11 Test start at 6830 ===\u001b[0m\n",
      "\u001b[36m=== Fold 12 Test start at 6650 ===\u001b[0m\n",
      "\u001b[36m=== Fold 13 Test start at 6470 ===\u001b[0m\n",
      "\u001b[36m=== Fold 14 Test start at 6290 ===\u001b[0m\n",
      "\u001b[36m=== Fold 15 Test start at 6110 ===\u001b[0m\n",
      "\u001b[36m=== Fold 16 Test start at 5930 ===\u001b[0m\n",
      "\u001b[36m=== Fold 17 Test start at 5750 ===\u001b[0m\n",
      "\u001b[36m=== Fold 18 Test start at 5570 ===\u001b[0m\n",
      "\u001b[36m=== Fold 19 Test start at 5390 ===\u001b[0m\n",
      "\u001b[36m=== Fold 20 Test start at 5210 ===\u001b[0m\n",
      "\u001b[36m=== Fold 21 Test start at 5030 ===\u001b[0m\n",
      "\u001b[36m=== Fold 22 Test start at 4850 ===\u001b[0m\n",
      "\u001b[36m=== Fold 23 Test start at 4670 ===\u001b[0m\n",
      "\u001b[36m=== Fold 24 Test start at 4490 ===\u001b[0m\n",
      "\u001b[36m=== Fold 25 Test start at 4310 ===\u001b[0m\n",
      "\u001b[36m=== Fold 26 Test start at 4130 ===\u001b[0m\n",
      "\u001b[36m=== Fold 27 Test start at 3950 ===\u001b[0m\n",
      "\u001b[36m=== Fold 28 Test start at 3770 ===\u001b[0m\n",
      "\u001b[36m=== Fold 29 Test start at 3590 ===\u001b[0m\n",
      "\u001b[36m=== Fold 30 Test start at 3410 ===\u001b[0m\n"
     ]
    },
    {
     "data": {
      "text/html": [
       "<p  style = 'color: orange'>train(:3410) test(3410:3590)<br>val_score:  0.076 vol_penalty=1.00 return_penalty=3.69</p>"
      ],
      "text/plain": [
       "<IPython.core.display.HTML object>"
      ]
     },
     "metadata": {},
     "output_type": "display_data"
    },
    {
     "name": "stdout",
     "output_type": "stream",
     "text": [
      "\u001b[36m=== Fold 31 Test start at 3230 ===\u001b[0m\n"
     ]
    },
    {
     "data": {
      "text/html": [
       "<p  style = 'color: orange'>train(:3230) test(3230:3410)<br>val_score:  0.412 vol_penalty=1.00 return_penalty=2.95</p>"
      ],
      "text/plain": [
       "<IPython.core.display.HTML object>"
      ]
     },
     "metadata": {},
     "output_type": "display_data"
    },
    {
     "name": "stdout",
     "output_type": "stream",
     "text": [
      "\u001b[36m=== Fold 32 Test start at 3050 ===\u001b[0m\n"
     ]
    },
    {
     "data": {
      "text/html": [
       "<p  style = 'color: orange'>train(:3050) test(3050:3230)<br>val_score:  0.345 vol_penalty=1.00 return_penalty=1.00</p>"
      ],
      "text/plain": [
       "<IPython.core.display.HTML object>"
      ]
     },
     "metadata": {},
     "output_type": "display_data"
    },
    {
     "name": "stdout",
     "output_type": "stream",
     "text": [
      "\u001b[36m=== Fold 33 Test start at 2870 ===\u001b[0m\n"
     ]
    },
    {
     "data": {
      "text/html": [
       "<p  style = 'color: orange'>train(:2870) test(2870:3050)<br>val_score:  0.061 vol_penalty=1.00 return_penalty=1.00</p>"
      ],
      "text/plain": [
       "<IPython.core.display.HTML object>"
      ]
     },
     "metadata": {},
     "output_type": "display_data"
    },
    {
     "name": "stdout",
     "output_type": "stream",
     "text": [
      "\u001b[36m=== Fold 34 Test start at 2690 ===\u001b[0m\n"
     ]
    },
    {
     "data": {
      "text/html": [
       "<p  style = 'color: orange'>train(:2690) test(2690:2870)<br>val_score:  0.841 vol_penalty=1.00 return_penalty=1.00</p>"
      ],
      "text/plain": [
       "<IPython.core.display.HTML object>"
      ]
     },
     "metadata": {},
     "output_type": "display_data"
    },
    {
     "name": "stdout",
     "output_type": "stream",
     "text": [
      "\u001b[36m=== Fold 35 Test start at 2510 ===\u001b[0m\n"
     ]
    },
    {
     "data": {
      "text/html": [
       "<p  style = 'color: orange'>train(:2510) test(2510:2690)<br>val_score:  1.570 vol_penalty=1.00 return_penalty=1.09</p>"
      ],
      "text/plain": [
       "<IPython.core.display.HTML object>"
      ]
     },
     "metadata": {},
     "output_type": "display_data"
    },
    {
     "name": "stdout",
     "output_type": "stream",
     "text": [
      "\u001b[36m=== Fold 36 Test start at 2330 ===\u001b[0m\n"
     ]
    },
    {
     "data": {
      "text/html": [
       "<p  style = 'color: orange'>train(:2330) test(2330:2510)<br>val_score:  0.636 vol_penalty=1.00 return_penalty=2.50</p>"
      ],
      "text/plain": [
       "<IPython.core.display.HTML object>"
      ]
     },
     "metadata": {},
     "output_type": "display_data"
    },
    {
     "name": "stdout",
     "output_type": "stream",
     "text": [
      "\u001b[36m=== Fold 37 Test start at 2150 ===\u001b[0m\n"
     ]
    },
    {
     "data": {
      "text/html": [
       "<p  style = 'color: orange'>train(:2150) test(2150:2330)<br>val_score:  0.820 vol_penalty=1.00 return_penalty=1.97</p>"
      ],
      "text/plain": [
       "<IPython.core.display.HTML object>"
      ]
     },
     "metadata": {},
     "output_type": "display_data"
    },
    {
     "name": "stdout",
     "output_type": "stream",
     "text": [
      "\u001b[36m=== Fold 38 Test start at 1970 ===\u001b[0m\n"
     ]
    },
    {
     "data": {
      "text/html": [
       "<p  style = 'color: orange'>train(:1970) test(1970:2150)<br>val_score:  0.350 vol_penalty=1.00 return_penalty=6.87</p>"
      ],
      "text/plain": [
       "<IPython.core.display.HTML object>"
      ]
     },
     "metadata": {},
     "output_type": "display_data"
    },
    {
     "name": "stdout",
     "output_type": "stream",
     "text": [
      "\u001b[36m=== Fold 39 Test start at 1790 ===\u001b[0m\n"
     ]
    },
    {
     "data": {
      "text/html": [
       "<p  style = 'color: orange'>train(:1790) test(1790:1970)<br>val_score:  0.073 vol_penalty=1.00 return_penalty=8.65</p>"
      ],
      "text/plain": [
       "<IPython.core.display.HTML object>"
      ]
     },
     "metadata": {},
     "output_type": "display_data"
    },
    {
     "name": "stdout",
     "output_type": "stream",
     "text": [
      "\u001b[36m=== Fold 40 Test start at 1610 ===\u001b[0m\n"
     ]
    },
    {
     "data": {
      "text/html": [
       "<p  style = 'color: orange'>train(:1610) test(1610:1790)<br>val_score: -0.052 vol_penalty=1.00 return_penalty=4.24</p>"
      ],
      "text/plain": [
       "<IPython.core.display.HTML object>"
      ]
     },
     "metadata": {},
     "output_type": "display_data"
    },
    {
     "data": {
      "text/html": [
       "<h2 style=\"text-align:center;color:orange\">======== Scoring ========</h2>"
      ],
      "text/plain": [
       "<IPython.core.display.HTML object>"
      ]
     },
     "metadata": {},
     "output_type": "display_data"
    },
    {
     "name": "stdout",
     "output_type": "stream",
     "text": [
      "XGBoost Model Average Validation Score: 0.365501\n",
      "XGBoost Model Overall Validation Score: 0.222238 vol_penalty=1.00 return_penalty=1.59\n",
      "XGBoost Model First(Test) Fold Validation Score: 0.129118\n"
     ]
    },
    {
     "data": {
      "image/png": "[encoded data removed]",
      "text/plain": [
       "<Figure size 600x200 with 1 Axes>"
      ]
     },
     "metadata": {},
     "output_type": "display_data"
    },
    {
     "name": "stdout",
     "output_type": "stream",
     "text": [
      "Range of predictions: [0.000000, 0.041575]\n"
     ]
    }
   ],
   "source": [
    "# XGBoostモデルで試す\n",
    "import xgboost as xgb\n",
    "allocation_model = xgb.XGBRegressor(\n",
    "    n_estimators=1000,\n",
    "    learning_rate=0.05,\n",
    "    max_depth=6,\n",
    "    colsample_bytree=0.8,\n",
    "    subsample=0.8,\n",
    "    random_state=42,\n",
    ")\n",
    "\n",
    "cross_validate(allocation_model, label=\"XGBoost Model\")\n"
   ]
  },
  {
   "cell_type": "code",
   "execution_count": 17,
   "id": "38a99661",
   "metadata": {},
   "outputs": [
    {
     "name": "stdout",
     "output_type": "stream",
     "text": [
      "\u001b[36m=== Fold 0 Test start at 8810 ===\u001b[0m\n"
     ]
    },
    {
     "data": {
      "text/html": [
       "<p  style = 'color: orange'>train(:8810) test(8810:8990)<br>val_score:  0.147 vol_penalty=1.00 return_penalty=1.63</p>"
      ],
      "text/plain": [
       "<IPython.core.display.HTML object>"
      ]
     },
     "metadata": {},
     "output_type": "display_data"
    },
    {
     "name": "stdout",
     "output_type": "stream",
     "text": [
      "\u001b[36m=== Fold 1 Test start at 8630 ===\u001b[0m\n"
     ]
    },
    {
     "data": {
      "text/html": [
       "<p  style = 'color: orange'>train(:8630) test(8630:8810)<br>val_score:  0.280 vol_penalty=1.00 return_penalty=3.20</p>"
      ],
      "text/plain": [
       "<IPython.core.display.HTML object>"
      ]
     },
     "metadata": {},
     "output_type": "display_data"
    },
    {
     "name": "stdout",
     "output_type": "stream",
     "text": [
      "\u001b[36m=== Fold 2 Test start at 8450 ===\u001b[0m\n"
     ]
    },
    {
     "data": {
      "text/html": [
       "<p  style = 'color: orange'>train(:8450) test(8450:8630)<br>val_score:  0.167 vol_penalty=1.00 return_penalty=3.09</p>"
      ],
      "text/plain": [
       "<IPython.core.display.HTML object>"
      ]
     },
     "metadata": {},
     "output_type": "display_data"
    },
    {
     "name": "stdout",
     "output_type": "stream",
     "text": [
      "\u001b[36m=== Fold 3 Test start at 8270 ===\u001b[0m\n"
     ]
    },
    {
     "data": {
      "text/html": [
       "<p  style = 'color: orange'>train(:8270) test(8270:8450)<br>val_score:  0.113 vol_penalty=1.00 return_penalty=5.15</p>"
      ],
      "text/plain": [
       "<IPython.core.display.HTML object>"
      ]
     },
     "metadata": {},
     "output_type": "display_data"
    },
    {
     "name": "stdout",
     "output_type": "stream",
     "text": [
      "\u001b[36m=== Fold 4 Test start at 8090 ===\u001b[0m\n"
     ]
    },
    {
     "data": {
      "text/html": [
       "<p  style = 'color: orange'>train(:8090) test(8090:8270)<br>val_score: -0.376 vol_penalty=1.00 return_penalty=1.00</p>"
      ],
      "text/plain": [
       "<IPython.core.display.HTML object>"
      ]
     },
     "metadata": {},
     "output_type": "display_data"
    },
    {
     "name": "stdout",
     "output_type": "stream",
     "text": [
      "\u001b[36m=== Fold 5 Test start at 7910 ===\u001b[0m\n",
      "\u001b[36m=== Fold 6 Test start at 7730 ===\u001b[0m\n",
      "\u001b[36m=== Fold 7 Test start at 7550 ===\u001b[0m\n",
      "\u001b[36m=== Fold 8 Test start at 7370 ===\u001b[0m\n",
      "\u001b[36m=== Fold 9 Test start at 7190 ===\u001b[0m\n",
      "\u001b[36m=== Fold 10 Test start at 7010 ===\u001b[0m\n",
      "\u001b[36m=== Fold 11 Test start at 6830 ===\u001b[0m\n",
      "\u001b[36m=== Fold 12 Test start at 6650 ===\u001b[0m\n",
      "\u001b[36m=== Fold 13 Test start at 6470 ===\u001b[0m\n",
      "\u001b[36m=== Fold 14 Test start at 6290 ===\u001b[0m\n",
      "\u001b[36m=== Fold 15 Test start at 6110 ===\u001b[0m\n",
      "\u001b[36m=== Fold 16 Test start at 5930 ===\u001b[0m\n",
      "\u001b[36m=== Fold 17 Test start at 5750 ===\u001b[0m\n",
      "\u001b[36m=== Fold 18 Test start at 5570 ===\u001b[0m\n",
      "\u001b[36m=== Fold 19 Test start at 5390 ===\u001b[0m\n",
      "\u001b[36m=== Fold 20 Test start at 5210 ===\u001b[0m\n",
      "\u001b[36m=== Fold 21 Test start at 5030 ===\u001b[0m\n",
      "\u001b[36m=== Fold 22 Test start at 4850 ===\u001b[0m\n",
      "\u001b[36m=== Fold 23 Test start at 4670 ===\u001b[0m\n",
      "\u001b[36m=== Fold 24 Test start at 4490 ===\u001b[0m\n",
      "\u001b[36m=== Fold 25 Test start at 4310 ===\u001b[0m\n",
      "\u001b[36m=== Fold 26 Test start at 4130 ===\u001b[0m\n",
      "\u001b[36m=== Fold 27 Test start at 3950 ===\u001b[0m\n",
      "\u001b[36m=== Fold 28 Test start at 3770 ===\u001b[0m\n",
      "\u001b[36m=== Fold 29 Test start at 3590 ===\u001b[0m\n",
      "\u001b[36m=== Fold 30 Test start at 3410 ===\u001b[0m\n"
     ]
    },
    {
     "data": {
      "text/html": [
       "<p  style = 'color: orange'>train(:3410) test(3410:3590)<br>val_score:  0.216 vol_penalty=1.00 return_penalty=3.68</p>"
      ],
      "text/plain": [
       "<IPython.core.display.HTML object>"
      ]
     },
     "metadata": {},
     "output_type": "display_data"
    },
    {
     "name": "stdout",
     "output_type": "stream",
     "text": [
      "\u001b[36m=== Fold 31 Test start at 3230 ===\u001b[0m\n"
     ]
    },
    {
     "data": {
      "text/html": [
       "<p  style = 'color: orange'>train(:3230) test(3230:3410)<br>val_score:  0.262 vol_penalty=1.00 return_penalty=2.98</p>"
      ],
      "text/plain": [
       "<IPython.core.display.HTML object>"
      ]
     },
     "metadata": {},
     "output_type": "display_data"
    },
    {
     "name": "stdout",
     "output_type": "stream",
     "text": [
      "\u001b[36m=== Fold 32 Test start at 3050 ===\u001b[0m\n"
     ]
    },
    {
     "data": {
      "text/html": [
       "<p  style = 'color: orange'>train(:3050) test(3050:3230)<br>val_score: -0.766 vol_penalty=1.00 return_penalty=1.00</p>"
      ],
      "text/plain": [
       "<IPython.core.display.HTML object>"
      ]
     },
     "metadata": {},
     "output_type": "display_data"
    },
    {
     "name": "stdout",
     "output_type": "stream",
     "text": [
      "\u001b[36m=== Fold 33 Test start at 2870 ===\u001b[0m\n"
     ]
    },
    {
     "data": {
      "text/html": [
       "<p  style = 'color: orange'>train(:2870) test(2870:3050)<br>val_score: -0.162 vol_penalty=1.00 return_penalty=1.00</p>"
      ],
      "text/plain": [
       "<IPython.core.display.HTML object>"
      ]
     },
     "metadata": {},
     "output_type": "display_data"
    },
    {
     "name": "stdout",
     "output_type": "stream",
     "text": [
      "\u001b[36m=== Fold 34 Test start at 2690 ===\u001b[0m\n"
     ]
    },
    {
     "data": {
      "text/html": [
       "<p  style = 'color: orange'>train(:2690) test(2690:2870)<br>val_score: -0.181 vol_penalty=1.00 return_penalty=1.00</p>"
      ],
      "text/plain": [
       "<IPython.core.display.HTML object>"
      ]
     },
     "metadata": {},
     "output_type": "display_data"
    },
    {
     "name": "stdout",
     "output_type": "stream",
     "text": [
      "\u001b[36m=== Fold 35 Test start at 2510 ===\u001b[0m\n"
     ]
    },
    {
     "data": {
      "text/html": [
       "<p  style = 'color: orange'>train(:2510) test(2510:2690)<br>val_score:  1.559 vol_penalty=1.00 return_penalty=1.08</p>"
      ],
      "text/plain": [
       "<IPython.core.display.HTML object>"
      ]
     },
     "metadata": {},
     "output_type": "display_data"
    },
    {
     "name": "stdout",
     "output_type": "stream",
     "text": [
      "\u001b[36m=== Fold 36 Test start at 2330 ===\u001b[0m\n"
     ]
    },
    {
     "data": {
      "text/html": [
       "<p  style = 'color: orange'>train(:2330) test(2330:2510)<br>val_score:  0.481 vol_penalty=1.00 return_penalty=2.51</p>"
      ],
      "text/plain": [
       "<IPython.core.display.HTML object>"
      ]
     },
     "metadata": {},
     "output_type": "display_data"
    },
    {
     "name": "stdout",
     "output_type": "stream",
     "text": [
      "\u001b[36m=== Fold 37 Test start at 2150 ===\u001b[0m\n"
     ]
    },
    {
     "data": {
      "text/html": [
       "<p  style = 'color: orange'>train(:2150) test(2150:2330)<br>val_score:  0.563 vol_penalty=1.00 return_penalty=1.97</p>"
      ],
      "text/plain": [
       "<IPython.core.display.HTML object>"
      ]
     },
     "metadata": {},
     "output_type": "display_data"
    },
    {
     "name": "stdout",
     "output_type": "stream",
     "text": [
      "\u001b[36m=== Fold 38 Test start at 1970 ===\u001b[0m\n"
     ]
    },
    {
     "data": {
      "text/html": [
       "<p  style = 'color: orange'>train(:1970) test(1970:2150)<br>val_score:  0.329 vol_penalty=1.00 return_penalty=6.93</p>"
      ],
      "text/plain": [
       "<IPython.core.display.HTML object>"
      ]
     },
     "metadata": {},
     "output_type": "display_data"
    },
    {
     "name": "stdout",
     "output_type": "stream",
     "text": [
      "\u001b[36m=== Fold 39 Test start at 1790 ===\u001b[0m\n"
     ]
    },
    {
     "data": {
      "text/html": [
       "<p  style = 'color: orange'>train(:1790) test(1790:1970)<br>val_score:  0.166 vol_penalty=1.00 return_penalty=8.64</p>"
      ],
      "text/plain": [
       "<IPython.core.display.HTML object>"
      ]
     },
     "metadata": {},
     "output_type": "display_data"
    },
    {
     "name": "stdout",
     "output_type": "stream",
     "text": [
      "\u001b[36m=== Fold 40 Test start at 1610 ===\u001b[0m\n"
     ]
    },
    {
     "data": {
      "text/html": [
       "<p  style = 'color: orange'>train(:1610) test(1610:1790)<br>val_score: -0.020 vol_penalty=1.00 return_penalty=4.24</p>"
      ],
      "text/plain": [
       "<IPython.core.display.HTML object>"
      ]
     },
     "metadata": {},
     "output_type": "display_data"
    },
    {
     "data": {
      "text/html": [
       "<h2 style=\"text-align:center;color:orange\">======== Scoring ========</h2>"
      ],
      "text/plain": [
       "<IPython.core.display.HTML object>"
      ]
     },
     "metadata": {},
     "output_type": "display_data"
    },
    {
     "name": "stdout",
     "output_type": "stream",
     "text": [
      "CatBoost Model Average Validation Score: 0.269278\n",
      "CatBoost Model Overall Validation Score: 0.128361 vol_penalty=1.00 return_penalty=1.60\n",
      "CatBoost Model First(Test) Fold Validation Score: 0.147058\n"
     ]
    },
    {
     "data": {
      "image/png": "[encoded data removed]",
      "text/plain": [
       "<Figure size 600x200 with 1 Axes>"
      ]
     },
     "metadata": {},
     "output_type": "display_data"
    },
    {
     "name": "stdout",
     "output_type": "stream",
     "text": [
      "Range of predictions: [0.000000, 0.030810]\n"
     ]
    }
   ],
   "source": [
    "# CatBoostモデルで試す\n",
    "from catboost import CatBoostRegressor\n",
    "allocation_model = CatBoostRegressor(\n",
    "    iterations=1000,\n",
    "    learning_rate=0.05,\n",
    "    depth=6,\n",
    "    random_seed=42,\n",
    "    verbose=0,\n",
    ")\n",
    "\n",
    "cross_validate(allocation_model, label=\"CatBoost Model\")"
   ]
  },
  {
   "cell_type": "code",
   "execution_count": 18,
   "id": "60a3690e",
   "metadata": {},
   "outputs": [
    {
     "name": "stdout",
     "output_type": "stream",
     "text": [
      "\u001b[36m=== Fold 0 Test start at 8810 ===\u001b[0m\n"
     ]
    },
    {
     "ename": "ValueError",
     "evalue": "Input X contains NaN.\nExtraTreesRegressor does not accept missing values encoded as NaN natively. For supervised learning, you might want to consider sklearn.ensemble.HistGradientBoostingClassifier and Regressor which accept missing values encoded as NaNs natively. Alternatively, it is possible to preprocess the data, for instance by using an imputer transformer in a pipeline or drop samples with missing values. See https://scikit-learn.org/stable/modules/impute.html You can find a list of all estimators that handle NaN values at the following page: https://scikit-learn.org/stable/modules/impute.html#estimators-that-handle-nan-values",
     "output_type": "error",
     "traceback": [
      "\u001b[0;31m---------------------------------------------------------------------------\u001b[0m",
      "\u001b[0;31mValueError\u001b[0m                                Traceback (most recent call last)",
      "Cell \u001b[0;32mIn[18], line 102\u001b[0m\n\u001b[1;32m     89\u001b[0m estimators \u001b[38;5;241m=\u001b[39m [\n\u001b[1;32m     90\u001b[0m     (\u001b[38;5;124m\"\u001b[39m\u001b[38;5;124mCatBoost\u001b[39m\u001b[38;5;124m\"\u001b[39m, CatBoost),\n\u001b[1;32m     91\u001b[0m     (\u001b[38;5;124m\"\u001b[39m\u001b[38;5;124mXGBoost\u001b[39m\u001b[38;5;124m\"\u001b[39m, XGBoost),\n\u001b[0;32m   (...)\u001b[0m\n\u001b[1;32m     95\u001b[0m     (\u001b[38;5;124m\"\u001b[39m\u001b[38;5;124mGBRegressor\u001b[39m\u001b[38;5;124m\"\u001b[39m, GBRegressor),\n\u001b[1;32m     96\u001b[0m ]\n\u001b[1;32m     98\u001b[0m model_3 \u001b[38;5;241m=\u001b[39m StackingRegressor(\n\u001b[1;32m     99\u001b[0m     estimators, final_estimator\u001b[38;5;241m=\u001b[39mRidgeCV(alphas\u001b[38;5;241m=\u001b[39m[\u001b[38;5;241m0.1\u001b[39m, \u001b[38;5;241m1.0\u001b[39m, \u001b[38;5;241m10.0\u001b[39m, \u001b[38;5;241m100.0\u001b[39m]), cv\u001b[38;5;241m=\u001b[39m\u001b[38;5;241m3\u001b[39m\n\u001b[1;32m    100\u001b[0m )\n\u001b[0;32m--> 102\u001b[0m \u001b[43mcross_validate\u001b[49m\u001b[43m(\u001b[49m\u001b[43mmodel_3\u001b[49m\u001b[43m,\u001b[49m\u001b[43m \u001b[49m\u001b[43mlabel\u001b[49m\u001b[38;5;241;43m=\u001b[39;49m\u001b[38;5;124;43m\"\u001b[39;49m\u001b[38;5;124;43mStacking Regressor Model\u001b[39;49m\u001b[38;5;124;43m\"\u001b[39;49m\u001b[43m)\u001b[49m\n",
      "Cell \u001b[0;32mIn[13], line 60\u001b[0m, in \u001b[0;36mcross_validate\u001b[0;34m(allocation_model, label, min_train_size, test_size)\u001b[0m\n\u001b[1;32m     52\u001b[0m solution \u001b[38;5;241m=\u001b[39m pd\u001b[38;5;241m.\u001b[39mDataFrame(\n\u001b[1;32m     53\u001b[0m     {\n\u001b[1;32m     54\u001b[0m         \u001b[38;5;124m\"\u001b[39m\u001b[38;5;124mforward_returns\u001b[39m\u001b[38;5;124m\"\u001b[39m: test_fold[\u001b[38;5;124m\"\u001b[39m\u001b[38;5;124mforward_returns\u001b[39m\u001b[38;5;124m\"\u001b[39m]\u001b[38;5;241m.\u001b[39mvalues,\n\u001b[1;32m     55\u001b[0m         \u001b[38;5;124m\"\u001b[39m\u001b[38;5;124mrisk_free_rate\u001b[39m\u001b[38;5;124m\"\u001b[39m: test_fold[\u001b[38;5;124m\"\u001b[39m\u001b[38;5;124mrisk_free_rate\u001b[39m\u001b[38;5;124m\"\u001b[39m]\u001b[38;5;241m.\u001b[39mvalues,\n\u001b[1;32m     56\u001b[0m     }\n\u001b[1;32m     57\u001b[0m )\u001b[38;5;241m.\u001b[39mreset_index(drop\u001b[38;5;241m=\u001b[39m\u001b[38;5;28;01mTrue\u001b[39;00m)\n\u001b[1;32m     59\u001b[0m \u001b[38;5;66;03m# 2. モデル学習\u001b[39;00m\n\u001b[0;32m---> 60\u001b[0m \u001b[43mallocation_model\u001b[49m\u001b[38;5;241;43m.\u001b[39;49m\u001b[43mfit\u001b[49m\u001b[43m(\u001b[49m\u001b[43mX_train\u001b[49m\u001b[43m,\u001b[49m\u001b[43m \u001b[49m\u001b[43my_train\u001b[49m\u001b[43m)\u001b[49m\n\u001b[1;32m     62\u001b[0m \u001b[38;5;66;03m# 3. 予測\u001b[39;00m\n\u001b[1;32m     63\u001b[0m y_pred \u001b[38;5;241m=\u001b[39m allocation_model\u001b[38;5;241m.\u001b[39mpredict(X_test)\n",
      "File \u001b[0;32m/usr/local/lib/python3.10/dist-packages/sklearn/ensemble/_stacking.py:971\u001b[0m, in \u001b[0;36mStackingRegressor.fit\u001b[0;34m(self, X, y, sample_weight)\u001b[0m\n\u001b[1;32m    969\u001b[0m _raise_for_unsupported_routing(\u001b[38;5;28mself\u001b[39m, \u001b[38;5;124m\"\u001b[39m\u001b[38;5;124mfit\u001b[39m\u001b[38;5;124m\"\u001b[39m, sample_weight\u001b[38;5;241m=\u001b[39msample_weight)\n\u001b[1;32m    970\u001b[0m y \u001b[38;5;241m=\u001b[39m column_or_1d(y, warn\u001b[38;5;241m=\u001b[39m\u001b[38;5;28;01mTrue\u001b[39;00m)\n\u001b[0;32m--> 971\u001b[0m \u001b[38;5;28;01mreturn\u001b[39;00m \u001b[38;5;28;43msuper\u001b[39;49m\u001b[43m(\u001b[49m\u001b[43m)\u001b[49m\u001b[38;5;241;43m.\u001b[39;49m\u001b[43mfit\u001b[49m\u001b[43m(\u001b[49m\u001b[43mX\u001b[49m\u001b[43m,\u001b[49m\u001b[43m \u001b[49m\u001b[43my\u001b[49m\u001b[43m,\u001b[49m\u001b[43m \u001b[49m\u001b[43msample_weight\u001b[49m\u001b[43m)\u001b[49m\n",
      "File \u001b[0;32m/usr/local/lib/python3.10/dist-packages/sklearn/base.py:1473\u001b[0m, in \u001b[0;36m_fit_context.<locals>.decorator.<locals>.wrapper\u001b[0;34m(estimator, *args, **kwargs)\u001b[0m\n\u001b[1;32m   1466\u001b[0m     estimator\u001b[38;5;241m.\u001b[39m_validate_params()\n\u001b[1;32m   1468\u001b[0m \u001b[38;5;28;01mwith\u001b[39;00m config_context(\n\u001b[1;32m   1469\u001b[0m     skip_parameter_validation\u001b[38;5;241m=\u001b[39m(\n\u001b[1;32m   1470\u001b[0m         prefer_skip_nested_validation \u001b[38;5;129;01mor\u001b[39;00m global_skip_validation\n\u001b[1;32m   1471\u001b[0m     )\n\u001b[1;32m   1472\u001b[0m ):\n\u001b[0;32m-> 1473\u001b[0m     \u001b[38;5;28;01mreturn\u001b[39;00m \u001b[43mfit_method\u001b[49m\u001b[43m(\u001b[49m\u001b[43mestimator\u001b[49m\u001b[43m,\u001b[49m\u001b[43m \u001b[49m\u001b[38;5;241;43m*\u001b[39;49m\u001b[43margs\u001b[49m\u001b[43m,\u001b[49m\u001b[43m \u001b[49m\u001b[38;5;241;43m*\u001b[39;49m\u001b[38;5;241;43m*\u001b[39;49m\u001b[43mkwargs\u001b[49m\u001b[43m)\u001b[49m\n",
      "File \u001b[0;32m/usr/local/lib/python3.10/dist-packages/sklearn/ensemble/_stacking.py:224\u001b[0m, in \u001b[0;36m_BaseStacking.fit\u001b[0;34m(self, X, y, sample_weight)\u001b[0m\n\u001b[1;32m    219\u001b[0m             \u001b[38;5;28mself\u001b[39m\u001b[38;5;241m.\u001b[39mestimators_\u001b[38;5;241m.\u001b[39mappend(estimator)\n\u001b[1;32m    220\u001b[0m \u001b[38;5;28;01melse\u001b[39;00m:\n\u001b[1;32m    221\u001b[0m     \u001b[38;5;66;03m# Fit the base estimators on the whole training data. Those\u001b[39;00m\n\u001b[1;32m    222\u001b[0m     \u001b[38;5;66;03m# base estimators will be used in transform, predict, and\u001b[39;00m\n\u001b[1;32m    223\u001b[0m     \u001b[38;5;66;03m# predict_proba. They are exposed publicly.\u001b[39;00m\n\u001b[0;32m--> 224\u001b[0m     \u001b[38;5;28mself\u001b[39m\u001b[38;5;241m.\u001b[39mestimators_ \u001b[38;5;241m=\u001b[39m \u001b[43mParallel\u001b[49m\u001b[43m(\u001b[49m\u001b[43mn_jobs\u001b[49m\u001b[38;5;241;43m=\u001b[39;49m\u001b[38;5;28;43mself\u001b[39;49m\u001b[38;5;241;43m.\u001b[39;49m\u001b[43mn_jobs\u001b[49m\u001b[43m)\u001b[49m\u001b[43m(\u001b[49m\n\u001b[1;32m    225\u001b[0m \u001b[43m        \u001b[49m\u001b[43mdelayed\u001b[49m\u001b[43m(\u001b[49m\u001b[43m_fit_single_estimator\u001b[49m\u001b[43m)\u001b[49m\u001b[43m(\u001b[49m\u001b[43mclone\u001b[49m\u001b[43m(\u001b[49m\u001b[43mest\u001b[49m\u001b[43m)\u001b[49m\u001b[43m,\u001b[49m\u001b[43m \u001b[49m\u001b[43mX\u001b[49m\u001b[43m,\u001b[49m\u001b[43m \u001b[49m\u001b[43my\u001b[49m\u001b[43m,\u001b[49m\u001b[43m \u001b[49m\u001b[43mfit_params\u001b[49m\u001b[43m)\u001b[49m\n\u001b[1;32m    226\u001b[0m \u001b[43m        \u001b[49m\u001b[38;5;28;43;01mfor\u001b[39;49;00m\u001b[43m \u001b[49m\u001b[43mest\u001b[49m\u001b[43m \u001b[49m\u001b[38;5;129;43;01min\u001b[39;49;00m\u001b[43m \u001b[49m\u001b[43mall_estimators\u001b[49m\n\u001b[1;32m    227\u001b[0m \u001b[43m        \u001b[49m\u001b[38;5;28;43;01mif\u001b[39;49;00m\u001b[43m \u001b[49m\u001b[43mest\u001b[49m\u001b[43m \u001b[49m\u001b[38;5;241;43m!=\u001b[39;49m\u001b[43m \u001b[49m\u001b[38;5;124;43m\"\u001b[39;49m\u001b[38;5;124;43mdrop\u001b[39;49m\u001b[38;5;124;43m\"\u001b[39;49m\n\u001b[1;32m    228\u001b[0m \u001b[43m    \u001b[49m\u001b[43m)\u001b[49m\n\u001b[1;32m    230\u001b[0m \u001b[38;5;28mself\u001b[39m\u001b[38;5;241m.\u001b[39mnamed_estimators_ \u001b[38;5;241m=\u001b[39m Bunch()\n\u001b[1;32m    231\u001b[0m est_fitted_idx \u001b[38;5;241m=\u001b[39m \u001b[38;5;241m0\u001b[39m\n",
      "File \u001b[0;32m/usr/local/lib/python3.10/dist-packages/sklearn/utils/parallel.py:67\u001b[0m, in \u001b[0;36mParallel.__call__\u001b[0;34m(self, iterable)\u001b[0m\n\u001b[1;32m     62\u001b[0m config \u001b[38;5;241m=\u001b[39m get_config()\n\u001b[1;32m     63\u001b[0m iterable_with_config \u001b[38;5;241m=\u001b[39m (\n\u001b[1;32m     64\u001b[0m     (_with_config(delayed_func, config), args, kwargs)\n\u001b[1;32m     65\u001b[0m     \u001b[38;5;28;01mfor\u001b[39;00m delayed_func, args, kwargs \u001b[38;5;129;01min\u001b[39;00m iterable\n\u001b[1;32m     66\u001b[0m )\n\u001b[0;32m---> 67\u001b[0m \u001b[38;5;28;01mreturn\u001b[39;00m \u001b[38;5;28;43msuper\u001b[39;49m\u001b[43m(\u001b[49m\u001b[43m)\u001b[49m\u001b[38;5;241;43m.\u001b[39;49m\u001b[38;5;21;43m__call__\u001b[39;49m\u001b[43m(\u001b[49m\u001b[43miterable_with_config\u001b[49m\u001b[43m)\u001b[49m\n",
      "File \u001b[0;32m/usr/local/lib/python3.10/dist-packages/joblib/parallel.py:1863\u001b[0m, in \u001b[0;36mParallel.__call__\u001b[0;34m(self, iterable)\u001b[0m\n\u001b[1;32m   1861\u001b[0m     output \u001b[38;5;241m=\u001b[39m \u001b[38;5;28mself\u001b[39m\u001b[38;5;241m.\u001b[39m_get_sequential_output(iterable)\n\u001b[1;32m   1862\u001b[0m     \u001b[38;5;28mnext\u001b[39m(output)\n\u001b[0;32m-> 1863\u001b[0m     \u001b[38;5;28;01mreturn\u001b[39;00m output \u001b[38;5;28;01mif\u001b[39;00m \u001b[38;5;28mself\u001b[39m\u001b[38;5;241m.\u001b[39mreturn_generator \u001b[38;5;28;01melse\u001b[39;00m \u001b[38;5;28;43mlist\u001b[39;49m\u001b[43m(\u001b[49m\u001b[43moutput\u001b[49m\u001b[43m)\u001b[49m\n\u001b[1;32m   1865\u001b[0m \u001b[38;5;66;03m# Let's create an ID that uniquely identifies the current call. If the\u001b[39;00m\n\u001b[1;32m   1866\u001b[0m \u001b[38;5;66;03m# call is interrupted early and that the same instance is immediately\u001b[39;00m\n\u001b[1;32m   1867\u001b[0m \u001b[38;5;66;03m# re-used, this id will be used to prevent workers that were\u001b[39;00m\n\u001b[1;32m   1868\u001b[0m \u001b[38;5;66;03m# concurrently finalizing a task from the previous call to run the\u001b[39;00m\n\u001b[1;32m   1869\u001b[0m \u001b[38;5;66;03m# callback.\u001b[39;00m\n\u001b[1;32m   1870\u001b[0m \u001b[38;5;28;01mwith\u001b[39;00m \u001b[38;5;28mself\u001b[39m\u001b[38;5;241m.\u001b[39m_lock:\n",
      "File \u001b[0;32m/usr/local/lib/python3.10/dist-packages/joblib/parallel.py:1792\u001b[0m, in \u001b[0;36mParallel._get_sequential_output\u001b[0;34m(self, iterable)\u001b[0m\n\u001b[1;32m   1790\u001b[0m \u001b[38;5;28mself\u001b[39m\u001b[38;5;241m.\u001b[39mn_dispatched_batches \u001b[38;5;241m+\u001b[39m\u001b[38;5;241m=\u001b[39m \u001b[38;5;241m1\u001b[39m\n\u001b[1;32m   1791\u001b[0m \u001b[38;5;28mself\u001b[39m\u001b[38;5;241m.\u001b[39mn_dispatched_tasks \u001b[38;5;241m+\u001b[39m\u001b[38;5;241m=\u001b[39m \u001b[38;5;241m1\u001b[39m\n\u001b[0;32m-> 1792\u001b[0m res \u001b[38;5;241m=\u001b[39m \u001b[43mfunc\u001b[49m\u001b[43m(\u001b[49m\u001b[38;5;241;43m*\u001b[39;49m\u001b[43margs\u001b[49m\u001b[43m,\u001b[49m\u001b[43m \u001b[49m\u001b[38;5;241;43m*\u001b[39;49m\u001b[38;5;241;43m*\u001b[39;49m\u001b[43mkwargs\u001b[49m\u001b[43m)\u001b[49m\n\u001b[1;32m   1793\u001b[0m \u001b[38;5;28mself\u001b[39m\u001b[38;5;241m.\u001b[39mn_completed_tasks \u001b[38;5;241m+\u001b[39m\u001b[38;5;241m=\u001b[39m \u001b[38;5;241m1\u001b[39m\n\u001b[1;32m   1794\u001b[0m \u001b[38;5;28mself\u001b[39m\u001b[38;5;241m.\u001b[39mprint_progress()\n",
      "File \u001b[0;32m/usr/local/lib/python3.10/dist-packages/sklearn/utils/parallel.py:129\u001b[0m, in \u001b[0;36m_FuncWrapper.__call__\u001b[0;34m(self, *args, **kwargs)\u001b[0m\n\u001b[1;32m    127\u001b[0m     config \u001b[38;5;241m=\u001b[39m {}\n\u001b[1;32m    128\u001b[0m \u001b[38;5;28;01mwith\u001b[39;00m config_context(\u001b[38;5;241m*\u001b[39m\u001b[38;5;241m*\u001b[39mconfig):\n\u001b[0;32m--> 129\u001b[0m     \u001b[38;5;28;01mreturn\u001b[39;00m \u001b[38;5;28;43mself\u001b[39;49m\u001b[38;5;241;43m.\u001b[39;49m\u001b[43mfunction\u001b[49m\u001b[43m(\u001b[49m\u001b[38;5;241;43m*\u001b[39;49m\u001b[43margs\u001b[49m\u001b[43m,\u001b[49m\u001b[43m \u001b[49m\u001b[38;5;241;43m*\u001b[39;49m\u001b[38;5;241;43m*\u001b[39;49m\u001b[43mkwargs\u001b[49m\u001b[43m)\u001b[49m\n",
      "File \u001b[0;32m/usr/local/lib/python3.10/dist-packages/sklearn/ensemble/_base.py:40\u001b[0m, in \u001b[0;36m_fit_single_estimator\u001b[0;34m(estimator, X, y, fit_params, message_clsname, message)\u001b[0m\n\u001b[1;32m     38\u001b[0m \u001b[38;5;28;01melse\u001b[39;00m:\n\u001b[1;32m     39\u001b[0m     \u001b[38;5;28;01mwith\u001b[39;00m _print_elapsed_time(message_clsname, message):\n\u001b[0;32m---> 40\u001b[0m         \u001b[43mestimator\u001b[49m\u001b[38;5;241;43m.\u001b[39;49m\u001b[43mfit\u001b[49m\u001b[43m(\u001b[49m\u001b[43mX\u001b[49m\u001b[43m,\u001b[49m\u001b[43m \u001b[49m\u001b[43my\u001b[49m\u001b[43m,\u001b[49m\u001b[43m \u001b[49m\u001b[38;5;241;43m*\u001b[39;49m\u001b[38;5;241;43m*\u001b[39;49m\u001b[43mfit_params\u001b[49m\u001b[43m)\u001b[49m\n\u001b[1;32m     41\u001b[0m \u001b[38;5;28;01mreturn\u001b[39;00m estimator\n",
      "File \u001b[0;32m/usr/local/lib/python3.10/dist-packages/sklearn/base.py:1473\u001b[0m, in \u001b[0;36m_fit_context.<locals>.decorator.<locals>.wrapper\u001b[0;34m(estimator, *args, **kwargs)\u001b[0m\n\u001b[1;32m   1466\u001b[0m     estimator\u001b[38;5;241m.\u001b[39m_validate_params()\n\u001b[1;32m   1468\u001b[0m \u001b[38;5;28;01mwith\u001b[39;00m config_context(\n\u001b[1;32m   1469\u001b[0m     skip_parameter_validation\u001b[38;5;241m=\u001b[39m(\n\u001b[1;32m   1470\u001b[0m         prefer_skip_nested_validation \u001b[38;5;129;01mor\u001b[39;00m global_skip_validation\n\u001b[1;32m   1471\u001b[0m     )\n\u001b[1;32m   1472\u001b[0m ):\n\u001b[0;32m-> 1473\u001b[0m     \u001b[38;5;28;01mreturn\u001b[39;00m \u001b[43mfit_method\u001b[49m\u001b[43m(\u001b[49m\u001b[43mestimator\u001b[49m\u001b[43m,\u001b[49m\u001b[43m \u001b[49m\u001b[38;5;241;43m*\u001b[39;49m\u001b[43margs\u001b[49m\u001b[43m,\u001b[49m\u001b[43m \u001b[49m\u001b[38;5;241;43m*\u001b[39;49m\u001b[38;5;241;43m*\u001b[39;49m\u001b[43mkwargs\u001b[49m\u001b[43m)\u001b[49m\n",
      "File \u001b[0;32m/usr/local/lib/python3.10/dist-packages/sklearn/ensemble/_forest.py:377\u001b[0m, in \u001b[0;36mBaseForest.fit\u001b[0;34m(self, X, y, sample_weight)\u001b[0m\n\u001b[1;32m    371\u001b[0m \u001b[38;5;66;03m# _compute_missing_values_in_feature_mask checks if X has missing values and\u001b[39;00m\n\u001b[1;32m    372\u001b[0m \u001b[38;5;66;03m# will raise an error if the underlying tree base estimator can't handle missing\u001b[39;00m\n\u001b[1;32m    373\u001b[0m \u001b[38;5;66;03m# values. Only the criterion is required to determine if the tree supports\u001b[39;00m\n\u001b[1;32m    374\u001b[0m \u001b[38;5;66;03m# missing values.\u001b[39;00m\n\u001b[1;32m    375\u001b[0m estimator \u001b[38;5;241m=\u001b[39m \u001b[38;5;28mtype\u001b[39m(\u001b[38;5;28mself\u001b[39m\u001b[38;5;241m.\u001b[39mestimator)(criterion\u001b[38;5;241m=\u001b[39m\u001b[38;5;28mself\u001b[39m\u001b[38;5;241m.\u001b[39mcriterion)\n\u001b[1;32m    376\u001b[0m missing_values_in_feature_mask \u001b[38;5;241m=\u001b[39m (\n\u001b[0;32m--> 377\u001b[0m     \u001b[43mestimator\u001b[49m\u001b[38;5;241;43m.\u001b[39;49m\u001b[43m_compute_missing_values_in_feature_mask\u001b[49m\u001b[43m(\u001b[49m\n\u001b[1;32m    378\u001b[0m \u001b[43m        \u001b[49m\u001b[43mX\u001b[49m\u001b[43m,\u001b[49m\u001b[43m \u001b[49m\u001b[43mestimator_name\u001b[49m\u001b[38;5;241;43m=\u001b[39;49m\u001b[38;5;28;43mself\u001b[39;49m\u001b[38;5;241;43m.\u001b[39;49m\u001b[38;5;18;43m__class__\u001b[39;49m\u001b[38;5;241;43m.\u001b[39;49m\u001b[38;5;18;43m__name__\u001b[39;49m\n\u001b[1;32m    379\u001b[0m \u001b[43m    \u001b[49m\u001b[43m)\u001b[49m\n\u001b[1;32m    380\u001b[0m )\n\u001b[1;32m    382\u001b[0m \u001b[38;5;28;01mif\u001b[39;00m sample_weight \u001b[38;5;129;01mis\u001b[39;00m \u001b[38;5;129;01mnot\u001b[39;00m \u001b[38;5;28;01mNone\u001b[39;00m:\n\u001b[1;32m    383\u001b[0m     sample_weight \u001b[38;5;241m=\u001b[39m _check_sample_weight(sample_weight, X)\n",
      "File \u001b[0;32m/usr/local/lib/python3.10/dist-packages/sklearn/tree/_classes.py:214\u001b[0m, in \u001b[0;36mBaseDecisionTree._compute_missing_values_in_feature_mask\u001b[0;34m(self, X, estimator_name)\u001b[0m\n\u001b[1;32m    211\u001b[0m common_kwargs \u001b[38;5;241m=\u001b[39m \u001b[38;5;28mdict\u001b[39m(estimator_name\u001b[38;5;241m=\u001b[39mestimator_name, input_name\u001b[38;5;241m=\u001b[39m\u001b[38;5;124m\"\u001b[39m\u001b[38;5;124mX\u001b[39m\u001b[38;5;124m\"\u001b[39m)\n\u001b[1;32m    213\u001b[0m \u001b[38;5;28;01mif\u001b[39;00m \u001b[38;5;129;01mnot\u001b[39;00m \u001b[38;5;28mself\u001b[39m\u001b[38;5;241m.\u001b[39m_support_missing_values(X):\n\u001b[0;32m--> 214\u001b[0m     \u001b[43massert_all_finite\u001b[49m\u001b[43m(\u001b[49m\u001b[43mX\u001b[49m\u001b[43m,\u001b[49m\u001b[43m \u001b[49m\u001b[38;5;241;43m*\u001b[39;49m\u001b[38;5;241;43m*\u001b[39;49m\u001b[43mcommon_kwargs\u001b[49m\u001b[43m)\u001b[49m\n\u001b[1;32m    215\u001b[0m     \u001b[38;5;28;01mreturn\u001b[39;00m \u001b[38;5;28;01mNone\u001b[39;00m\n\u001b[1;32m    217\u001b[0m \u001b[38;5;28;01mwith\u001b[39;00m np\u001b[38;5;241m.\u001b[39merrstate(over\u001b[38;5;241m=\u001b[39m\u001b[38;5;124m\"\u001b[39m\u001b[38;5;124mignore\u001b[39m\u001b[38;5;124m\"\u001b[39m):\n",
      "File \u001b[0;32m/usr/local/lib/python3.10/dist-packages/sklearn/utils/validation.py:216\u001b[0m, in \u001b[0;36massert_all_finite\u001b[0;34m(X, allow_nan, estimator_name, input_name)\u001b[0m\n\u001b[1;32m    178\u001b[0m \u001b[38;5;28;01mdef\u001b[39;00m \u001b[38;5;21massert_all_finite\u001b[39m(\n\u001b[1;32m    179\u001b[0m     X,\n\u001b[1;32m    180\u001b[0m     \u001b[38;5;241m*\u001b[39m,\n\u001b[0;32m   (...)\u001b[0m\n\u001b[1;32m    183\u001b[0m     input_name\u001b[38;5;241m=\u001b[39m\u001b[38;5;124m\"\u001b[39m\u001b[38;5;124m\"\u001b[39m,\n\u001b[1;32m    184\u001b[0m ):\n\u001b[1;32m    185\u001b[0m \u001b[38;5;250m    \u001b[39m\u001b[38;5;124;03m\"\"\"Throw a ValueError if X contains NaN or infinity.\u001b[39;00m\n\u001b[1;32m    186\u001b[0m \n\u001b[1;32m    187\u001b[0m \u001b[38;5;124;03m    Parameters\u001b[39;00m\n\u001b[0;32m   (...)\u001b[0m\n\u001b[1;32m    214\u001b[0m \u001b[38;5;124;03m    Test failed: Array contains non-finite values.\u001b[39;00m\n\u001b[1;32m    215\u001b[0m \u001b[38;5;124;03m    \"\"\"\u001b[39;00m\n\u001b[0;32m--> 216\u001b[0m     \u001b[43m_assert_all_finite\u001b[49m\u001b[43m(\u001b[49m\n\u001b[1;32m    217\u001b[0m \u001b[43m        \u001b[49m\u001b[43mX\u001b[49m\u001b[38;5;241;43m.\u001b[39;49m\u001b[43mdata\u001b[49m\u001b[43m \u001b[49m\u001b[38;5;28;43;01mif\u001b[39;49;00m\u001b[43m \u001b[49m\u001b[43msp\u001b[49m\u001b[38;5;241;43m.\u001b[39;49m\u001b[43missparse\u001b[49m\u001b[43m(\u001b[49m\u001b[43mX\u001b[49m\u001b[43m)\u001b[49m\u001b[43m \u001b[49m\u001b[38;5;28;43;01melse\u001b[39;49;00m\u001b[43m \u001b[49m\u001b[43mX\u001b[49m\u001b[43m,\u001b[49m\n\u001b[1;32m    218\u001b[0m \u001b[43m        \u001b[49m\u001b[43mallow_nan\u001b[49m\u001b[38;5;241;43m=\u001b[39;49m\u001b[43mallow_nan\u001b[49m\u001b[43m,\u001b[49m\n\u001b[1;32m    219\u001b[0m \u001b[43m        \u001b[49m\u001b[43mestimator_name\u001b[49m\u001b[38;5;241;43m=\u001b[39;49m\u001b[43mestimator_name\u001b[49m\u001b[43m,\u001b[49m\n\u001b[1;32m    220\u001b[0m \u001b[43m        \u001b[49m\u001b[43minput_name\u001b[49m\u001b[38;5;241;43m=\u001b[39;49m\u001b[43minput_name\u001b[49m\u001b[43m,\u001b[49m\n\u001b[1;32m    221\u001b[0m \u001b[43m    \u001b[49m\u001b[43m)\u001b[49m\n",
      "File \u001b[0;32m/usr/local/lib/python3.10/dist-packages/sklearn/utils/validation.py:126\u001b[0m, in \u001b[0;36m_assert_all_finite\u001b[0;34m(X, allow_nan, msg_dtype, estimator_name, input_name)\u001b[0m\n\u001b[1;32m    123\u001b[0m \u001b[38;5;28;01mif\u001b[39;00m first_pass_isfinite:\n\u001b[1;32m    124\u001b[0m     \u001b[38;5;28;01mreturn\u001b[39;00m\n\u001b[0;32m--> 126\u001b[0m \u001b[43m_assert_all_finite_element_wise\u001b[49m\u001b[43m(\u001b[49m\n\u001b[1;32m    127\u001b[0m \u001b[43m    \u001b[49m\u001b[43mX\u001b[49m\u001b[43m,\u001b[49m\n\u001b[1;32m    128\u001b[0m \u001b[43m    \u001b[49m\u001b[43mxp\u001b[49m\u001b[38;5;241;43m=\u001b[39;49m\u001b[43mxp\u001b[49m\u001b[43m,\u001b[49m\n\u001b[1;32m    129\u001b[0m \u001b[43m    \u001b[49m\u001b[43mallow_nan\u001b[49m\u001b[38;5;241;43m=\u001b[39;49m\u001b[43mallow_nan\u001b[49m\u001b[43m,\u001b[49m\n\u001b[1;32m    130\u001b[0m \u001b[43m    \u001b[49m\u001b[43mmsg_dtype\u001b[49m\u001b[38;5;241;43m=\u001b[39;49m\u001b[43mmsg_dtype\u001b[49m\u001b[43m,\u001b[49m\n\u001b[1;32m    131\u001b[0m \u001b[43m    \u001b[49m\u001b[43mestimator_name\u001b[49m\u001b[38;5;241;43m=\u001b[39;49m\u001b[43mestimator_name\u001b[49m\u001b[43m,\u001b[49m\n\u001b[1;32m    132\u001b[0m \u001b[43m    \u001b[49m\u001b[43minput_name\u001b[49m\u001b[38;5;241;43m=\u001b[39;49m\u001b[43minput_name\u001b[49m\u001b[43m,\u001b[49m\n\u001b[1;32m    133\u001b[0m \u001b[43m\u001b[49m\u001b[43m)\u001b[49m\n",
      "File \u001b[0;32m/usr/local/lib/python3.10/dist-packages/sklearn/utils/validation.py:175\u001b[0m, in \u001b[0;36m_assert_all_finite_element_wise\u001b[0;34m(X, xp, allow_nan, msg_dtype, estimator_name, input_name)\u001b[0m\n\u001b[1;32m    158\u001b[0m \u001b[38;5;28;01mif\u001b[39;00m estimator_name \u001b[38;5;129;01mand\u001b[39;00m input_name \u001b[38;5;241m==\u001b[39m \u001b[38;5;124m\"\u001b[39m\u001b[38;5;124mX\u001b[39m\u001b[38;5;124m\"\u001b[39m \u001b[38;5;129;01mand\u001b[39;00m has_nan_error:\n\u001b[1;32m    159\u001b[0m     \u001b[38;5;66;03m# Improve the error message on how to handle missing values in\u001b[39;00m\n\u001b[1;32m    160\u001b[0m     \u001b[38;5;66;03m# scikit-learn.\u001b[39;00m\n\u001b[1;32m    161\u001b[0m     msg_err \u001b[38;5;241m+\u001b[39m\u001b[38;5;241m=\u001b[39m (\n\u001b[1;32m    162\u001b[0m         \u001b[38;5;124mf\u001b[39m\u001b[38;5;124m\"\u001b[39m\u001b[38;5;130;01m\\n\u001b[39;00m\u001b[38;5;132;01m{\u001b[39;00mestimator_name\u001b[38;5;132;01m}\u001b[39;00m\u001b[38;5;124m does not accept missing values\u001b[39m\u001b[38;5;124m\"\u001b[39m\n\u001b[1;32m    163\u001b[0m         \u001b[38;5;124m\"\u001b[39m\u001b[38;5;124m encoded as NaN natively. For supervised learning, you might want\u001b[39m\u001b[38;5;124m\"\u001b[39m\n\u001b[0;32m   (...)\u001b[0m\n\u001b[1;32m    173\u001b[0m         \u001b[38;5;124m\"\u001b[39m\u001b[38;5;124m#estimators-that-handle-nan-values\u001b[39m\u001b[38;5;124m\"\u001b[39m\n\u001b[1;32m    174\u001b[0m     )\n\u001b[0;32m--> 175\u001b[0m \u001b[38;5;28;01mraise\u001b[39;00m \u001b[38;5;167;01mValueError\u001b[39;00m(msg_err)\n",
      "\u001b[0;31mValueError\u001b[0m: Input X contains NaN.\nExtraTreesRegressor does not accept missing values encoded as NaN natively. For supervised learning, you might want to consider sklearn.ensemble.HistGradientBoostingClassifier and Regressor which accept missing values encoded as NaNs natively. Alternatively, it is possible to preprocess the data, for instance by using an imputer transformer in a pipeline or drop samples with missing values. See https://scikit-learn.org/stable/modules/impute.html You can find a list of all estimators that handle NaN values at the following page: https://scikit-learn.org/stable/modules/impute.html#estimators-that-handle-nan-values"
     ]
    }
   ],
   "source": [
    "# Stacking Regressorで試す\n",
    "from sklearn.linear_model import RidgeCV\n",
    "\n",
    "from sklearn.ensemble import StackingRegressor\n",
    "from sklearn.ensemble import ExtraTreesRegressor\n",
    "from sklearn.ensemble import RandomForestRegressor\n",
    "from sklearn.ensemble import GradientBoostingRegressor\n",
    "\n",
    "from xgboost import XGBRegressor\n",
    "from lightgbm import LGBMRegressor\n",
    "from catboost import CatBoostRegressor\n",
    "\n",
    "params_CAT = {\n",
    "    \"iterations\": 3000,\n",
    "    \"learning_rate\": 0.01,\n",
    "    \"depth\": 6,\n",
    "    \"l2_leaf_reg\": 5.0,\n",
    "    \"min_child_samples\": 100,\n",
    "    \"colsample_bylevel\": 0.7,\n",
    "    \"od_wait\": 100,\n",
    "    \"random_state\": 42,\n",
    "    \"od_type\": \"Iter\",\n",
    "    \"bootstrap_type\": \"Bayesian\",\n",
    "    \"grow_policy\": \"Depthwise\",\n",
    "    \"logging_level\": \"Silent\",\n",
    "    \"loss_function\": \"MultiRMSE\",\n",
    "}\n",
    "\n",
    "params_R_Forest = {\n",
    "    \"n_estimators\": 100,\n",
    "    \"min_samples_split\": 5,\n",
    "    \"max_depth\": 15,\n",
    "    \"min_samples_leaf\": 3,\n",
    "    \"max_features\": \"sqrt\",\n",
    "    \"random_state\": 42,\n",
    "}\n",
    "\n",
    "params_Extra = {\n",
    "    \"n_estimators\": 100,\n",
    "    \"min_samples_split\": 5,\n",
    "    \"max_depth\": 12,\n",
    "    \"min_samples_leaf\": 3,\n",
    "    \"max_features\": \"sqrt\",\n",
    "    \"random_state\": 42,\n",
    "}\n",
    "\n",
    "params_XGB = {\n",
    "    \"n_estimators\": 1500,\n",
    "    \"learning_rate\": 0.05,\n",
    "    \"max_depth\": 6,\n",
    "    \"subsample\": 0.8,\n",
    "    \"colsample_bytree\": 0.7,\n",
    "    \"reg_alpha\": 1.0,\n",
    "    \"reg_lambda\": 1.0,\n",
    "    \"random_state\": 42,\n",
    "}\n",
    "\n",
    "params_LGBM = {\n",
    "    \"n_estimators\": 1500,\n",
    "    \"learning_rate\": 0.05,\n",
    "    \"num_leaves\": 50,\n",
    "    \"max_depth\": 8,\n",
    "    \"reg_alpha\": 1.0,\n",
    "    \"reg_lambda\": 1.0,\n",
    "    \"random_state\": 42,\n",
    "    \"verbosity\": -1,\n",
    "}\n",
    "\n",
    "params_DecisionTree = {\"criterion\": \"poisson\", \"max_depth\": 6}\n",
    "\n",
    "params_GB = {\n",
    "    \"learning_rate\": 0.1,\n",
    "    \"min_samples_split\": 500,\n",
    "    \"min_samples_leaf\": 50,\n",
    "    \"max_depth\": 8,\n",
    "    \"max_features\": \"sqrt\",\n",
    "    \"subsample\": 0.8,\n",
    "    \"random_state\": 10,\n",
    "}\n",
    "\n",
    "\n",
    "CatBoost = CatBoostRegressor(**params_CAT)\n",
    "XGBoost = XGBRegressor(**params_XGB)\n",
    "LGBM = LGBMRegressor(**params_LGBM)\n",
    "RandomForest = RandomForestRegressor(**params_R_Forest)\n",
    "ExtraTrees = ExtraTreesRegressor(**params_Extra)\n",
    "GBRegressor = GradientBoostingRegressor(**params_GB)\n",
    "\n"
   ]
  },
  {
   "cell_type": "code",
   "execution_count": 20,
   "id": "2139342c",
   "metadata": {},
   "outputs": [
    {
     "name": "stdout",
     "output_type": "stream",
     "text": [
      "\u001b[36m=== Fold 0 Test start at 8810 ===\u001b[0m\n"
     ]
    },
    {
     "data": {
      "text/html": [
       "<p  style = 'color: orange'>train(:8810) test(8810:8990)<br>val_score:  0.241 vol_penalty=1.00 return_penalty=1.64</p>"
      ],
      "text/plain": [
       "<IPython.core.display.HTML object>"
      ]
     },
     "metadata": {},
     "output_type": "display_data"
    },
    {
     "name": "stdout",
     "output_type": "stream",
     "text": [
      "\u001b[36m=== Fold 1 Test start at 8630 ===\u001b[0m\n"
     ]
    },
    {
     "data": {
      "text/html": [
       "<p  style = 'color: orange'>train(:8630) test(8630:8810)<br>val_score:  0.092 vol_penalty=1.00 return_penalty=3.20</p>"
      ],
      "text/plain": [
       "<IPython.core.display.HTML object>"
      ]
     },
     "metadata": {},
     "output_type": "display_data"
    },
    {
     "name": "stdout",
     "output_type": "stream",
     "text": [
      "\u001b[36m=== Fold 2 Test start at 8450 ===\u001b[0m\n"
     ]
    },
    {
     "data": {
      "text/html": [
       "<p  style = 'color: orange'>train(:8450) test(8450:8630)<br>val_score:  0.401 vol_penalty=1.00 return_penalty=3.09</p>"
      ],
      "text/plain": [
       "<IPython.core.display.HTML object>"
      ]
     },
     "metadata": {},
     "output_type": "display_data"
    },
    {
     "name": "stdout",
     "output_type": "stream",
     "text": [
      "\u001b[36m=== Fold 3 Test start at 8270 ===\u001b[0m\n"
     ]
    },
    {
     "data": {
      "text/html": [
       "<p  style = 'color: orange'>train(:8270) test(8270:8450)<br>val_score:  0.069 vol_penalty=1.00 return_penalty=5.16</p>"
      ],
      "text/plain": [
       "<IPython.core.display.HTML object>"
      ]
     },
     "metadata": {},
     "output_type": "display_data"
    },
    {
     "name": "stdout",
     "output_type": "stream",
     "text": [
      "\u001b[36m=== Fold 4 Test start at 8090 ===\u001b[0m\n"
     ]
    },
    {
     "data": {
      "text/html": [
       "<p  style = 'color: orange'>train(:8090) test(8090:8270)<br>val_score: -0.176 vol_penalty=1.00 return_penalty=1.00</p>"
      ],
      "text/plain": [
       "<IPython.core.display.HTML object>"
      ]
     },
     "metadata": {},
     "output_type": "display_data"
    },
    {
     "name": "stdout",
     "output_type": "stream",
     "text": [
      "\u001b[36m=== Fold 5 Test start at 7910 ===\u001b[0m\n",
      "\u001b[36m=== Fold 6 Test start at 7730 ===\u001b[0m\n",
      "\u001b[36m=== Fold 7 Test start at 7550 ===\u001b[0m\n",
      "\u001b[36m=== Fold 8 Test start at 7370 ===\u001b[0m\n",
      "\u001b[36m=== Fold 9 Test start at 7190 ===\u001b[0m\n",
      "\u001b[36m=== Fold 10 Test start at 7010 ===\u001b[0m\n",
      "\u001b[36m=== Fold 11 Test start at 6830 ===\u001b[0m\n",
      "\u001b[36m=== Fold 12 Test start at 6650 ===\u001b[0m\n",
      "\u001b[36m=== Fold 13 Test start at 6470 ===\u001b[0m\n",
      "\u001b[36m=== Fold 14 Test start at 6290 ===\u001b[0m\n",
      "\u001b[36m=== Fold 15 Test start at 6110 ===\u001b[0m\n",
      "\u001b[36m=== Fold 16 Test start at 5930 ===\u001b[0m\n",
      "\u001b[36m=== Fold 17 Test start at 5750 ===\u001b[0m\n",
      "\u001b[36m=== Fold 18 Test start at 5570 ===\u001b[0m\n",
      "\u001b[36m=== Fold 19 Test start at 5390 ===\u001b[0m\n",
      "\u001b[36m=== Fold 20 Test start at 5210 ===\u001b[0m\n",
      "\u001b[36m=== Fold 21 Test start at 5030 ===\u001b[0m\n",
      "\u001b[36m=== Fold 22 Test start at 4850 ===\u001b[0m\n",
      "\u001b[36m=== Fold 23 Test start at 4670 ===\u001b[0m\n",
      "\u001b[36m=== Fold 24 Test start at 4490 ===\u001b[0m\n",
      "\u001b[36m=== Fold 25 Test start at 4310 ===\u001b[0m\n",
      "\u001b[36m=== Fold 26 Test start at 4130 ===\u001b[0m\n",
      "\u001b[36m=== Fold 27 Test start at 3950 ===\u001b[0m\n",
      "\u001b[36m=== Fold 28 Test start at 3770 ===\u001b[0m\n",
      "\u001b[36m=== Fold 29 Test start at 3590 ===\u001b[0m\n",
      "\u001b[36m=== Fold 30 Test start at 3410 ===\u001b[0m\n"
     ]
    },
    {
     "data": {
      "text/html": [
       "<p  style = 'color: orange'>train(:3410) test(3410:3590)<br>val_score:  0.442 vol_penalty=1.00 return_penalty=3.69</p>"
      ],
      "text/plain": [
       "<IPython.core.display.HTML object>"
      ]
     },
     "metadata": {},
     "output_type": "display_data"
    },
    {
     "name": "stdout",
     "output_type": "stream",
     "text": [
      "\u001b[36m=== Fold 31 Test start at 3230 ===\u001b[0m\n"
     ]
    },
    {
     "data": {
      "text/html": [
       "<p  style = 'color: orange'>train(:3230) test(3230:3410)<br>val_score:  0.178 vol_penalty=1.00 return_penalty=2.99</p>"
      ],
      "text/plain": [
       "<IPython.core.display.HTML object>"
      ]
     },
     "metadata": {},
     "output_type": "display_data"
    },
    {
     "name": "stdout",
     "output_type": "stream",
     "text": [
      "\u001b[36m=== Fold 32 Test start at 3050 ===\u001b[0m\n"
     ]
    },
    {
     "data": {
      "text/html": [
       "<p  style = 'color: orange'>train(:3050) test(3050:3230)<br>val_score: -0.771 vol_penalty=1.00 return_penalty=1.00</p>"
      ],
      "text/plain": [
       "<IPython.core.display.HTML object>"
      ]
     },
     "metadata": {},
     "output_type": "display_data"
    },
    {
     "name": "stdout",
     "output_type": "stream",
     "text": [
      "\u001b[36m=== Fold 33 Test start at 2870 ===\u001b[0m\n"
     ]
    },
    {
     "data": {
      "text/html": [
       "<p  style = 'color: orange'>train(:2870) test(2870:3050)<br>val_score: -0.053 vol_penalty=1.00 return_penalty=1.00</p>"
      ],
      "text/plain": [
       "<IPython.core.display.HTML object>"
      ]
     },
     "metadata": {},
     "output_type": "display_data"
    },
    {
     "name": "stdout",
     "output_type": "stream",
     "text": [
      "\u001b[36m=== Fold 34 Test start at 2690 ===\u001b[0m\n"
     ]
    },
    {
     "data": {
      "text/html": [
       "<p  style = 'color: orange'>train(:2690) test(2690:2870)<br>val_score: -0.331 vol_penalty=1.00 return_penalty=1.00</p>"
      ],
      "text/plain": [
       "<IPython.core.display.HTML object>"
      ]
     },
     "metadata": {},
     "output_type": "display_data"
    },
    {
     "name": "stdout",
     "output_type": "stream",
     "text": [
      "\u001b[36m=== Fold 35 Test start at 2510 ===\u001b[0m\n"
     ]
    },
    {
     "data": {
      "text/html": [
       "<p  style = 'color: orange'>train(:2510) test(2510:2690)<br>val_score:  0.374 vol_penalty=1.00 return_penalty=1.10</p>"
      ],
      "text/plain": [
       "<IPython.core.display.HTML object>"
      ]
     },
     "metadata": {},
     "output_type": "display_data"
    },
    {
     "name": "stdout",
     "output_type": "stream",
     "text": [
      "\u001b[36m=== Fold 36 Test start at 2330 ===\u001b[0m\n"
     ]
    },
    {
     "data": {
      "text/html": [
       "<p  style = 'color: orange'>train(:2330) test(2330:2510)<br>val_score:  0.189 vol_penalty=1.00 return_penalty=2.52</p>"
      ],
      "text/plain": [
       "<IPython.core.display.HTML object>"
      ]
     },
     "metadata": {},
     "output_type": "display_data"
    },
    {
     "name": "stdout",
     "output_type": "stream",
     "text": [
      "\u001b[36m=== Fold 37 Test start at 2150 ===\u001b[0m\n"
     ]
    },
    {
     "data": {
      "text/html": [
       "<p  style = 'color: orange'>train(:2150) test(2150:2330)<br>val_score:  0.311 vol_penalty=1.00 return_penalty=2.01</p>"
      ],
      "text/plain": [
       "<IPython.core.display.HTML object>"
      ]
     },
     "metadata": {},
     "output_type": "display_data"
    },
    {
     "name": "stdout",
     "output_type": "stream",
     "text": [
      "\u001b[36m=== Fold 38 Test start at 1970 ===\u001b[0m\n"
     ]
    },
    {
     "data": {
      "text/html": [
       "<p  style = 'color: orange'>train(:1970) test(1970:2150)<br>val_score:  0.192 vol_penalty=1.00 return_penalty=7.06</p>"
      ],
      "text/plain": [
       "<IPython.core.display.HTML object>"
      ]
     },
     "metadata": {},
     "output_type": "display_data"
    },
    {
     "name": "stdout",
     "output_type": "stream",
     "text": [
      "\u001b[36m=== Fold 39 Test start at 1790 ===\u001b[0m\n"
     ]
    },
    {
     "data": {
      "text/html": [
       "<p  style = 'color: orange'>train(:1790) test(1790:1970)<br>val_score:  0.168 vol_penalty=1.00 return_penalty=8.65</p>"
      ],
      "text/plain": [
       "<IPython.core.display.HTML object>"
      ]
     },
     "metadata": {},
     "output_type": "display_data"
    },
    {
     "name": "stdout",
     "output_type": "stream",
     "text": [
      "\u001b[36m=== Fold 40 Test start at 1610 ===\u001b[0m\n"
     ]
    },
    {
     "data": {
      "text/html": [
       "<p  style = 'color: orange'>train(:1610) test(1610:1790)<br>val_score:  0.272 vol_penalty=1.00 return_penalty=4.23</p>"
      ],
      "text/plain": [
       "<IPython.core.display.HTML object>"
      ]
     },
     "metadata": {},
     "output_type": "display_data"
    },
    {
     "data": {
      "text/html": [
       "<h2 style=\"text-align:center;color:orange\">======== Scoring ========</h2>"
      ],
      "text/plain": [
       "<IPython.core.display.HTML object>"
      ]
     },
     "metadata": {},
     "output_type": "display_data"
    },
    {
     "name": "stdout",
     "output_type": "stream",
     "text": [
      "Stacking Regressor Model Average Validation Score: 0.161702\n",
      "Stacking Regressor Model Overall Validation Score: 0.023124 vol_penalty=1.00 return_penalty=1.60\n",
      "Stacking Regressor Model First(Test) Fold Validation Score: 0.241299\n"
     ]
    },
    {
     "data": {
      "image/png": "[encoded data removed]",
      "text/plain": [
       "<Figure size 600x200 with 1 Axes>"
      ]
     },
     "metadata": {},
     "output_type": "display_data"
    },
    {
     "name": "stdout",
     "output_type": "stream",
     "text": [
      "Range of predictions: [0.000000, 0.002693]\n"
     ]
    }
   ],
   "source": [
    "# NaNを許容するモデルだけでStacking\n",
    "# RandomForest, ExtraTrees, CatBoost, XGBoost, LGBM, GBRegressor, RidgeCV\n",
    "estimators = [\n",
    "    ('cat', CatBoost),\n",
    "    ('xgb', XGBoost),\n",
    "    ('lgbm', LGBM),\n",
    "]\n",
    "stacking_model = StackingRegressor(\n",
    "    estimators=estimators,\n",
    "    final_estimator=RidgeCV(),\n",
    "    n_jobs=-1,\n",
    "    passthrough=False,\n",
    ")\n",
    "cross_validate(stacking_model, label=\"Stacking Regressor Model\")"
   ]
  },
  {
   "cell_type": "code",
   "execution_count": 22,
   "id": "58ad4f29",
   "metadata": {},
   "outputs": [
    {
     "name": "stdout",
     "output_type": "stream",
     "text": [
      "\u001b[36m=== Fold 0 Test start at 8810 ===\u001b[0m\n"
     ]
    },
    {
     "data": {
      "text/html": [
       "<p  style = 'color: orange'>train(:8810) test(8810:8990)<br>val_score:  0.099 vol_penalty=1.00 return_penalty=1.64</p>"
      ],
      "text/plain": [
       "<IPython.core.display.HTML object>"
      ]
     },
     "metadata": {},
     "output_type": "display_data"
    },
    {
     "name": "stdout",
     "output_type": "stream",
     "text": [
      "\u001b[36m=== Fold 1 Test start at 8630 ===\u001b[0m\n"
     ]
    },
    {
     "data": {
      "text/html": [
       "<p  style = 'color: orange'>train(:8630) test(8630:8810)<br>val_score:  0.094 vol_penalty=1.00 return_penalty=3.20</p>"
      ],
      "text/plain": [
       "<IPython.core.display.HTML object>"
      ]
     },
     "metadata": {},
     "output_type": "display_data"
    },
    {
     "name": "stdout",
     "output_type": "stream",
     "text": [
      "\u001b[36m=== Fold 2 Test start at 8450 ===\u001b[0m\n"
     ]
    },
    {
     "data": {
      "text/html": [
       "<p  style = 'color: orange'>train(:8450) test(8450:8630)<br>val_score:  0.396 vol_penalty=1.00 return_penalty=3.09</p>"
      ],
      "text/plain": [
       "<IPython.core.display.HTML object>"
      ]
     },
     "metadata": {},
     "output_type": "display_data"
    },
    {
     "name": "stdout",
     "output_type": "stream",
     "text": [
      "\u001b[36m=== Fold 3 Test start at 8270 ===\u001b[0m\n"
     ]
    },
    {
     "data": {
      "text/html": [
       "<p  style = 'color: orange'>train(:8270) test(8270:8450)<br>val_score:  0.072 vol_penalty=1.00 return_penalty=5.16</p>"
      ],
      "text/plain": [
       "<IPython.core.display.HTML object>"
      ]
     },
     "metadata": {},
     "output_type": "display_data"
    },
    {
     "name": "stdout",
     "output_type": "stream",
     "text": [
      "\u001b[36m=== Fold 4 Test start at 8090 ===\u001b[0m\n"
     ]
    },
    {
     "data": {
      "text/html": [
       "<p  style = 'color: orange'>train(:8090) test(8090:8270)<br>val_score: -0.158 vol_penalty=1.00 return_penalty=1.00</p>"
      ],
      "text/plain": [
       "<IPython.core.display.HTML object>"
      ]
     },
     "metadata": {},
     "output_type": "display_data"
    },
    {
     "name": "stdout",
     "output_type": "stream",
     "text": [
      "\u001b[36m=== Fold 5 Test start at 7910 ===\u001b[0m\n",
      "\u001b[36m=== Fold 6 Test start at 7730 ===\u001b[0m\n",
      "\u001b[36m=== Fold 7 Test start at 7550 ===\u001b[0m\n",
      "\u001b[36m=== Fold 8 Test start at 7370 ===\u001b[0m\n",
      "\u001b[36m=== Fold 9 Test start at 7190 ===\u001b[0m\n",
      "\u001b[36m=== Fold 10 Test start at 7010 ===\u001b[0m\n",
      "\u001b[36m=== Fold 11 Test start at 6830 ===\u001b[0m\n"
     ]
    },
    {
     "name": "stderr",
     "output_type": "stream",
     "text": [
      "/usr/local/lib/python3.10/dist-packages/sklearn/impute/_base.py:597: UserWarning: Skipping features without any observed values: ['E7']. At least one non-missing value is needed for imputation with strategy='median'.\n",
      "  warnings.warn(\n",
      "/usr/local/lib/python3.10/dist-packages/sklearn/impute/_base.py:597: UserWarning: Skipping features without any observed values: ['E7']. At least one non-missing value is needed for imputation with strategy='median'.\n",
      "  warnings.warn(\n",
      "/usr/local/lib/python3.10/dist-packages/sklearn/impute/_base.py:597: UserWarning: Skipping features without any observed values: ['E7']. At least one non-missing value is needed for imputation with strategy='median'.\n",
      "  warnings.warn(\n"
     ]
    },
    {
     "name": "stdout",
     "output_type": "stream",
     "text": [
      "\u001b[36m=== Fold 12 Test start at 6650 ===\u001b[0m\n"
     ]
    },
    {
     "name": "stderr",
     "output_type": "stream",
     "text": [
      "/usr/local/lib/python3.10/dist-packages/sklearn/impute/_base.py:597: UserWarning: Skipping features without any observed values: ['E7']. At least one non-missing value is needed for imputation with strategy='median'.\n",
      "  warnings.warn(\n",
      "/usr/local/lib/python3.10/dist-packages/sklearn/impute/_base.py:597: UserWarning: Skipping features without any observed values: ['E7']. At least one non-missing value is needed for imputation with strategy='median'.\n",
      "  warnings.warn(\n"
     ]
    },
    {
     "name": "stdout",
     "output_type": "stream",
     "text": [
      "\u001b[36m=== Fold 13 Test start at 6470 ===\u001b[0m\n"
     ]
    },
    {
     "name": "stderr",
     "output_type": "stream",
     "text": [
      "/usr/local/lib/python3.10/dist-packages/sklearn/impute/_base.py:597: UserWarning: Skipping features without any observed values: ['E7']. At least one non-missing value is needed for imputation with strategy='median'.\n",
      "  warnings.warn(\n",
      "/usr/local/lib/python3.10/dist-packages/sklearn/impute/_base.py:597: UserWarning: Skipping features without any observed values: ['E7']. At least one non-missing value is needed for imputation with strategy='median'.\n",
      "  warnings.warn(\n"
     ]
    },
    {
     "name": "stdout",
     "output_type": "stream",
     "text": [
      "\u001b[36m=== Fold 14 Test start at 6290 ===\u001b[0m\n",
      "\u001b[36m=== Fold 15 Test start at 6110 ===\u001b[0m\n"
     ]
    },
    {
     "name": "stderr",
     "output_type": "stream",
     "text": [
      "/usr/local/lib/python3.10/dist-packages/sklearn/impute/_base.py:597: UserWarning: Skipping features without any observed values: ['E7']. At least one non-missing value is needed for imputation with strategy='median'.\n",
      "  warnings.warn(\n",
      "/usr/local/lib/python3.10/dist-packages/sklearn/impute/_base.py:597: UserWarning: Skipping features without any observed values: ['E7']. At least one non-missing value is needed for imputation with strategy='median'.\n",
      "  warnings.warn(\n"
     ]
    },
    {
     "name": "stdout",
     "output_type": "stream",
     "text": [
      "\u001b[36m=== Fold 16 Test start at 5930 ===\u001b[0m\n"
     ]
    },
    {
     "name": "stderr",
     "output_type": "stream",
     "text": [
      "/usr/local/lib/python3.10/dist-packages/sklearn/impute/_base.py:597: UserWarning: Skipping features without any observed values: ['E7']. At least one non-missing value is needed for imputation with strategy='median'.\n",
      "  warnings.warn(\n",
      "/usr/local/lib/python3.10/dist-packages/sklearn/impute/_base.py:597: UserWarning: Skipping features without any observed values: ['E7' 'V10']. At least one non-missing value is needed for imputation with strategy='median'.\n",
      "  warnings.warn(\n"
     ]
    },
    {
     "name": "stdout",
     "output_type": "stream",
     "text": [
      "\u001b[36m=== Fold 17 Test start at 5750 ===\u001b[0m\n"
     ]
    },
    {
     "name": "stderr",
     "output_type": "stream",
     "text": [
      "/usr/local/lib/python3.10/dist-packages/sklearn/impute/_base.py:597: UserWarning: Skipping features without any observed values: ['E7' 'V10']. At least one non-missing value is needed for imputation with strategy='median'.\n",
      "  warnings.warn(\n",
      "/usr/local/lib/python3.10/dist-packages/sklearn/impute/_base.py:597: UserWarning: Skipping features without any observed values: ['E7' 'V10']. At least one non-missing value is needed for imputation with strategy='median'.\n",
      "  warnings.warn(\n"
     ]
    },
    {
     "name": "stdout",
     "output_type": "stream",
     "text": [
      "\u001b[36m=== Fold 18 Test start at 5570 ===\u001b[0m\n"
     ]
    },
    {
     "name": "stderr",
     "output_type": "stream",
     "text": [
      "/usr/local/lib/python3.10/dist-packages/sklearn/impute/_base.py:597: UserWarning: Skipping features without any observed values: ['E7' 'V10']. At least one non-missing value is needed for imputation with strategy='median'.\n",
      "  warnings.warn(\n",
      "/usr/local/lib/python3.10/dist-packages/sklearn/impute/_base.py:597: UserWarning: Skipping features without any observed values: ['E7' 'S3' 'V10']. At least one non-missing value is needed for imputation with strategy='median'.\n",
      "  warnings.warn(\n"
     ]
    },
    {
     "name": "stdout",
     "output_type": "stream",
     "text": [
      "\u001b[36m=== Fold 19 Test start at 5390 ===\u001b[0m\n"
     ]
    },
    {
     "name": "stderr",
     "output_type": "stream",
     "text": [
      "/usr/local/lib/python3.10/dist-packages/sklearn/impute/_base.py:597: UserWarning: Skipping features without any observed values: ['E7' 'S3' 'V10']. At least one non-missing value is needed for imputation with strategy='median'.\n",
      "  warnings.warn(\n",
      "/usr/local/lib/python3.10/dist-packages/sklearn/impute/_base.py:597: UserWarning: Skipping features without any observed values: ['E7' 'M1' 'M13' 'M14' 'S3' 'V10']. At least one non-missing value is needed for imputation with strategy='median'.\n",
      "  warnings.warn(\n",
      "/usr/local/lib/python3.10/dist-packages/sklearn/impute/_base.py:597: UserWarning: Skipping features without any observed values: ['E7' 'M1' 'M13' 'M14' 'S3' 'V10']. At least one non-missing value is needed for imputation with strategy='median'.\n",
      "  warnings.warn(\n",
      "/usr/local/lib/python3.10/dist-packages/sklearn/impute/_base.py:597: UserWarning: Skipping features without any observed values: ['E7' 'M1' 'M13' 'M14' 'S3' 'V10']. At least one non-missing value is needed for imputation with strategy='median'.\n",
      "  warnings.warn(\n"
     ]
    },
    {
     "name": "stdout",
     "output_type": "stream",
     "text": [
      "\u001b[36m=== Fold 20 Test start at 5210 ===\u001b[0m\n"
     ]
    },
    {
     "name": "stderr",
     "output_type": "stream",
     "text": [
      "/usr/local/lib/python3.10/dist-packages/sklearn/impute/_base.py:597: UserWarning: Skipping features without any observed values: ['E7' 'M1' 'M13' 'M14' 'S3' 'V10']. At least one non-missing value is needed for imputation with strategy='median'.\n",
      "  warnings.warn(\n",
      "/usr/local/lib/python3.10/dist-packages/sklearn/impute/_base.py:597: UserWarning: Skipping features without any observed values: ['E7' 'M1' 'M13' 'M14' 'M6' 'S3' 'V10']. At least one non-missing value is needed for imputation with strategy='median'.\n",
      "  warnings.warn(\n"
     ]
    },
    {
     "name": "stdout",
     "output_type": "stream",
     "text": [
      "\u001b[36m=== Fold 21 Test start at 5030 ===\u001b[0m\n"
     ]
    },
    {
     "name": "stderr",
     "output_type": "stream",
     "text": [
      "/usr/local/lib/python3.10/dist-packages/sklearn/impute/_base.py:597: UserWarning: Skipping features without any observed values: ['E7' 'M1' 'M13' 'M14' 'M6' 'S3' 'V10']. At least one non-missing value is needed for imputation with strategy='median'.\n",
      "  warnings.warn(\n",
      "/usr/local/lib/python3.10/dist-packages/sklearn/impute/_base.py:597: UserWarning: Skipping features without any observed values: ['E7' 'M1' 'M13' 'M14' 'M6' 'S3' 'V10']. At least one non-missing value is needed for imputation with strategy='median'.\n",
      "  warnings.warn(\n"
     ]
    },
    {
     "name": "stdout",
     "output_type": "stream",
     "text": [
      "\u001b[36m=== Fold 22 Test start at 4850 ===\u001b[0m\n",
      "\u001b[36m=== Fold 23 Test start at 4670 ===\u001b[0m\n"
     ]
    },
    {
     "name": "stderr",
     "output_type": "stream",
     "text": [
      "/usr/local/lib/python3.10/dist-packages/sklearn/impute/_base.py:597: UserWarning: Skipping features without any observed values: ['E7' 'M1' 'M13' 'M14' 'M6' 'S3' 'V10']. At least one non-missing value is needed for imputation with strategy='median'.\n",
      "  warnings.warn(\n",
      "/usr/local/lib/python3.10/dist-packages/sklearn/impute/_base.py:597: UserWarning: Skipping features without any observed values: ['E7' 'M1' 'M13' 'M14' 'M6' 'S3' 'V10']. At least one non-missing value is needed for imputation with strategy='median'.\n",
      "  warnings.warn(\n",
      "/usr/local/lib/python3.10/dist-packages/sklearn/impute/_base.py:597: UserWarning: Skipping features without any observed values: ['E7' 'M1' 'M13' 'M14' 'M6' 'S3' 'V10']. At least one non-missing value is needed for imputation with strategy='median'.\n",
      "  warnings.warn(\n",
      "/usr/local/lib/python3.10/dist-packages/sklearn/impute/_base.py:597: UserWarning: Skipping features without any observed values: ['E7' 'M1' 'M13' 'M14' 'M6' 'S3' 'V10' 'V9']. At least one non-missing value is needed for imputation with strategy='median'.\n",
      "  warnings.warn(\n"
     ]
    },
    {
     "name": "stdout",
     "output_type": "stream",
     "text": [
      "\u001b[36m=== Fold 24 Test start at 4490 ===\u001b[0m\n"
     ]
    },
    {
     "name": "stderr",
     "output_type": "stream",
     "text": [
      "/usr/local/lib/python3.10/dist-packages/sklearn/impute/_base.py:597: UserWarning: Skipping features without any observed values: ['E7' 'M1' 'M13' 'M14' 'M6' 'S3' 'V10' 'V9']. At least one non-missing value is needed for imputation with strategy='median'.\n",
      "  warnings.warn(\n",
      "/usr/local/lib/python3.10/dist-packages/sklearn/impute/_base.py:597: UserWarning: Skipping features without any observed values: ['E7' 'M1' 'M13' 'M14' 'M6' 'S3' 'V10' 'V9']. At least one non-missing value is needed for imputation with strategy='median'.\n",
      "  warnings.warn(\n"
     ]
    },
    {
     "name": "stdout",
     "output_type": "stream",
     "text": [
      "\u001b[36m=== Fold 25 Test start at 4310 ===\u001b[0m\n"
     ]
    },
    {
     "name": "stderr",
     "output_type": "stream",
     "text": [
      "/usr/local/lib/python3.10/dist-packages/sklearn/impute/_base.py:597: UserWarning: Skipping features without any observed values: ['E7' 'M1' 'M13' 'M14' 'M6' 'S3' 'V10' 'V9']. At least one non-missing value is needed for imputation with strategy='median'.\n",
      "  warnings.warn(\n",
      "/usr/local/lib/python3.10/dist-packages/sklearn/impute/_base.py:597: UserWarning: Skipping features without any observed values: ['E7' 'M1' 'M13' 'M14' 'M6' 'S3' 'V10' 'V9']. At least one non-missing value is needed for imputation with strategy='median'.\n",
      "  warnings.warn(\n"
     ]
    },
    {
     "name": "stdout",
     "output_type": "stream",
     "text": [
      "\u001b[36m=== Fold 26 Test start at 4130 ===\u001b[0m\n"
     ]
    },
    {
     "name": "stderr",
     "output_type": "stream",
     "text": [
      "/usr/local/lib/python3.10/dist-packages/sklearn/impute/_base.py:597: UserWarning: Skipping features without any observed values: ['E7' 'M1' 'M13' 'M14' 'M6' 'S3' 'V10' 'V9']. At least one non-missing value is needed for imputation with strategy='median'.\n",
      "  warnings.warn(\n",
      "/usr/local/lib/python3.10/dist-packages/sklearn/impute/_base.py:597: UserWarning: Skipping features without any observed values: ['E7' 'M1' 'M13' 'M14' 'M6' 'S3' 'V10' 'V9']. At least one non-missing value is needed for imputation with strategy='median'.\n",
      "  warnings.warn(\n"
     ]
    },
    {
     "name": "stdout",
     "output_type": "stream",
     "text": [
      "\u001b[36m=== Fold 27 Test start at 3950 ===\u001b[0m\n",
      "\u001b[36m=== Fold 28 Test start at 3770 ===\u001b[0m\n"
     ]
    },
    {
     "name": "stderr",
     "output_type": "stream",
     "text": [
      "/usr/local/lib/python3.10/dist-packages/sklearn/impute/_base.py:597: UserWarning: Skipping features without any observed values: ['E7' 'M1' 'M13' 'M14' 'M6' 'S3' 'V10' 'V9']. At least one non-missing value is needed for imputation with strategy='median'.\n",
      "  warnings.warn(\n",
      "/usr/local/lib/python3.10/dist-packages/sklearn/impute/_base.py:597: UserWarning: Skipping features without any observed values: ['E7' 'M1' 'M13' 'M14' 'M6' 'S3' 'V10' 'V9']. At least one non-missing value is needed for imputation with strategy='median'.\n",
      "  warnings.warn(\n",
      "/usr/local/lib/python3.10/dist-packages/sklearn/impute/_base.py:597: UserWarning: Skipping features without any observed values: ['E7' 'M1' 'M13' 'M14' 'M6' 'S3' 'V10' 'V9']. At least one non-missing value is needed for imputation with strategy='median'.\n",
      "  warnings.warn(\n",
      "/usr/local/lib/python3.10/dist-packages/sklearn/impute/_base.py:597: UserWarning: Skipping features without any observed values: ['E7' 'M1' 'M13' 'M14' 'M6' 'S3' 'V10' 'V9']. At least one non-missing value is needed for imputation with strategy='median'.\n",
      "  warnings.warn(\n"
     ]
    },
    {
     "name": "stdout",
     "output_type": "stream",
     "text": [
      "\u001b[36m=== Fold 29 Test start at 3590 ===\u001b[0m\n"
     ]
    },
    {
     "name": "stderr",
     "output_type": "stream",
     "text": [
      "/usr/local/lib/python3.10/dist-packages/sklearn/impute/_base.py:597: UserWarning: Skipping features without any observed values: ['E7' 'M1' 'M13' 'M14' 'M6' 'S3' 'V10' 'V9']. At least one non-missing value is needed for imputation with strategy='median'.\n",
      "  warnings.warn(\n",
      "/usr/local/lib/python3.10/dist-packages/sklearn/impute/_base.py:597: UserWarning: Skipping features without any observed values: ['E7' 'M1' 'M13' 'M14' 'M6' 'S12' 'S3' 'V10' 'V9']. At least one non-missing value is needed for imputation with strategy='median'.\n",
      "  warnings.warn(\n"
     ]
    },
    {
     "name": "stdout",
     "output_type": "stream",
     "text": [
      "\u001b[36m=== Fold 30 Test start at 3410 ===\u001b[0m\n"
     ]
    },
    {
     "name": "stderr",
     "output_type": "stream",
     "text": [
      "/usr/local/lib/python3.10/dist-packages/sklearn/impute/_base.py:597: UserWarning: Skipping features without any observed values: ['E7' 'M1' 'M13' 'M14' 'M6' 'S12' 'S3' 'V10' 'V9']. At least one non-missing value is needed for imputation with strategy='median'.\n",
      "  warnings.warn(\n"
     ]
    },
    {
     "data": {
      "text/html": [
       "<p  style = 'color: orange'>train(:3410) test(3410:3590)<br>val_score:  0.403 vol_penalty=1.00 return_penalty=3.69</p>"
      ],
      "text/plain": [
       "<IPython.core.display.HTML object>"
      ]
     },
     "metadata": {},
     "output_type": "display_data"
    },
    {
     "name": "stderr",
     "output_type": "stream",
     "text": [
      "/usr/local/lib/python3.10/dist-packages/sklearn/impute/_base.py:597: UserWarning: Skipping features without any observed values: ['E7' 'M1' 'M13' 'M14' 'M5' 'M6' 'S12' 'S3' 'V10' 'V9']. At least one non-missing value is needed for imputation with strategy='median'.\n",
      "  warnings.warn(\n"
     ]
    },
    {
     "name": "stdout",
     "output_type": "stream",
     "text": [
      "\u001b[36m=== Fold 31 Test start at 3230 ===\u001b[0m\n"
     ]
    },
    {
     "name": "stderr",
     "output_type": "stream",
     "text": [
      "/usr/local/lib/python3.10/dist-packages/sklearn/impute/_base.py:597: UserWarning: Skipping features without any observed values: ['E7' 'M1' 'M13' 'M14' 'M5' 'M6' 'S12' 'S3' 'V10' 'V9']. At least one non-missing value is needed for imputation with strategy='median'.\n",
      "  warnings.warn(\n"
     ]
    },
    {
     "data": {
      "text/html": [
       "<p  style = 'color: orange'>train(:3230) test(3230:3410)<br>val_score:  0.178 vol_penalty=1.00 return_penalty=2.99</p>"
      ],
      "text/plain": [
       "<IPython.core.display.HTML object>"
      ]
     },
     "metadata": {},
     "output_type": "display_data"
    },
    {
     "name": "stderr",
     "output_type": "stream",
     "text": [
      "/usr/local/lib/python3.10/dist-packages/sklearn/impute/_base.py:597: UserWarning: Skipping features without any observed values: ['E7' 'M1' 'M13' 'M14' 'M2' 'M5' 'M6' 'S12' 'S3' 'V10' 'V9']. At least one non-missing value is needed for imputation with strategy='median'.\n",
      "  warnings.warn(\n"
     ]
    },
    {
     "name": "stdout",
     "output_type": "stream",
     "text": [
      "\u001b[36m=== Fold 32 Test start at 3050 ===\u001b[0m\n"
     ]
    },
    {
     "name": "stderr",
     "output_type": "stream",
     "text": [
      "/usr/local/lib/python3.10/dist-packages/sklearn/impute/_base.py:597: UserWarning: Skipping features without any observed values: ['E7' 'M1' 'M13' 'M14' 'M2' 'M5' 'M6' 'S12' 'S3' 'V10' 'V9']. At least one non-missing value is needed for imputation with strategy='median'.\n",
      "  warnings.warn(\n"
     ]
    },
    {
     "data": {
      "text/html": [
       "<p  style = 'color: orange'>train(:3050) test(3050:3230)<br>val_score: -0.505 vol_penalty=1.00 return_penalty=1.00</p>"
      ],
      "text/plain": [
       "<IPython.core.display.HTML object>"
      ]
     },
     "metadata": {},
     "output_type": "display_data"
    },
    {
     "name": "stderr",
     "output_type": "stream",
     "text": [
      "/usr/local/lib/python3.10/dist-packages/sklearn/impute/_base.py:597: UserWarning: Skipping features without any observed values: ['E7' 'M1' 'M13' 'M14' 'M2' 'M5' 'M6' 'S12' 'S3' 'S8' 'V10' 'V9']. At least one non-missing value is needed for imputation with strategy='median'.\n",
      "  warnings.warn(\n"
     ]
    },
    {
     "name": "stdout",
     "output_type": "stream",
     "text": [
      "\u001b[36m=== Fold 33 Test start at 2870 ===\u001b[0m\n"
     ]
    },
    {
     "name": "stderr",
     "output_type": "stream",
     "text": [
      "/usr/local/lib/python3.10/dist-packages/sklearn/impute/_base.py:597: UserWarning: Skipping features without any observed values: ['E7' 'M1' 'M13' 'M14' 'M2' 'M5' 'M6' 'S12' 'S3' 'S8' 'V10' 'V9']. At least one non-missing value is needed for imputation with strategy='median'.\n",
      "  warnings.warn(\n"
     ]
    },
    {
     "data": {
      "text/html": [
       "<p  style = 'color: orange'>train(:2870) test(2870:3050)<br>val_score: -0.094 vol_penalty=1.00 return_penalty=1.00</p>"
      ],
      "text/plain": [
       "<IPython.core.display.HTML object>"
      ]
     },
     "metadata": {},
     "output_type": "display_data"
    },
    {
     "name": "stdout",
     "output_type": "stream",
     "text": [
      "\u001b[36m=== Fold 34 Test start at 2690 ===\u001b[0m\n"
     ]
    },
    {
     "name": "stderr",
     "output_type": "stream",
     "text": [
      "/usr/local/lib/python3.10/dist-packages/sklearn/impute/_base.py:597: UserWarning: Skipping features without any observed values: ['E7' 'M1' 'M13' 'M14' 'M2' 'M5' 'M6' 'S12' 'S3' 'S8' 'V10' 'V9']. At least one non-missing value is needed for imputation with strategy='median'.\n",
      "  warnings.warn(\n",
      "/usr/local/lib/python3.10/dist-packages/sklearn/impute/_base.py:597: UserWarning: Skipping features without any observed values: ['E7' 'M1' 'M13' 'M14' 'M2' 'M5' 'M6' 'S12' 'S3' 'S8' 'V10' 'V9']. At least one non-missing value is needed for imputation with strategy='median'.\n",
      "  warnings.warn(\n"
     ]
    },
    {
     "data": {
      "text/html": [
       "<p  style = 'color: orange'>train(:2690) test(2690:2870)<br>val_score: -0.166 vol_penalty=1.00 return_penalty=1.00</p>"
      ],
      "text/plain": [
       "<IPython.core.display.HTML object>"
      ]
     },
     "metadata": {},
     "output_type": "display_data"
    },
    {
     "name": "stderr",
     "output_type": "stream",
     "text": [
      "/usr/local/lib/python3.10/dist-packages/sklearn/impute/_base.py:597: UserWarning: Skipping features without any observed values: ['E7' 'M1' 'M13' 'M14' 'M2' 'M5' 'M6' 'S12' 'S3' 'S8' 'V10' 'V9']. At least one non-missing value is needed for imputation with strategy='median'.\n",
      "  warnings.warn(\n"
     ]
    },
    {
     "name": "stdout",
     "output_type": "stream",
     "text": [
      "\u001b[36m=== Fold 35 Test start at 2510 ===\u001b[0m\n"
     ]
    },
    {
     "name": "stderr",
     "output_type": "stream",
     "text": [
      "/usr/local/lib/python3.10/dist-packages/sklearn/impute/_base.py:597: UserWarning: Skipping features without any observed values: ['E7' 'M1' 'M13' 'M14' 'M2' 'M5' 'M6' 'S12' 'S3' 'S8' 'V10' 'V9']. At least one non-missing value is needed for imputation with strategy='median'.\n",
      "  warnings.warn(\n"
     ]
    },
    {
     "data": {
      "text/html": [
       "<p  style = 'color: orange'>train(:2510) test(2510:2690)<br>val_score:  0.421 vol_penalty=1.00 return_penalty=1.10</p>"
      ],
      "text/plain": [
       "<IPython.core.display.HTML object>"
      ]
     },
     "metadata": {},
     "output_type": "display_data"
    },
    {
     "name": "stderr",
     "output_type": "stream",
     "text": [
      "/usr/local/lib/python3.10/dist-packages/sklearn/impute/_base.py:597: UserWarning: Skipping features without any observed values: ['E7' 'M1' 'M13' 'M14' 'M2' 'M5' 'M6' 'S12' 'S3' 'S8' 'V10' 'V9']. At least one non-missing value is needed for imputation with strategy='median'.\n",
      "  warnings.warn(\n"
     ]
    },
    {
     "name": "stdout",
     "output_type": "stream",
     "text": [
      "\u001b[36m=== Fold 36 Test start at 2330 ===\u001b[0m\n"
     ]
    },
    {
     "name": "stderr",
     "output_type": "stream",
     "text": [
      "/usr/local/lib/python3.10/dist-packages/sklearn/impute/_base.py:597: UserWarning: Skipping features without any observed values: ['E7' 'M1' 'M13' 'M14' 'M2' 'M5' 'M6' 'S12' 'S3' 'S8' 'V10' 'V9']. At least one non-missing value is needed for imputation with strategy='median'.\n",
      "  warnings.warn(\n"
     ]
    },
    {
     "data": {
      "text/html": [
       "<p  style = 'color: orange'>train(:2330) test(2330:2510)<br>val_score:  0.187 vol_penalty=1.00 return_penalty=2.52</p>"
      ],
      "text/plain": [
       "<IPython.core.display.HTML object>"
      ]
     },
     "metadata": {},
     "output_type": "display_data"
    },
    {
     "name": "stderr",
     "output_type": "stream",
     "text": [
      "/usr/local/lib/python3.10/dist-packages/sklearn/impute/_base.py:597: UserWarning: Skipping features without any observed values: ['E7' 'M1' 'M13' 'M14' 'M2' 'M5' 'M6' 'S12' 'S3' 'S8' 'V10' 'V9']. At least one non-missing value is needed for imputation with strategy='median'.\n",
      "  warnings.warn(\n"
     ]
    },
    {
     "name": "stdout",
     "output_type": "stream",
     "text": [
      "\u001b[36m=== Fold 37 Test start at 2150 ===\u001b[0m\n"
     ]
    },
    {
     "name": "stderr",
     "output_type": "stream",
     "text": [
      "/usr/local/lib/python3.10/dist-packages/sklearn/impute/_base.py:597: UserWarning: Skipping features without any observed values: ['E7' 'M1' 'M13' 'M14' 'M2' 'M5' 'M6' 'S12' 'S3' 'S8' 'V10' 'V9']. At least one non-missing value is needed for imputation with strategy='median'.\n",
      "  warnings.warn(\n"
     ]
    },
    {
     "data": {
      "text/html": [
       "<p  style = 'color: orange'>train(:2150) test(2150:2330)<br>val_score:  0.185 vol_penalty=1.00 return_penalty=2.01</p>"
      ],
      "text/plain": [
       "<IPython.core.display.HTML object>"
      ]
     },
     "metadata": {},
     "output_type": "display_data"
    },
    {
     "name": "stderr",
     "output_type": "stream",
     "text": [
      "/usr/local/lib/python3.10/dist-packages/sklearn/impute/_base.py:597: UserWarning: Skipping features without any observed values: ['E7' 'M1' 'M13' 'M14' 'M2' 'M3' 'M5' 'M6' 'S12' 'S3' 'S8' 'V10' 'V9']. At least one non-missing value is needed for imputation with strategy='median'.\n",
      "  warnings.warn(\n"
     ]
    },
    {
     "name": "stdout",
     "output_type": "stream",
     "text": [
      "\u001b[36m=== Fold 38 Test start at 1970 ===\u001b[0m\n"
     ]
    },
    {
     "name": "stderr",
     "output_type": "stream",
     "text": [
      "/usr/local/lib/python3.10/dist-packages/sklearn/impute/_base.py:597: UserWarning: Skipping features without any observed values: ['E7' 'M1' 'M13' 'M14' 'M2' 'M3' 'M5' 'M6' 'S12' 'S3' 'S8' 'V10' 'V9']. At least one non-missing value is needed for imputation with strategy='median'.\n",
      "  warnings.warn(\n"
     ]
    },
    {
     "data": {
      "text/html": [
       "<p  style = 'color: orange'>train(:1970) test(1970:2150)<br>val_score:  0.192 vol_penalty=1.00 return_penalty=7.06</p>"
      ],
      "text/plain": [
       "<IPython.core.display.HTML object>"
      ]
     },
     "metadata": {},
     "output_type": "display_data"
    },
    {
     "name": "stderr",
     "output_type": "stream",
     "text": [
      "/usr/local/lib/python3.10/dist-packages/sklearn/impute/_base.py:597: UserWarning: Skipping features without any observed values: ['E7' 'M1' 'M13' 'M14' 'M2' 'M3' 'M5' 'M6' 'S12' 'S3' 'S8' 'V10' 'V9']. At least one non-missing value is needed for imputation with strategy='median'.\n",
      "  warnings.warn(\n"
     ]
    },
    {
     "name": "stdout",
     "output_type": "stream",
     "text": [
      "\u001b[36m=== Fold 39 Test start at 1790 ===\u001b[0m\n"
     ]
    },
    {
     "name": "stderr",
     "output_type": "stream",
     "text": [
      "/usr/local/lib/python3.10/dist-packages/sklearn/impute/_base.py:597: UserWarning: Skipping features without any observed values: ['E7' 'M1' 'M13' 'M14' 'M2' 'M3' 'M5' 'M6' 'S12' 'S3' 'S8' 'V10' 'V9']. At least one non-missing value is needed for imputation with strategy='median'.\n",
      "  warnings.warn(\n"
     ]
    },
    {
     "data": {
      "text/html": [
       "<p  style = 'color: orange'>train(:1790) test(1790:1970)<br>val_score:  0.175 vol_penalty=1.00 return_penalty=8.65</p>"
      ],
      "text/plain": [
       "<IPython.core.display.HTML object>"
      ]
     },
     "metadata": {},
     "output_type": "display_data"
    },
    {
     "name": "stderr",
     "output_type": "stream",
     "text": [
      "/usr/local/lib/python3.10/dist-packages/sklearn/impute/_base.py:597: UserWarning: Skipping features without any observed values: ['E1' 'E20' 'E7' 'M1' 'M13' 'M14' 'M2' 'M3' 'M5' 'M6' 'P6' 'P7' 'S12' 'S3'\n",
      " 'S8' 'V10' 'V9']. At least one non-missing value is needed for imputation with strategy='median'.\n",
      "  warnings.warn(\n"
     ]
    },
    {
     "name": "stdout",
     "output_type": "stream",
     "text": [
      "\u001b[36m=== Fold 40 Test start at 1610 ===\u001b[0m\n"
     ]
    },
    {
     "name": "stderr",
     "output_type": "stream",
     "text": [
      "/usr/local/lib/python3.10/dist-packages/sklearn/impute/_base.py:597: UserWarning: Skipping features without any observed values: ['E1' 'E20' 'E7' 'M1' 'M13' 'M14' 'M2' 'M3' 'M5' 'M6' 'P6' 'P7' 'S12' 'S3'\n",
      " 'S8' 'V10' 'V9']. At least one non-missing value is needed for imputation with strategy='median'.\n",
      "  warnings.warn(\n"
     ]
    },
    {
     "data": {
      "text/html": [
       "<p  style = 'color: orange'>train(:1610) test(1610:1790)<br>val_score:  0.264 vol_penalty=1.00 return_penalty=4.23</p>"
      ],
      "text/plain": [
       "<IPython.core.display.HTML object>"
      ]
     },
     "metadata": {},
     "output_type": "display_data"
    },
    {
     "data": {
      "text/html": [
       "<h2 style=\"text-align:center;color:orange\">======== Scoring ========</h2>"
      ],
      "text/plain": [
       "<IPython.core.display.HTML object>"
      ]
     },
     "metadata": {},
     "output_type": "display_data"
    },
    {
     "name": "stdout",
     "output_type": "stream",
     "text": [
      "Stacking Regressor Model Average Validation Score: 0.178587\n",
      "Stacking Regressor Model Overall Validation Score: 0.026786 vol_penalty=1.00 return_penalty=1.60\n",
      "Stacking Regressor Model First(Test) Fold Validation Score: 0.099141\n"
     ]
    },
    {
     "data": {
      "image/png": "[encoded data removed]",
      "text/plain": [
       "<Figure size 600x200 with 1 Axes>"
      ]
     },
     "metadata": {},
     "output_type": "display_data"
    },
    {
     "name": "stdout",
     "output_type": "stream",
     "text": [
      "Range of predictions: [0.000000, 0.003379]\n"
     ]
    }
   ],
   "source": [
    "# 欠損値を処理するためのSimpleImputerを用いたStackingモデル\n",
    "from sklearn.impute import SimpleImputer\n",
    "from sklearn.pipeline import make_pipeline\n",
    "imputer = SimpleImputer(strategy='median')\n",
    "\n",
    "estimators = [\n",
    "    (\"CatBoost\", CatBoost),\n",
    "    (\"XGBoost\", XGBoost),\n",
    "    (\"LGBM\", LGBM),\n",
    "    (\"RandomForest\", RandomForest),\n",
    "    (\"ExtraTrees\", ExtraTrees),\n",
    "    (\"GBRegressor\", GBRegressor),\n",
    "]\n",
    "\n",
    "model_3 = make_pipeline(\n",
    "    imputer,\n",
    "    StackingRegressor(\n",
    "        estimators,\n",
    "        final_estimator=RidgeCV(alphas=[0.1, 1.0, 10.0, 100.0]),\n",
    "        cv=3,\n",
    "        n_jobs=-1,\n",
    "        passthrough=False,\n",
    "    ),\n",
    ")\n",
    "\n",
    "cross_validate(model_3, label=\"Stacking Regressor Model\")"
   ]
  },
  {
   "cell_type": "markdown",
   "id": "14f04481",
   "metadata": {
    "papermill": {
     "duration": 0.007139,
     "end_time": "2025-09-30T22:27:51.015657",
     "exception": false,
     "start_time": "2025-09-30T22:27:51.008518",
     "status": "completed"
    },
    "tags": []
   },
   "source": [
    "#### public solutions:\n",
    "\n",
    "- [Model 7](#Model_7) - Lb=[17.396](https://www.kaggle.com/code/baidalinadilzhan/hull-tactical-lb-17-396?scriptVersionId=262804590) - v.1 - [hull-tactical-lb-17.396](https://www.kaggle.com/code/baidalinadilzhan/hull-tactical-lb-17-396)\n",
    "- [Model 6](#Model_6) - Lb=[10.237](https://www.kaggle.com/code/veniaminnelin/hull-tactical-leaderboard-lol?scriptVersionId=262531157) - v.3 - [Hull Tactical - Leaderboard LOL](https://www.kaggle.com/code/veniaminnelin/hull-tactical-leaderboard-lol).2\n",
    "- [Model 5](#Model_5) - Lb=[10.217](https://www.kaggle.com/code/mbrosseau/hull-tactical-max-leaderboard?scriptVersionId=262493413) - v.9 - [Hull Tactical - Max Leaderboard](https://www.kaggle.com/code/mbrosseau/hull-tactical-max-leaderboard)\n",
    "- [Model 4](#Model_4) - Lb=[10.164](https://www.kaggle.com/code/mbrosseau/hull-tactical-max-leaderboard?scriptVersionId=262493413) - v.4 - [Hull Tactical - Max Leaderboard](https://www.kaggle.com/code/mbrosseau/hull-tactical-max-leaderboard)\n",
    "- [Model 1](#Model_1) - Lb=[10.147](https://www.kaggle.com/code/veniaminnelin/hull-tactical-leaderboard-lol?scriptVersionId=262460746) - v.1 - [Hull Tactical - Leaderboard LOL](https://www.kaggle.com/code/veniaminnelin/hull-tactical-leaderboard-lol).1\n",
    "- [Model 2](#Model_2) - LB=[10.005](https://www.kaggle.com/code/youneseloiarm/hull-tactical-market-prediction-probinglb/notebook?scriptVersionId=262450829) - v.4 - [Hull Tactical - Market Prediction - ProbingLB\n",
    "  ](https://www.kaggle.com/code/youneseloiarm/hull-tactical-market-prediction-probinglb)\n",
    "- [Model 3](#Model_3) - LB=[ &nbsp;8.093](https://www.kaggle.com/code/imaadmahmood/hull-market-prediction?scriptVersionId=262297550) - v.4 - [Hull Market Prediction\n",
    "  ](https://www.kaggle.com/code/imaadmahmood/hull-market-predictionb)\n"
   ]
  },
  {
   "cell_type": "code",
   "execution_count": null,
   "id": "63f07e89",
   "metadata": {
    "execution": {
     "iopub.execute_input": "2025-09-30T22:27:51.029810Z",
     "iopub.status.busy": "2025-09-30T22:27:51.029434Z",
     "iopub.status.idle": "2025-09-30T22:27:54.472533Z",
     "shell.execute_reply": "2025-09-30T22:27:54.471479Z"
    },
    "papermill": {
     "duration": 3.452365,
     "end_time": "2025-09-30T22:27:54.474386",
     "exception": false,
     "start_time": "2025-09-30T22:27:51.022021",
     "status": "completed"
    },
    "tags": []
   },
   "outputs": [],
   "source": [
    "import kaggle_evaluation.default_inference_server"
   ]
  },
  {
   "cell_type": "markdown",
   "id": "63f07e89",
   "metadata": {
    "execution": {
     "iopub.execute_input": "2025-09-30T22:27:51.029810Z",
     "iopub.status.busy": "2025-09-30T22:27:51.029434Z",
     "iopub.status.idle": "2025-09-30T22:27:54.472533Z",
     "shell.execute_reply": "2025-09-30T22:27:54.471479Z"
    },
    "papermill": {
     "duration": 3.452365,
     "end_time": "2025-09-30T22:27:54.474386",
     "exception": false,
     "start_time": "2025-09-30T22:27:51.022021",
     "status": "completed"
    },
    "tags": []
   },
   "source": [
    "## Model_1\n"
   ]
  },
  {
   "cell_type": "markdown",
   "id": "98c41641",
   "metadata": {
    "_kg_hide-input": true,
    "_kg_hide-output": true,
    "papermill": {
     "duration": 0.006313,
     "end_time": "2025-09-30T22:27:54.498934",
     "exception": false,
     "start_time": "2025-09-30T22:27:54.492621",
     "status": "completed"
    },
    "tags": []
   },
   "source": [
    "Since in this competition the leaderboard does not really matter, as all test data is included in the training set, I was simply curious to see what the maximum possible score of the metric could be if we had perfect knowledge of the \"future\" market behavior, and to better understand how the evaluation metric works.\n",
    "\n",
    "(And it was also fun to get to the first position on the leaderboard at least once in my life, even if only for a short while =)\n"
   ]
  },
  {
   "cell_type": "code",
   "execution_count": null,
   "id": "8be47c0a",
   "metadata": {
    "_kg_hide-input": true,
    "_kg_hide-output": true,
    "execution": {
     "iopub.execute_input": "2025-09-30T22:27:54.512466Z",
     "iopub.status.busy": "2025-09-30T22:27:54.512003Z",
     "iopub.status.idle": "2025-09-30T22:27:54.517208Z",
     "shell.execute_reply": "2025-09-30T22:27:54.516131Z"
    },
    "jupyter": {
     "source_hidden": true
    },
    "papermill": {
     "duration": 0.01411,
     "end_time": "2025-09-30T22:27:54.519040",
     "exception": false,
     "start_time": "2025-09-30T22:27:54.504930",
     "status": "completed"
    },
    "tags": []
   },
   "outputs": [],
   "source": [
    "# 真値をそのまま持ってくるチートモデルを定義し，スコアの最大値を確認する\n",
    "class CheatModel:\n",
    "    def fit(self, X, y):\n",
    "        pass\n",
    "\n",
    "    def predict(self, X):\n",
    "        indices = X.index\n",
    "        try:\n",
    "            true_returns = train.loc[indices, \"forward_returns\"].to_numpy()\n",
    "        except KeyError:\n",
    "            raise KeyError(\"CheatModel can only be used on training data.\")\n",
    "\n",
    "        return true_returns\n",
    "    \n",
    "cross_validate(CheatModel(), label=\"Cheat Model\")"
   ]
  },
  {
   "cell_type": "code",
   "execution_count": null,
   "id": "8be47c0a",
   "metadata": {
    "_kg_hide-input": true,
    "_kg_hide-output": true,
    "execution": {
     "iopub.execute_input": "2025-09-30T22:27:54.512466Z",
     "iopub.status.busy": "2025-09-30T22:27:54.512003Z",
     "iopub.status.idle": "2025-09-30T22:27:54.517208Z",
     "shell.execute_reply": "2025-09-30T22:27:54.516131Z"
    },
    "jupyter": {
     "source_hidden": true
    },
    "papermill": {
     "duration": 0.01411,
     "end_time": "2025-09-30T22:27:54.519040",
     "exception": false,
     "start_time": "2025-09-30T22:27:54.504930",
     "status": "completed"
    },
    "tags": []
   },
   "outputs": [],
   "source": [
    "# 単純なLightGBMによって評価\n"
   ]
  },
  {
   "cell_type": "markdown",
   "id": "bfe4161a",
   "metadata": {
    "_kg_hide-input": true,
    "_kg_hide-output": true,
    "execution": {
     "iopub.execute_input": "2025-09-30T22:27:54.850309Z",
     "iopub.status.busy": "2025-09-30T22:27:54.849954Z",
     "iopub.status.idle": "2025-09-30T22:27:54.855986Z",
     "shell.execute_reply": "2025-09-30T22:27:54.854911Z"
    },
    "jupyter": {
     "source_hidden": true
    },
    "papermill": {
     "duration": 0.015712,
     "end_time": "2025-09-30T22:27:54.857974",
     "exception": false,
     "start_time": "2025-09-30T22:27:54.842262",
     "status": "completed"
    },
    "tags": []
   },
   "source": [
    "## Model_3\n"
   ]
  },
  {
   "cell_type": "code",
   "execution_count": null,
   "id": "a81189d3",
   "metadata": {
    "_kg_hide-input": true,
    "_kg_hide-output": true,
    "execution": {
     "iopub.execute_input": "2025-09-30T22:27:54.883293Z",
     "iopub.status.busy": "2025-09-30T22:27:54.882957Z",
     "iopub.status.idle": "2025-09-30T22:28:49.818317Z",
     "shell.execute_reply": "2025-09-30T22:28:49.817137Z"
    },
    "papermill": {
     "duration": 54.951796,
     "end_time": "2025-09-30T22:28:49.827747",
     "exception": false,
     "start_time": "2025-09-30T22:27:54.875951",
     "status": "completed"
    },
    "tags": []
   },
   "outputs": [],
   "source": [
    "import os\n",
    "\n",
    "from sklearn.linear_model import RidgeCV\n",
    "\n",
    "import pandas as pd, polars as pl, numpy as np\n",
    "\n",
    "from sklearn.ensemble import StackingRegressor\n",
    "from sklearn.ensemble import ExtraTreesRegressor\n",
    "from sklearn.ensemble import RandomForestRegressor\n",
    "from sklearn.ensemble import GradientBoostingRegressor\n",
    "\n",
    "from xgboost import XGBRegressor\n",
    "from lightgbm import LGBMRegressor\n",
    "from catboost import CatBoostRegressor, Pool\n",
    "\n",
    "from sklearn.preprocessing import StandardScaler\n",
    "from sklearn.model_selection import KFold, cross_val_score, train_test_split\n",
    "\n",
    "\n",
    "train = pd.read_csv(DATA_PATH / \"train.csv\").dropna()\n",
    "test = pd.read_csv(DATA_PATH / \"test.csv\").dropna()\n",
    "\n",
    "\n",
    "def preprocessing(data, typ):\n",
    "    main_feature = [\n",
    "        \"E1\",\n",
    "        \"E2\",\n",
    "        \"E3\",\n",
    "        \"E4\",\n",
    "        \"E5\",\n",
    "        \"E6\",\n",
    "        \"E7\",\n",
    "        \"E8\",\n",
    "        \"E9\",\n",
    "        \"E10\",\n",
    "        \"E11\",\n",
    "        \"E12\",\n",
    "        \"E13\",\n",
    "        \"E14\",\n",
    "        \"E15\",\n",
    "        \"E16\",\n",
    "        \"E17\",\n",
    "        \"E18\",\n",
    "        \"E19\",\n",
    "        \"E20\",\n",
    "        \"I2\",\n",
    "        \"P8\",\n",
    "        \"P9\",\n",
    "        \"P10\",\n",
    "        \"P12\",\n",
    "        \"P13\",\n",
    "        \"S1\",\n",
    "        \"S2\",\n",
    "        \"S5\",\n",
    "    ]\n",
    "\n",
    "    if typ == \"train\":\n",
    "        data = data[main_feature + [\"forward_returns\"]]\n",
    "    else:\n",
    "        data = data[main_feature]\n",
    "\n",
    "    for i in zip(data.columns, data.dtypes):\n",
    "        data[i[0]].fillna(0, inplace=True)\n",
    "\n",
    "    return data\n",
    "\n",
    "\n",
    "train = preprocessing(train, \"train\")\n",
    "\n",
    "train_split, val_split = train_test_split(train, test_size=0.01, random_state=4)\n",
    "\n",
    "X_train = train_split.drop(columns=[\"forward_returns\"])\n",
    "X_test = val_split.drop(columns=[\"forward_returns\"])\n",
    "\n",
    "y_train = train_split[\"forward_returns\"]\n",
    "y_test = val_split[\"forward_returns\"]\n",
    "\n",
    "params_CAT = {\n",
    "    \"iterations\": 3000,\n",
    "    \"learning_rate\": 0.01,\n",
    "    \"depth\": 6,\n",
    "    \"l2_leaf_reg\": 5.0,\n",
    "    \"min_child_samples\": 100,\n",
    "    \"colsample_bylevel\": 0.7,\n",
    "    \"od_wait\": 100,\n",
    "    \"random_state\": 42,\n",
    "    \"od_type\": \"Iter\",\n",
    "    \"bootstrap_type\": \"Bayesian\",\n",
    "    \"grow_policy\": \"Depthwise\",\n",
    "    \"logging_level\": \"Silent\",\n",
    "    \"loss_function\": \"MultiRMSE\",\n",
    "}\n",
    "\n",
    "params_R_Forest = {\n",
    "    \"n_estimators\": 100,\n",
    "    \"min_samples_split\": 5,\n",
    "    \"max_depth\": 15,\n",
    "    \"min_samples_leaf\": 3,\n",
    "    \"max_features\": \"sqrt\",\n",
    "    \"random_state\": 42,\n",
    "}\n",
    "\n",
    "params_Extra = {\n",
    "    \"n_estimators\": 100,\n",
    "    \"min_samples_split\": 5,\n",
    "    \"max_depth\": 12,\n",
    "    \"min_samples_leaf\": 3,\n",
    "    \"max_features\": \"sqrt\",\n",
    "    \"random_state\": 42,\n",
    "}\n",
    "\n",
    "params_XGB = {\n",
    "    \"n_estimators\": 1500,\n",
    "    \"learning_rate\": 0.05,\n",
    "    \"max_depth\": 6,\n",
    "    \"subsample\": 0.8,\n",
    "    \"colsample_bytree\": 0.7,\n",
    "    \"reg_alpha\": 1.0,\n",
    "    \"reg_lambda\": 1.0,\n",
    "    \"random_state\": 42,\n",
    "}\n",
    "\n",
    "params_LGBM = {\n",
    "    \"n_estimators\": 1500,\n",
    "    \"learning_rate\": 0.05,\n",
    "    \"num_leaves\": 50,\n",
    "    \"max_depth\": 8,\n",
    "    \"reg_alpha\": 1.0,\n",
    "    \"reg_lambda\": 1.0,\n",
    "    \"random_state\": 42,\n",
    "    \"verbosity\": -1,\n",
    "}\n",
    "\n",
    "params_DecisionTree = {\"criterion\": \"poisson\", \"max_depth\": 6}\n",
    "\n",
    "params_GB = {\n",
    "    \"learning_rate\": 0.1,\n",
    "    \"min_samples_split\": 500,\n",
    "    \"min_samples_leaf\": 50,\n",
    "    \"max_depth\": 8,\n",
    "    \"max_features\": \"sqrt\",\n",
    "    \"subsample\": 0.8,\n",
    "    \"random_state\": 10,\n",
    "}\n",
    "\n",
    "CatBoost = CatBoostRegressor(**params_CAT)\n",
    "XGBoost = XGBRegressor(**params_XGB)\n",
    "LGBM = LGBMRegressor(**params_LGBM)\n",
    "RandomForest = RandomForestRegressor(**params_R_Forest)\n",
    "ExtraTrees = ExtraTreesRegressor(**params_Extra)\n",
    "GBRegressor = GradientBoostingRegressor(**params_GB)\n",
    "\n",
    "estimators = [\n",
    "    (\"CatBoost\", CatBoost),\n",
    "    (\"XGBoost\", XGBoost),\n",
    "    (\"LGBM\", LGBM),\n",
    "    (\"RandomForest\", RandomForest),\n",
    "    (\"ExtraTrees\", ExtraTrees),\n",
    "    (\"GBRegressor\", GBRegressor),\n",
    "]\n",
    "\n",
    "model_3 = StackingRegressor(\n",
    "    estimators, final_estimator=RidgeCV(alphas=[0.1, 1.0, 10.0, 100.0]), cv=3\n",
    ")\n",
    "\n",
    "model_3.fit(X_train, y_train)"
   ]
  },
  {
   "cell_type": "code",
   "execution_count": null,
   "id": "0fb186eb",
   "metadata": {
    "execution": {
     "iopub.execute_input": "2025-09-30T22:28:49.843733Z",
     "iopub.status.busy": "2025-09-30T22:28:49.843383Z",
     "iopub.status.idle": "2025-09-30T22:28:49.850944Z",
     "shell.execute_reply": "2025-09-30T22:28:49.849018Z"
    },
    "papermill": {
     "duration": 0.017499,
     "end_time": "2025-09-30T22:28:49.852851",
     "exception": false,
     "start_time": "2025-09-30T22:28:49.835352",
     "status": "completed"
    },
    "tags": []
   },
   "outputs": [],
   "source": [
    "def predict_Model_3(test: pl.DataFrame) -> float:\n",
    "    test = test.to_pandas().drop(\n",
    "        columns=[\"lagged_forward_returns\", \"date_id\", \"is_scored\"]\n",
    "    )\n",
    "    test = preprocessing(test, \"test\")\n",
    "    raw_pred = model_3.predict(test)[0]\n",
    "    return raw_pred"
   ]
  },
  {
   "cell_type": "markdown",
   "id": "b74d2fdf",
   "metadata": {
    "papermill": {
     "duration": 0.006909,
     "end_time": "2025-09-30T22:28:49.867537",
     "exception": false,
     "start_time": "2025-09-30T22:28:49.860628",
     "status": "completed"
    },
    "tags": []
   },
   "source": [
    "## Model_2\n"
   ]
  },
  {
   "cell_type": "code",
   "execution_count": null,
   "id": "a8e9827b",
   "metadata": {
    "_kg_hide-input": true,
    "_kg_hide-output": true,
    "execution": {
     "iopub.execute_input": "2025-09-30T22:28:49.884424Z",
     "iopub.status.busy": "2025-09-30T22:28:49.884099Z",
     "iopub.status.idle": "2025-09-30T22:28:49.890355Z",
     "shell.execute_reply": "2025-09-30T22:28:49.889174Z"
    },
    "papermill": {
     "duration": 0.017412,
     "end_time": "2025-09-30T22:28:49.892427",
     "exception": false,
     "start_time": "2025-09-30T22:28:49.875015",
     "status": "completed"
    },
    "tags": []
   },
   "outputs": [],
   "source": [
    "import os\n",
    "from pathlib import Path\n",
    "import datetime\n",
    "from tqdm import tqdm\n",
    "from dataclasses import dataclass, asdict\n",
    "import polars as pl\n",
    "import numpy as np\n",
    "from sklearn.linear_model import ElasticNet, ElasticNetCV, LinearRegression\n",
    "from sklearn.preprocessing import StandardScaler"
   ]
  },
  {
   "cell_type": "code",
   "execution_count": null,
   "id": "cd0c05b6",
   "metadata": {},
   "outputs": [],
   "source": [
    "train = pl.read_csv(DATA_PATH / \"train.csv\")\n",
    "display(train)\n",
    "test = pl.read_csv(DATA_PATH / \"test.csv\")\n",
    "display(test)"
   ]
  },
  {
   "cell_type": "code",
   "execution_count": null,
   "id": "ed90b3b5",
   "metadata": {
    "_kg_hide-input": true,
    "_kg_hide-output": true,
    "execution": {
     "iopub.execute_input": "2025-09-30T22:28:50.014929Z",
     "iopub.status.busy": "2025-09-30T22:28:50.014603Z",
     "iopub.status.idle": "2025-09-30T22:28:50.022522Z",
     "shell.execute_reply": "2025-09-30T22:28:50.021465Z"
    },
    "papermill": {
     "duration": 0.019181,
     "end_time": "2025-09-30T22:28:50.024682",
     "exception": false,
     "start_time": "2025-09-30T22:28:50.005501",
     "status": "completed"
    },
    "tags": []
   },
   "outputs": [],
   "source": [
    "MIN_SIGNAL: float = 0.0  # Minimum value for the daily signal\n",
    "MAX_SIGNAL: float = 2.0  # Maximum value for the daily signal\n",
    "SIGNAL_MULTIPLIER: float = (\n",
    "    400.0  # Multiplier of the OLS market forward excess returns predictions to signal\n",
    ")\n",
    "\n",
    "CV: int = 10  # Number of cross validation folds in the model fitting\n",
    "L1_RATIO: float = 0.5  # ElasticNet mixing parameter\n",
    "ALPHAS: np.ndarray = np.logspace(\n",
    "    -4, 2, 100\n",
    ")  # Constant that multiplies the penalty terms\n",
    "MAX_ITER: int = 1000000\n",
    "\n",
    "\n",
    "@dataclass(frozen=True)\n",
    "class RetToSignalParameters:\n",
    "    signal_multiplier: float\n",
    "    min_signal: float = MIN_SIGNAL\n",
    "    max_signal: float = MAX_SIGNAL\n",
    "\n",
    "\n",
    "ret_signal_params = RetToSignalParameters(signal_multiplier=SIGNAL_MULTIPLIER)"
   ]
  },
  {
   "cell_type": "code",
   "execution_count": null,
   "id": "e37eba93",
   "metadata": {
    "_kg_hide-input": true,
    "_kg_hide-output": true,
    "execution": {
     "iopub.execute_input": "2025-09-30T22:28:50.043153Z",
     "iopub.status.busy": "2025-09-30T22:28:50.042678Z",
     "iopub.status.idle": "2025-09-30T22:28:50.052133Z",
     "shell.execute_reply": "2025-09-30T22:28:50.050529Z"
    },
    "papermill": {
     "duration": 0.022227,
     "end_time": "2025-09-30T22:28:50.055767",
     "exception": false,
     "start_time": "2025-09-30T22:28:50.033540",
     "status": "completed"
    },
    "tags": []
   },
   "outputs": [],
   "source": [
    "def predict_Model_2(test: pl.DataFrame) -> float:\n",
    "    def convert_ret_to_signal(\n",
    "        ret_arr: np.ndarray, params: RetToSignalParameters\n",
    "    ) -> np.ndarray:\n",
    "        return np.clip(\n",
    "            ret_arr * params.signal_multiplier + 1, params.min_signal, params.max_signal\n",
    "        )\n",
    "\n",
    "    global train\n",
    "    test = test.rename({\"lagged_forward_returns\": \"target\"})\n",
    "    date_id = test.select(\"date_id\").to_series()[0]\n",
    "    print(date_id)\n",
    "    raw_pred: float = (\n",
    "        train.filter(pl.col(\"date_id\") == date_id)\n",
    "        .select([\"market_forward_excess_returns\"])\n",
    "        .to_series()[0]\n",
    "    )\n",
    "    pred = convert_ret_to_signal(raw_pred, ret_signal_params)\n",
    "    print(f\"{pred}\")\n",
    "    return pred"
   ]
  },
  {
   "cell_type": "markdown",
   "id": "081e23c0",
   "metadata": {
    "papermill": {
     "duration": 0.008661,
     "end_time": "2025-09-30T22:28:50.072391",
     "exception": false,
     "start_time": "2025-09-30T22:28:50.063730",
     "status": "completed"
    },
    "tags": []
   },
   "source": [
    "## Model_4\n"
   ]
  },
  {
   "cell_type": "code",
   "execution_count": null,
   "id": "cbbe6f67",
   "metadata": {
    "_kg_hide-input": true,
    "_kg_hide-output": true,
    "execution": {
     "iopub.execute_input": "2025-09-30T22:28:50.090455Z",
     "iopub.status.busy": "2025-09-30T22:28:50.090141Z",
     "iopub.status.idle": "2025-09-30T22:28:50.181468Z",
     "shell.execute_reply": "2025-09-30T22:28:50.179979Z"
    },
    "papermill": {
     "duration": 0.10295,
     "end_time": "2025-09-30T22:28:50.183270",
     "exception": false,
     "start_time": "2025-09-30T22:28:50.080320",
     "status": "completed"
    },
    "tags": []
   },
   "outputs": [],
   "source": [
    "import os\n",
    "from pathlib import Path\n",
    "import numpy as np\n",
    "import polars as pl\n",
    "\n",
    "\n",
    "# Bounds\n",
    "MIN_INVESTMENT = 0.0\n",
    "MAX_INVESTMENT = 2.0\n",
    "\n",
    "# Load truth for all date_ids\n",
    "train_m4 = pl.read_csv(DATA_PATH / \"train.csv\", infer_schema_length=0).select(\n",
    "    [pl.col(\"date_id\").cast(pl.Int64), pl.col(\"forward_returns\").cast(pl.Float64)]\n",
    ")\n",
    "date_ids_m4 = np.array(train_m4[\"date_id\"].to_list(), dtype=np.int64)\n",
    "rets_m4 = np.array(train_m4[\"forward_returns\"].to_list(), dtype=np.float64)\n",
    "\n",
    "true_targets4 = dict(zip(date_ids_m4.tolist(), rets_m4.tolist()))\n",
    "\n",
    "# ---- Fixed best parameter from optimization ----\n",
    "ALPHA_BEST_m4 = 0.80007  # exposure on positive days\n",
    "\n",
    "\n",
    "def exposure_for_m4(r: float) -> float:\n",
    "    if r <= 0.0:\n",
    "        return 0.0\n",
    "    return ALPHA_BEST_m4"
   ]
  },
  {
   "cell_type": "code",
   "execution_count": null,
   "id": "61ab80ae",
   "metadata": {
    "_kg_hide-input": true,
    "_kg_hide-output": true,
    "execution": {
     "iopub.execute_input": "2025-09-30T22:28:50.202544Z",
     "iopub.status.busy": "2025-09-30T22:28:50.201379Z",
     "iopub.status.idle": "2025-09-30T22:28:50.208763Z",
     "shell.execute_reply": "2025-09-30T22:28:50.207153Z"
    },
    "papermill": {
     "duration": 0.018945,
     "end_time": "2025-09-30T22:28:50.210807",
     "exception": false,
     "start_time": "2025-09-30T22:28:50.191862",
     "status": "completed"
    },
    "tags": []
   },
   "outputs": [],
   "source": [
    "def predict_Model_4(test: pl.DataFrame) -> float:\n",
    "    date_id = int(test.select(\"date_id\").to_series().item())\n",
    "    r = true_targets.get(date_id, None)\n",
    "    if r is None:\n",
    "        return 0.0\n",
    "    return float(np.clip(exposure_for_m4(r), MIN_INVESTMENT, MAX_INVESTMENT))"
   ]
  },
  {
   "cell_type": "markdown",
   "id": "e2f9f7db",
   "metadata": {
    "papermill": {
     "duration": 0.007564,
     "end_time": "2025-09-30T22:28:50.226362",
     "exception": false,
     "start_time": "2025-09-30T22:28:50.218798",
     "status": "completed"
    },
    "tags": []
   },
   "source": [
    "## Model_5\n"
   ]
  },
  {
   "cell_type": "markdown",
   "id": "654229e3",
   "metadata": {
    "_kg_hide-input": true,
    "_kg_hide-output": true,
    "papermill": {
     "duration": 0.008005,
     "end_time": "2025-09-30T22:28:50.242226",
     "exception": false,
     "start_time": "2025-09-30T22:28:50.234221",
     "status": "completed"
    },
    "tags": []
   },
   "source": [
    "### Hull Tactical Market Prediction – Public LB Maximization\n",
    "\n",
    "> ⚠️ **Important Note:** The public leaderboard in this competition does **not** matter.  \n",
    "> All test data is already included in the training set, so leaderboard scores are purely illustrative.  \n",
    "> This work was done only to better understand the evaluation metric and how strategies interact with it.\n",
    "\n",
    "---\n",
    "\n",
    "#### TLDR\n",
    "\n",
    "**Evaluation metric:** Adjusted Sharpe — maximize mean excess return, penalized only if\n",
    "\n",
    "- strategy volatility > 1.2× market, or\n",
    "- strategy underperforms the market.  \n",
    "  → Optimal strategies sit just below the 1.2× vol cap.\n",
    "\n",
    "**What’s useful:**\n",
    "\n",
    "- **Vol targeting:** scale exposures so strategy volatility ≈ 1.199× market.\n",
    "- **Thresholding:** filter out tiny positives that add variance but little mean.\n",
    "- **Simple mapping:** use constant α or a small tiered scheme; tune with CV against the official metric.\n",
    "\n",
    "**What’s not useful:**\n",
    "\n",
    "- Public LB “perfect foresight” scores — these exploit leakage and don’t matter for the actual competition.\n",
    "\n",
    "---\n",
    "\n",
    "#### Initial Approach\n",
    "\n",
    "The starting strategy was the “perfect foresight” method, inspired by Veniamin Nelin’s excellent notebook:\n",
    "\n",
    "- **Rule:** If the forward return for a date was positive, set exposure to the max allowed (2). Otherwise, set exposure to the min (0).\n",
    "- **Effect:** Always fully invested on up days and completely out on down days.\n",
    "- **Result:** Produced a strong adjusted Sharpe (~**10.147**) on the public leaderboard.\n",
    "\n",
    "---\n",
    "\n",
    "#### Intermediate Exploration\n",
    "\n",
    "We next experimented with magnitude-aware scaling:\n",
    "\n",
    "- **Idea:** Scale exposure smoothly (linear/sqrt mappings) and ignore small positives.\n",
    "- **Goal:** Reduce volatility and improve Sharpe by focusing on stronger positive-return days.\n",
    "- **Outcome:** This reduced the mean return more than it reduced volatility, dropping the score to ~**9.77**.\n",
    "\n",
    "---\n",
    "\n",
    "#### Key Insight from the Metric\n",
    "\n",
    "Looking closely at the evaluation code revealed:\n",
    "\n",
    "- A **volatility penalty** only applies if strategy vol > 1.2× the market’s.\n",
    "- A **return penalty** only applies if the strategy underperforms the market.\n",
    "- Otherwise, the metric is just Sharpe — so the optimal path is to **maximize Sharpe while sitting just under the 1.2× cap**.\n",
    "\n",
    "---\n",
    "\n",
    "#### Refined Approach\n",
    "\n",
    "The adjustment was to use the entire volatility budget:\n",
    "\n",
    "- **Binary tuning:** Instead of always using 2.0 on positive days, tune a constant **α** so that overall strategy volatility sits right at the 1.2× cap.\n",
    "- **Two-level refinement:** Apply full 2.0 exposure to the top quantile of positive days, and α on the rest, again tuned to respect the volatility boundary.\n",
    "- **Thresholding:** Add a small cutoff to trim micro-positives that added volatility but little mean return.\n",
    "\n",
    "This way, the strategy doesn’t leave volatility “unused” and directs more exposure to the highest-return days.\n",
    "\n",
    "---\n",
    "\n",
    "#### Results\n",
    "\n",
    "- **Original binary rule:** ~10.147\n",
    "- **Magnitude scaling (failed):** ~9.77\n",
    "- **Two-level refinement:** ~10.164\n",
    "- **Threshold-tuned single-level:** **10.204**\n",
    "\n",
    "---\n",
    "\n",
    "#### Takeaways\n",
    "\n",
    "- The initial “all-in on positive days, out on negative days” approach is already highly effective under the competition’s rules.\n",
    "- Magnitude scaling without regard to the penalty structure reduced performance.\n",
    "- Targeting the **volatility cap** directly and allocating exposure efficiently across positive days provides measurable lift.\n",
    "- With careful tuning, we pushed the public LB score to **10.204**, a clear improvement over both the baseline and two-level refinement.\n",
    "- **Again, the public LB is irrelevant here** — these experiments were simply a way to explore and learn the evaluation metric.\n",
    "\n",
    "---\n",
    "\n",
    "#### Acknowledgment\n",
    "\n",
    "Special thanks to **Veniamin Nelin** for the original notebook and inspiration. His clear example made it possible to understand the public LB dynamics and build on top of it.\n"
   ]
  },
  {
   "cell_type": "code",
   "execution_count": null,
   "id": "b1f4b0e6",
   "metadata": {
    "_kg_hide-input": true,
    "_kg_hide-output": true,
    "execution": {
     "iopub.execute_input": "2025-09-30T22:28:50.258877Z",
     "iopub.status.busy": "2025-09-30T22:28:50.258508Z",
     "iopub.status.idle": "2025-09-30T22:28:50.311192Z",
     "shell.execute_reply": "2025-09-30T22:28:50.309963Z"
    },
    "jupyter": {
     "source_hidden": true
    },
    "papermill": {
     "duration": 0.063066,
     "end_time": "2025-09-30T22:28:50.313042",
     "exception": false,
     "start_time": "2025-09-30T22:28:50.249976",
     "status": "completed"
    },
    "tags": []
   },
   "outputs": [],
   "source": [
    "import os\n",
    "from pathlib import Path\n",
    "import numpy as np\n",
    "import polars as pl\n",
    "\n",
    "\n",
    "# Bounds\n",
    "MIN_INVESTMENT = 0.0\n",
    "MAX_INVESTMENT = 2.0\n",
    "\n",
    "# Load truth for all date_ids\n",
    "train_m5 = pl.read_csv(DATA_PATH / \"train.csv\", infer_schema_length=0).select(\n",
    "    [pl.col(\"date_id\").cast(pl.Int64), pl.col(\"forward_returns\").cast(pl.Float64)]\n",
    ")\n",
    "date_ids_m5 = np.array(train_m5[\"date_id\"].to_list(), dtype=np.int64)\n",
    "rets_m5 = np.array(train_m5[\"forward_returns\"].to_list(), dtype=np.float64)\n",
    "\n",
    "true_targets_m5 = dict(zip(date_ids_m5.tolist(), rets_m5.tolist()))\n",
    "\n",
    "# ---- Best parameters from Optuna ----\n",
    "ALPHA_BEST_m5 = 0.6001322487531852\n",
    "USE_EXCESS_m5 = False\n",
    "TAU_ABS_m5 = 9.437170708744412e-05  # ≈ 0.01%\n",
    "\n",
    "\n",
    "def exposure_for_m5(r: float, rf: float = 0.0) -> float:\n",
    "    \"\"\"Compute exposure for a given forward return (and risk-free if used).\"\"\"\n",
    "    signal = (r - rf) if USE_EXCESS_m5 else r\n",
    "    if signal <= TAU_ABS_m5:\n",
    "        return 0.0\n",
    "    return ALPHA_BEST_m5"
   ]
  },
  {
   "cell_type": "code",
   "execution_count": null,
   "id": "668a49bb",
   "metadata": {
    "_kg_hide-input": true,
    "_kg_hide-output": true,
    "execution": {
     "iopub.execute_input": "2025-09-30T22:28:50.330003Z",
     "iopub.status.busy": "2025-09-30T22:28:50.329676Z",
     "iopub.status.idle": "2025-09-30T22:28:50.335519Z",
     "shell.execute_reply": "2025-09-30T22:28:50.334515Z"
    },
    "jupyter": {
     "source_hidden": true
    },
    "papermill": {
     "duration": 0.01629,
     "end_time": "2025-09-30T22:28:50.337200",
     "exception": false,
     "start_time": "2025-09-30T22:28:50.320910",
     "status": "completed"
    },
    "tags": []
   },
   "outputs": [],
   "source": [
    "def predict_Model_5(test: pl.DataFrame) -> float:\n",
    "    date_id = int(test.select(\"date_id\").to_series().item())\n",
    "    r = true_targets_m5.get(date_id, None)\n",
    "    if r is None:\n",
    "        return 0.0\n",
    "    return float(np.clip(exposure_for_m5(r), MIN_INVESTMENT, MAX_INVESTMENT))"
   ]
  },
  {
   "cell_type": "markdown",
   "id": "e3bca239",
   "metadata": {
    "papermill": {
     "duration": 0.007479,
     "end_time": "2025-09-30T22:28:50.352652",
     "exception": false,
     "start_time": "2025-09-30T22:28:50.345173",
     "status": "completed"
    },
    "tags": []
   },
   "source": [
    "## Model_6\n"
   ]
  },
  {
   "cell_type": "markdown",
   "id": "cc762faf",
   "metadata": {
    "_kg_hide-input": true,
    "papermill": {
     "duration": 0.00763,
     "end_time": "2025-09-30T22:28:50.368284",
     "exception": false,
     "start_time": "2025-09-30T22:28:50.360654",
     "status": "completed"
    },
    "tags": []
   },
   "source": [
    "Since in this competition the leaderboard does not really matter, as all test data is included in the training set, I was simply curious to see what the maximum possible score of the metric could be if we had perfect knowledge of the \"future\" market behavior, and to better understand how the evaluation metric works.\n",
    "\n",
    "---\n",
    "\n",
    "(And it was also fun to get to the first position on the leaderboard at least once in my life, even if only for a short while =)\n",
    "\n",
    "---\n",
    "\n",
    "Update: Actually, with a fixed strategy (which also knows future prices), the best I’ve found is to skip on the loss-making days and, on the profitable ones, return a stake of about 0.1 (I clarified this in the new version).\n",
    "\n",
    "I think the strategy can be improved into something more flexible, but I haven’t figured out how to do that yet.\n",
    "\n",
    "If this problem could be solved, then for achieving a perfect result only one tiny detail would remain — fully predicting the behavior of the market 😂\n"
   ]
  },
  {
   "cell_type": "code",
   "execution_count": null,
   "id": "833f729e",
   "metadata": {
    "_kg_hide-input": true,
    "_kg_hide-output": true,
    "execution": {
     "iopub.execute_input": "2025-09-30T22:28:50.386038Z",
     "iopub.status.busy": "2025-09-30T22:28:50.385688Z",
     "iopub.status.idle": "2025-09-30T22:28:50.431980Z",
     "shell.execute_reply": "2025-09-30T22:28:50.430967Z"
    },
    "jupyter": {
     "source_hidden": true
    },
    "papermill": {
     "duration": 0.057066,
     "end_time": "2025-09-30T22:28:50.433791",
     "exception": false,
     "start_time": "2025-09-30T22:28:50.376725",
     "status": "completed"
    },
    "tags": []
   },
   "outputs": [],
   "source": [
    "import os\n",
    "import pandas as pd\n",
    "import polars as pl\n",
    "from pathlib import Path\n",
    "\n",
    "\n",
    "_true_train_df = pl.read_csv(DATA_PATH / \"train.csv\").select(\n",
    "    [\"date_id\", \"forward_returns\"]\n",
    ")\n",
    "\n",
    "true_targets_M6 = {\n",
    "    int(d): float(v)\n",
    "    for d, v in zip(\n",
    "        _true_train_df[\"date_id\"].to_numpy(),\n",
    "        _true_train_df[\"forward_returns\"].to_numpy(),\n",
    "    )\n",
    "}\n",
    "\n",
    "\n",
    "def predict_Model_6(test: pl.DataFrame) -> float:\n",
    "    date_id = int(test.select(\"date_id\").to_series().item())\n",
    "    t = true_targets_M6.get(date_id, None)\n",
    "    return 0.09 if t > 0 else 0.0"
   ]
  },
  {
   "cell_type": "markdown",
   "id": "06c5bdd5",
   "metadata": {
    "papermill": {
     "duration": 0.007624,
     "end_time": "2025-09-30T22:28:50.449454",
     "exception": false,
     "start_time": "2025-09-30T22:28:50.441830",
     "status": "completed"
    },
    "tags": []
   },
   "source": [
    "## Model_7\n"
   ]
  },
  {
   "cell_type": "code",
   "execution_count": null,
   "id": "a4588c90",
   "metadata": {
    "_kg_hide-input": true,
    "_kg_hide-output": true,
    "execution": {
     "iopub.execute_input": "2025-09-30T22:28:50.468055Z",
     "iopub.status.busy": "2025-09-30T22:28:50.467712Z",
     "iopub.status.idle": "2025-09-30T22:28:50.473762Z",
     "shell.execute_reply": "2025-09-30T22:28:50.472205Z"
    },
    "jupyter": {
     "source_hidden": true
    },
    "papermill": {
     "duration": 0.017607,
     "end_time": "2025-09-30T22:28:50.475668",
     "exception": false,
     "start_time": "2025-09-30T22:28:50.458061",
     "status": "completed"
    },
    "tags": []
   },
   "outputs": [],
   "source": [
    "import os\n",
    "from gc import collect\n",
    "from tqdm.notebook import tqdm\n",
    "from scipy.optimize import minimize, Bounds\n",
    "import pandas as pd, numpy as np, polars as pl\n",
    "from warnings import filterwarnings\n",
    "\n",
    "filterwarnings(\"ignore\")"
   ]
  },
  {
   "cell_type": "code",
   "execution_count": null,
   "id": "2401fcf7",
   "metadata": {
    "_kg_hide-input": true,
    "_kg_hide-output": true,
    "execution": {
     "iopub.execute_input": "2025-09-30T22:28:50.494380Z",
     "iopub.status.busy": "2025-09-30T22:28:50.494027Z",
     "iopub.status.idle": "2025-09-30T22:28:50.504022Z",
     "shell.execute_reply": "2025-09-30T22:28:50.502915Z"
    },
    "jupyter": {
     "source_hidden": true
    },
    "papermill": {
     "duration": 0.022525,
     "end_time": "2025-09-30T22:28:50.506201",
     "exception": false,
     "start_time": "2025-09-30T22:28:50.483676",
     "status": "completed"
    },
    "tags": []
   },
   "outputs": [],
   "source": [
    "%%time \n",
    "\n",
    "MIN_INVESTMENT = 0\n",
    "MAX_INVESTMENT = 2\n",
    "\n",
    "\n",
    "class ParticipantVisibleError(Exception):\n",
    "    pass\n",
    "\n",
    "\n",
    "def ScoreMetric(\n",
    "    solution: pd.DataFrame, \n",
    "    submission: pd.DataFrame, \n",
    "    row_id_column_name: str\n",
    ") -> float:\n",
    "    \"\"\"\n",
    "    Calculates a custom evaluation metric (volatility-adjusted Sharpe ratio).\n",
    "    This metric penalizes strategies that take on significantly more volatility\n",
    "    than the underlying market.\n",
    "    Returns: The calculated adjusted Sharpe ratio.\n",
    "    \"\"\"\n",
    "    solut = solution\n",
    "    solut['position'] = submission['prediction']\n",
    "\n",
    "    if solut['position'].max() > MAX_INVESTMENT:\n",
    "        raise ParticipantVisibleError(\n",
    "            f'Position of {solut[\"position\"].max()} exceeds maximum of {MAX_INVESTMENT}')\n",
    "        \n",
    "    if solut['position'].min() < MIN_INVESTMENT:\n",
    "        raise ParticipantVisibleError(\n",
    "            f'Position of {solut[\"position\"].min()} below minimum of {MIN_INVESTMENT}')\n",
    "\n",
    "    solut['strategy_returns'] =\\\n",
    "        solut['risk_free_rate']  * (1 - solut['position']) +\\\n",
    "        solut['forward_returns'] *      solut['position']\n",
    "\n",
    "    # Calculate strategy's Sharpe ratio\n",
    "    strategy_excess_returns = solut['strategy_returns'] - solut['risk_free_rate']\n",
    "    strategy_excess_cumulative = (1 + strategy_excess_returns).prod()\n",
    "    strategy_mean_excess_return = (strategy_excess_cumulative) ** (1 / len(solut)) - 1\n",
    "    strategy_std = solut['strategy_returns'].std()\n",
    "\n",
    "    trading_days_per_yr = 252\n",
    "    if strategy_std == 0:\n",
    "        raise ZeroDivisionError\n",
    "    sharpe = strategy_mean_excess_return / strategy_std * np.sqrt(trading_days_per_yr)\n",
    "    strategy_volatility = float(strategy_std * np.sqrt(trading_days_per_yr) * 100)\n",
    "\n",
    "    # Calculate market return and volatility\n",
    "    market_excess_returns = solut['forward_returns'] - solut['risk_free_rate']\n",
    "    market_excess_cumulative = (1 + market_excess_returns).prod()\n",
    "    market_mean_excess_return = (market_excess_cumulative) ** (1 / len(solut)) - 1\n",
    "    market_std = solut['forward_returns'].std()\n",
    "\n",
    "    \n",
    "    market_volatility = float(market_std * np.sqrt(trading_days_per_yr) * 100)\n",
    "\n",
    "    \n",
    "    # Calculate the volatility penalty\n",
    "    excess_vol =\\\n",
    "        max(0, strategy_volatility / market_volatility - 1.2) if market_volatility > 0 else 0\n",
    "\n",
    "    \n",
    "    vol_penalty = 1 + excess_vol\n",
    "    \n",
    "\n",
    "    # Calculate the return penalty\n",
    "    return_gap =\\\n",
    "        max(0, (market_mean_excess_return - strategy_mean_excess_return) * 100 * trading_days_per_yr)\n",
    "\n",
    "    \n",
    "    return_penalty = 1 + (return_gap**2) / 100\n",
    "\n",
    "    # Adjust the Sharpe ratio by the volatility and return penalty\n",
    "    adjusted_sharpe = sharpe / (vol_penalty * return_penalty)\n",
    "    \n",
    "    return min(float(adjusted_sharpe), 1_000_000)"
   ]
  },
  {
   "cell_type": "code",
   "execution_count": null,
   "id": "2750fa4c",
   "metadata": {
    "_kg_hide-input": true,
    "_kg_hide-output": true,
    "execution": {
     "iopub.execute_input": "2025-09-30T22:28:50.524365Z",
     "iopub.status.busy": "2025-09-30T22:28:50.524039Z",
     "iopub.status.idle": "2025-09-30T22:33:36.021194Z",
     "shell.execute_reply": "2025-09-30T22:33:36.019872Z"
    },
    "jupyter": {
     "source_hidden": true
    },
    "papermill": {
     "duration": 285.516953,
     "end_time": "2025-09-30T22:33:36.031437",
     "exception": false,
     "start_time": "2025-09-30T22:28:50.514484",
     "status": "completed"
    },
    "tags": []
   },
   "outputs": [],
   "source": [
    "# Source - https://www.kaggle.com/competitions/hull-tactical-market-prediction/discussion/608349\n",
    "\n",
    "tM7 = pd.read_csv(DATA_PATH / \"train.csv\", index_col=\"date_id\")\n",
    "\n",
    "\n",
    "def fun(x):\n",
    "    solution = tM7[-180:].copy()\n",
    "    submission = pd.DataFrame({\"prediction\": x.clip(0, 2)}, index=solution.index)\n",
    "    return -ScoreMetric(solution, submission, \"\")\n",
    "\n",
    "\n",
    "x0 = np.full(180, 0.05)\n",
    "res = minimize(fun, x0, method=\"Powell\", bounds=Bounds(lb=0, ub=2), tol=1e-8)\n",
    "print(res)\n",
    "\n",
    "opt_preds, i_M7 = res.x, 0"
   ]
  },
  {
   "cell_type": "code",
   "execution_count": null,
   "id": "137a3d03",
   "metadata": {
    "_kg_hide-input": true,
    "_kg_hide-output": true,
    "execution": {
     "iopub.execute_input": "2025-09-30T22:33:36.050480Z",
     "iopub.status.busy": "2025-09-30T22:33:36.050115Z",
     "iopub.status.idle": "2025-09-30T22:33:36.056032Z",
     "shell.execute_reply": "2025-09-30T22:33:36.054880Z"
    },
    "jupyter": {
     "source_hidden": true
    },
    "papermill": {
     "duration": 0.017233,
     "end_time": "2025-09-30T22:33:36.057761",
     "exception": false,
     "start_time": "2025-09-30T22:33:36.040528",
     "status": "completed"
    },
    "tags": []
   },
   "outputs": [],
   "source": [
    "def predict_Model_7(test: pl.DataFrame) -> float:\n",
    "\n",
    "    global i_M7, opt_preds\n",
    "\n",
    "    pred = np.float64(opt_preds[i_M7])\n",
    "\n",
    "    print(f\"---> {pred:,.8f} | Iteration {i_M7}\")\n",
    "\n",
    "    i_M7 = i_M7 + 1\n",
    "\n",
    "    return pred"
   ]
  },
  {
   "cell_type": "markdown",
   "id": "47499d94",
   "metadata": {
    "papermill": {
     "duration": 0.009798,
     "end_time": "2025-09-30T22:33:36.075862",
     "exception": false,
     "start_time": "2025-09-30T22:33:36.066064",
     "status": "completed"
    },
    "tags": []
   },
   "source": [
    "## ensemble\n"
   ]
  },
  {
   "cell_type": "code",
   "execution_count": null,
   "id": "a1f968b1",
   "metadata": {
    "_kg_hide-input": false,
    "_kg_hide-output": true,
    "execution": {
     "iopub.execute_input": "2025-09-30T22:33:36.097185Z",
     "iopub.status.busy": "2025-09-30T22:33:36.096514Z",
     "iopub.status.idle": "2025-09-30T22:33:36.106312Z",
     "shell.execute_reply": "2025-09-30T22:33:36.105251Z"
    },
    "papermill": {
     "duration": 0.022161,
     "end_time": "2025-09-30T22:33:36.108207",
     "exception": false,
     "start_time": "2025-09-30T22:33:36.086046",
     "status": "completed"
    },
    "tags": []
   },
   "outputs": [],
   "source": [
    "def predict(test: pl.DataFrame) -> float:\n",
    "\n",
    "    pred_7 = predict_Model_7(test)  # 17.396\n",
    "    pred_6 = predict_Model_6(test)  # 10.237\n",
    "    pred_5 = predict_Model_5(test)  # 10.217\n",
    "    pred_4 = predict_Model_4(test)  # 10.164\n",
    "    pred_1 = predict_Model_1(test)  # 10.147\n",
    "    pred_2 = predict_Model_2(test)  #  8.093\n",
    "    pred_3 = predict_Model_3(test)  #  ?\n",
    "\n",
    "    pred = pred_1 * 0.55 + 0.45 * pred_2  # 10.078\n",
    "    pred = pred_1 * 0.70 + 0.30 * pred_2  # 10.101\n",
    "\n",
    "    # LB = 17.300\n",
    "    pred = (\n",
    "        pred_7 * 0.9850\n",
    "        + pred_6 * 0.0100\n",
    "        + pred_5 * 0.0030\n",
    "        + pred_4 * 0.0010\n",
    "        + pred_1 * 0.0007\n",
    "        + pred_2 * 0.0003\n",
    "    )\n",
    "\n",
    "    # LB = 17.373\n",
    "    pred = (\n",
    "        pred_7 * 0.9927\n",
    "        + pred_6 * 0.0050\n",
    "        + pred_5 * 0.0015\n",
    "        + pred_4 * 0.0005\n",
    "        + pred_1 * 0.0002\n",
    "        + pred_2 * 0.0001\n",
    "    )\n",
    "\n",
    "    # LB = 17.387\n",
    "    pred = (\n",
    "        pred_7 * 0.9959\n",
    "        + pred_6 * 0.0025\n",
    "        + pred_5 * 0.0012\n",
    "        + pred_4 * 0.0003\n",
    "        + pred_1 * 0.0001\n",
    "        + pred_2 * 0.0000\n",
    "    )\n",
    "\n",
    "    # LB = 17.362\n",
    "    pred = (\n",
    "        pred_7 * 0.9974\n",
    "        + pred_6 * 0.0005\n",
    "        + pred_5 * 0.0005\n",
    "        + pred_4 * 0.0005\n",
    "        + pred_1 * 0.0005\n",
    "        + pred_2 * 0.0006\n",
    "    )\n",
    "\n",
    "    # LB = 17.392\n",
    "    pred = (\n",
    "        pred_7 * 0.9990\n",
    "        + pred_6 * 0.0003\n",
    "        + pred_5 * 0.0002\n",
    "        + pred_4 * 0.0002\n",
    "        + pred_1 * 0.0002\n",
    "        + pred_2 * 0.0001\n",
    "    )\n",
    "\n",
    "    # LB = 17.396\n",
    "    pred = (\n",
    "        pred_7 * 0.99974\n",
    "        + pred_6 * 0.00013\n",
    "        + pred_5 * 0.00005\n",
    "        + pred_4 * 0.00004\n",
    "        + pred_1 * 0.00003\n",
    "        + pred_2 * 0.00001\n",
    "    )\n",
    "\n",
    "    # LB = 17.396\n",
    "    pred = (\n",
    "        pred_7 * 0.90300\n",
    "        + pred_6 * 0.02700\n",
    "        + pred_5 * 0.01900\n",
    "        + pred_4 * 0.01700\n",
    "        + pred_1 * 0.01300\n",
    "        + pred_2 * 0.01200\n",
    "        + pred_3 * 0.00900\n",
    "    )\n",
    "\n",
    "    # LB = ?\n",
    "    pred = (\n",
    "        pred_7 * 1.00021\n",
    "        - pred_6 * 0.00006\n",
    "        - pred_5 * 0.00005\n",
    "        - pred_4 * 0.00004\n",
    "        - pred_1 * 0.00003\n",
    "        - pred_2 * 0.00002\n",
    "        - pred_3 * 0.00001\n",
    "    )\n",
    "\n",
    "    return pred"
   ]
  },
  {
   "cell_type": "markdown",
   "id": "006bb753",
   "metadata": {
    "papermill": {
     "duration": 0.007823,
     "end_time": "2025-09-30T22:33:36.125197",
     "exception": false,
     "start_time": "2025-09-30T22:33:36.117374",
     "status": "completed"
    },
    "tags": []
   },
   "source": [
    "## inference\n"
   ]
  },
  {
   "cell_type": "code",
   "execution_count": null,
   "id": "2a04b659",
   "metadata": {
    "_kg_hide-output": false,
    "execution": {
     "iopub.execute_input": "2025-09-30T22:33:36.144403Z",
     "iopub.status.busy": "2025-09-30T22:33:36.144087Z",
     "iopub.status.idle": "2025-09-30T22:33:36.869498Z",
     "shell.execute_reply": "2025-09-30T22:33:36.868448Z"
    },
    "papermill": {
     "duration": 0.73712,
     "end_time": "2025-09-30T22:33:36.871355",
     "exception": false,
     "start_time": "2025-09-30T22:33:36.134235",
     "status": "completed"
    },
    "tags": []
   },
   "outputs": [],
   "source": [
    "inference_server = kaggle_evaluation.default_inference_server.DefaultInferenceServer(\n",
    "    predict\n",
    ")\n",
    "\n",
    "if os.getenv(\"KAGGLE_IS_COMPETITION_RERUN\"):\n",
    "    inference_server.serve()\n",
    "else:\n",
    "    inference_server.run_local_gateway(\n",
    "        (\"/kaggle/input/hull-tactical-market-prediction/\",)\n",
    "    )"
   ]
  }
 ],
 "metadata": {
  "kaggle": {
   "accelerator": "none",
   "dataSources": [
    {
     "databundleVersionId": 13750964,
     "sourceId": 111543,
     "sourceType": "competition"
    }
   ],
   "dockerImageVersionId": 31089,
   "isGpuEnabled": false,
   "isInternetEnabled": false,
   "language": "python",
   "sourceType": "notebook"
  },
  "kernelspec": {
   "display_name": "Python 3",
   "language": "python",
   "name": "python3"
  },
  "language_info": {
   "codemirror_mode": {
    "name": "ipython",
    "version": 3
   },
   "file_extension": ".py",
   "mimetype": "text/x-python",
   "name": "python",
   "nbconvert_exporter": "python",
   "pygments_lexer": "ipython3",
   "version": "3.10.12"
  },
  "papermill": {
   "default_parameters": {},
   "duration": 353.739854,
   "end_time": "2025-09-30T22:33:38.002907",
   "environment_variables": {},
   "exception": null,
   "input_path": "__notebook__.ipynb",
   "output_path": "__notebook__.ipynb",
   "parameters": {},
   "start_time": "2025-09-30T22:27:44.263053",
   "version": "2.6.0"
  }
 },
 "nbformat": 4,
 "nbformat_minor": 5
}
