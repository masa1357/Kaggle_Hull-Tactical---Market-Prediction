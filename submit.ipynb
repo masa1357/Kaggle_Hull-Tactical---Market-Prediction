{
 "cells": [
  {
   "cell_type": "markdown",
   "id": "4da04843",
   "metadata": {},
   "source": [
    "# Hull Tactical Market Prediction"
   ]
  },
  {
   "cell_type": "markdown",
   "id": "d2358dfe",
   "metadata": {},
   "source": [
    "### Import Libralies"
   ]
  },
  {
   "cell_type": "code",
   "execution_count": 1,
   "id": "33e2c213",
   "metadata": {},
   "outputs": [],
   "source": [
    "# Utilities\n",
    "import os\n",
    "from pathlib import Path\n",
    "import pandas as pd\n",
    "import numpy as np\n",
    "\n",
    "# Visualization\n",
    "from colorama import Fore, Style\n",
    "from IPython.display import display, HTML\n",
    "import matplotlib.pyplot as plt\n",
    "from dataclasses import dataclass, asdict\n",
    "\n",
    "# Models\n",
    "import lightgbm as lgb\n",
    "\n",
    "# Submission\n",
    "import polars as pl\n",
    "import kaggle_evaluation.default_inference_server"
   ]
  },
  {
   "cell_type": "code",
   "execution_count": 2,
   "id": "7e4c475b",
   "metadata": {},
   "outputs": [],
   "source": [
    "for dirname, _, filenames in os.walk('/kaggle/input'):\n",
    "    for filename in filenames:\n",
    "        print(os.path.join(dirname, filename))"
   ]
  },
  {
   "cell_type": "code",
   "execution_count": 3,
   "id": "427f4438",
   "metadata": {},
   "outputs": [],
   "source": [
    "INNER_VAL_LEN = 180\n",
    "TRADING_DAYS_PER_YR = 252"
   ]
  },
  {
   "cell_type": "markdown",
   "id": "ad54b45d",
   "metadata": {},
   "source": [
    "### Definition"
   ]
  },
  {
   "cell_type": "code",
   "execution_count": 4,
   "id": "b41dbf93",
   "metadata": {},
   "outputs": [],
   "source": [
    "# ============ RETURNS TO SIGNAL CONFIGS ============\n",
    "MIN_SIGNAL: float = 0.0                         # Minimum value for the daily signal\n",
    "MAX_SIGNAL: float = 2.0                         # Maximum value for the daily signal\n",
    "SIGNAL_MULTIPLIER: float = 7.5                 # Multiplier of the OLS market forward excess returns predictions to signal\n",
    "\n",
    "@dataclass(frozen=True)\n",
    "class RetToSignalParameters:\n",
    "    signal_multiplier: float\n",
    "    min_signal : float = MIN_SIGNAL\n",
    "    max_signal : float = MAX_SIGNAL\n",
    "\n",
    "ret_signal_params = RetToSignalParameters(\n",
    "    signal_multiplier= SIGNAL_MULTIPLIER\n",
    ")\n",
    "\n",
    "def convert_ret_to_signal(\n",
    "    ret_arr: np.ndarray,\n",
    "    params: RetToSignalParameters,\n",
    "    signal_multiplier=None\n",
    ") -> np.ndarray:\n",
    "    \"\"\"\n",
    "    Converts raw model predictions (expected returns) into a trading signal.\n",
    "\n",
    "    Args:\n",
    "        ret_arr (np.ndarray): The array of predicted returns.\n",
    "        params (RetToSignalParameters): Parameters for scaling and clipping the signal.\n",
    "\n",
    "    Returns:\n",
    "        np.ndarray: The resulting trading signal, clipped between min and max values.\n",
    "    \"\"\"\n",
    "\n",
    "    # 予測値を基準に，投資戦略シグナルに変換\n",
    "    # ret * signal_multiplier + 1 を min_signal ~ max_signal の範囲にクリップ\n",
    "    if signal_multiplier is None:\n",
    "        multi = params.signal_multiplier\n",
    "    else:\n",
    "        multi = signal_multiplier\n",
    "\n",
    "    ret = np.clip(\n",
    "        ret_arr * multi + 1,\n",
    "        params.min_signal,\n",
    "        params.max_signal\n",
    "    )\n",
    "\n",
    "    if ret.size < 20:\n",
    "        print(f\"Strategy:\")\n",
    "        for i, value in enumerate(ret): print(f'  {i}: {value:.4f}')\n",
    "\n",
    "    return ret"
   ]
  },
  {
   "cell_type": "code",
   "execution_count": 5,
   "id": "a444b812",
   "metadata": {},
   "outputs": [
    {
     "name": "stdout",
     "output_type": "stream",
     "text": [
      "Strategy:\n",
      "  0: 2.0000\n",
      "  1: 1.7500\n",
      "  2: 2.0000\n",
      "  3: 0.0000\n",
      "  4: 2.0000\n"
     ]
    }
   ],
   "source": [
    "# convert_ret_to_signalの動作確認\n",
    "# 20個の乱数(0~1)\n",
    "hoge = convert_ret_to_signal(np.array([5, 0.1, 0.3, -0.2, 1.3]), ret_signal_params)"
   ]
  },
  {
   "cell_type": "code",
   "execution_count": 6,
   "id": "dfc2f554",
   "metadata": {},
   "outputs": [],
   "source": [
    "# ============ LOAD DATA ============\n",
    "# プラットフォームがkaggleかローカルかで分岐\n",
    "if os.getenv('KAGGLE_KERNEL_RUN_TYPE') is not None:\n",
    "    # Kaggle上\n",
    "    DATA_PATH: Path = Path('/kaggle/input/hull-tactical-market-prediction/')\n",
    "else:\n",
    "    BASE_PATH = Path.cwd()\n",
    "    DATA_PATH: Path = BASE_PATH / 'data'\n",
    "\n",
    "\n",
    "train = pd.read_csv(DATA_PATH / \"train.csv\")\n",
    "test = pd.read_csv(DATA_PATH / \"test.csv\")"
   ]
  },
  {
   "cell_type": "markdown",
   "id": "43ef6c12",
   "metadata": {},
   "source": [
    "### Scoreing"
   ]
  },
  {
   "cell_type": "code",
   "execution_count": 7,
   "id": "862dff85",
   "metadata": {},
   "outputs": [],
   "source": [
    "class ParticipantVisibleError(Exception):\n",
    "    # Custom error to show messages to participants\n",
    "    pass\n",
    "\n",
    "def score(solution: pd.DataFrame, submission: pd.DataFrame, row_id_column_name: str, intermediate_res:list = []) -> float:\n",
    "    \"\"\"\n",
    "    Calculates a custom evaluation metric (volatility-adjusted Sharpe ratio).\n",
    "\n",
    "    This metric penalizes strategies that take on significantly more volatility\n",
    "    than the underlying market.\n",
    "\n",
    "    Returns:\n",
    "        float: The calculated adjusted Sharpe ratio.\n",
    "    \"\"\"\n",
    "    solution = solution.copy().reset_index(drop=True)\n",
    "    submission = submission.copy().reset_index(drop=True)\n",
    "    solution['position'] = submission['prediction']\n",
    "\n",
    "    # ありえない値を除外する (0 <= position <= 2)\n",
    "        # 0 means that we don't invest in S & P at all but get only the risk-free rate.\n",
    "        # 1 means that we invest all our money in S & P.\n",
    "        # 2 means that we invest twice our capital in S & P while taking a credit at the risk-free rate.\n",
    "        # -> つまり，普通に預金するか，S&Pに投資するか，S&Pに2倍レバレッジで投資するか（借金）の割合\n",
    "    if solution['position'].max() > MAX_SIGNAL:\n",
    "        raise ParticipantVisibleError(f'Position of {solution[\"position\"].max()} exceeds maximum of {MAX_SIGNAL}')\n",
    "    if solution['position'].min() < MIN_SIGNAL:\n",
    "        raise ParticipantVisibleError(f'Position of {solution[\"position\"].min()} below minimum of {MIN_SIGNAL}')\n",
    "\n",
    "    # Calculate strategy returns\n",
    "    # フェデラルファンド金利(利息) * (1-予測値) + 予測値 * S&P500の翌日のリターン = 戦略のリターン(割合)\n",
    "    solution['strategy_returns'] = solution['risk_free_rate'] * (1 - solution['position']) + solution['position'] * solution['forward_returns']\n",
    "\n",
    "    # Calculate strategy's Sharpe ratio\n",
    "    # リターンとその標準偏差を用いてシャープレシオ（リスクあたりの効率）を計算\n",
    "    strategy_excess_returns = solution['strategy_returns'] - solution['risk_free_rate'] # 超過リターン -> 今回の戦略で得た割合から，リスクフリー時の割合を引いた分\n",
    "    strategy_excess_cumulative = (1 + strategy_excess_returns).prod() # 累積超過リターン -> 全期間の超過リターンをかけ合わせた分(1+で倍率に変換)\n",
    "    strategy_mean_excess_return = (strategy_excess_cumulative) ** (1 / len(solution)) - 1 # 平均超過リターン -> 複利は幾何平均で求める． また，倍率から割合に戻してる\n",
    "    strategy_std = solution['strategy_returns'].std() # リターンの標準偏差\n",
    "\n",
    "    trading_days_per_yr = 252 # 1年あたりの取引日数(固定値)\n",
    "    if strategy_std == 0:\n",
    "        raise ZeroDivisionError\n",
    "    sharpe = strategy_mean_excess_return / strategy_std * np.sqrt(trading_days_per_yr) # 年率換算したシャープレシオ. sqrt(252)をかけることで年率換算している（統計的な性質らしい）\n",
    "    strategy_volatility = float(strategy_std * np.sqrt(trading_days_per_yr) * 100)  # 年率換算したボラティリティ(価格変動率)\n",
    "\n",
    "    # Calculate market return and volatility\n",
    "    # S&P500に投資し続けた場合のリターンとボラティリティを計算\n",
    "    market_excess_returns = solution['forward_returns'] - solution['risk_free_rate'] # S&P500が利息を上回る割合\n",
    "    market_excess_cumulative = (1 + market_excess_returns).prod() # ↑の累積\n",
    "    market_mean_excess_return = (market_excess_cumulative) ** (1 / len(solution)) - 1 # train: 0.0003066067595838273 幾何平均，割合化\n",
    "    market_std = solution['forward_returns'].std() # S&P500のリターンの標準偏差\n",
    "\n",
    "    market_volatility = float(market_std * np.sqrt(trading_days_per_yr) * 100) # train: 16.748459963166347 %\n",
    "\n",
    "    # Calculate the volatility penalty\n",
    "    # ボラティリティペナルティを計算\n",
    "    # -> 市場のボラティリティの1.2倍を超える場合のペナルティ\n",
    "    excess_vol = max(0, strategy_volatility / market_volatility - 1.2) if market_volatility > 0 else 0\n",
    "    vol_penalty = 1 + excess_vol\n",
    "\n",
    "    # Calculate the return penalty\n",
    "    # リターンペナルティを計算\n",
    "    # -> 市場のリターンを下回る場合のペナルティ\n",
    "    return_gap = max(\n",
    "        0,\n",
    "        (market_mean_excess_return - strategy_mean_excess_return) * 100 * trading_days_per_yr,\n",
    "    )\n",
    "    return_penalty = 1 + (return_gap**2) / 100\n",
    "\n",
    "    # Adjust the Sharpe ratio by the volatility and return penalty\n",
    "    # ペナルティ値の反映\n",
    "    adjusted_sharpe = sharpe / (vol_penalty * return_penalty)\n",
    "\n",
    "    # print(\"strategy_excess_returns NaN数:\", solution['strategy_returns'].isna().sum())\n",
    "    # print(\"strategy_std:\", strategy_std)\n",
    "    # print(\"strategy_excess_cumulative:\", strategy_excess_cumulative)\n",
    "    # print(\"market_excess_cumulative:\", market_excess_cumulative)\n",
    "    # print(\"adjusted_sharpe:\", adjusted_sharpe)\n",
    "    try:\n",
    "        intermediate_res.append((strategy_mean_excess_return, strategy_std, sharpe, vol_penalty, return_penalty)) # 各値を記録(debug)\n",
    "        return min(float(adjusted_sharpe), 1_000_000), intermediate_res # float変換，上限100万\n",
    "    except NameError:\n",
    "        return min(float(adjusted_sharpe), 1_000_000) # float変換，上限100万"
   ]
  },
  {
   "cell_type": "markdown",
   "id": "836dbfa5",
   "metadata": {},
   "source": [
    "### Training"
   ]
  },
  {
   "cell_type": "code",
   "execution_count": 8,
   "id": "e17aa132",
   "metadata": {},
   "outputs": [],
   "source": [
    "# ====== ユーティリティ ======\n",
    "def _annualize(sigma_daily: np.ndarray) -> np.ndarray:\n",
    "    return sigma_daily * np.sqrt(252.0)\n",
    "\n",
    "def _rolling_vol_no_leak(fr: pd.Series, window_size: int) -> np.ndarray:\n",
    "    # center=False で未来不参照。序盤は expanding で埋める（過去のみ）\n",
    "    roll = fr.rolling(window=window_size, min_periods=window_size, center=False).std()\n",
    "    expd = fr.expanding(min_periods=2).std()\n",
    "    vol = roll.combine_first(expd).bfill(limit=0)\n",
    "    return vol.to_numpy()\n",
    "\n",
    "def _ewma_vol_series(fr: pd.Series, lam: float = 0.94, min_periods: int = 2) -> np.ndarray:\n",
    "    # adjust=False で逐次（未来を見ない）\n",
    "    var = (fr**2).ewm(alpha=1 - lam, adjust=False, min_periods=min_periods).mean()\n",
    "    return np.sqrt(var).to_numpy()\n",
    "\n",
    "def _make_sigma_for_period(fr_all: np.ndarray, start: int, end: int,\n",
    "                           mode=\"ewma\", lam=0.94, window=30) -> np.ndarray:\n",
    "    \"\"\"[start, end) 用 σ_t を直前の過去を使って作る（リークなし）。\"\"\"\n",
    "    warm = max(window, 20)\n",
    "    prefix_start = max(0, start - warm)\n",
    "    fr_prefix = fr_all[prefix_start:start]\n",
    "    fr_period  = fr_all[start:end]\n",
    "    fr_concat  = np.concatenate([fr_prefix, fr_period])\n",
    "    s = pd.Series(fr_concat)\n",
    "    if mode == \"rolling\":\n",
    "        sigma_all = _rolling_vol_no_leak(s, window_size=window)\n",
    "    elif mode == \"ewma\":\n",
    "        sigma_all = _ewma_vol_series(s, lam=lam, min_periods=max(2, window//4))\n",
    "    else:\n",
    "        raise ValueError(\"mode must be 'rolling' or 'ewma'\")\n",
    "    return sigma_all[-(end - start):]\n",
    "\n",
    "# ====== Phase1: 静的校正（z化）＋ soft-clip ======\n",
    "def compute_z_calibration(y_pred_inner: np.ndarray, std_scale: float = 2.0) -> tuple[float, float]:\n",
    "    \"\"\"z 正規化に使う (b, T)。b: 中央値, T: std_scale×標準偏差（ゼロ除算ガード）\"\"\"\n",
    "    y = np.asarray(y_pred_inner).reshape(-1)\n",
    "    b = float(np.median(y))\n",
    "    s = float(np.std(y, ddof=1))\n",
    "    T = max(s * std_scale, 1e-8)\n",
    "    return b, T\n",
    "\n",
    "def choose_m_soft_by_clip(z_inner: np.ndarray,\n",
    "                          T_soft: float = 1.0,\n",
    "                          target_clip: float = 0.22,\n",
    "                          m_bounds: tuple[float, float] = (0.5, 5.0)) -> float:\n",
    "    \"\"\"\n",
    "    inner の z 分布から m を自動選定。\n",
    "    1 + m*tanh(z/T_soft) の 0/2 クリップ率が target_clip に近い m を選ぶ。\n",
    "    \"\"\"\n",
    "    z = np.asarray(z_inner).reshape(-1)\n",
    "\n",
    "    def clip_rate_for(m: float) -> float:\n",
    "        # 端貼り付き条件: m * tanh(|z|/T_soft) >= 1\n",
    "        if m <= 1.0:\n",
    "            return 0.0\n",
    "        thr = T_soft * np.arctanh(1.0 / m)\n",
    "        return float(np.mean(np.abs(z) >= thr))\n",
    "\n",
    "    lo, hi = m_bounds\n",
    "    grid = np.linspace(lo, hi, 20)\n",
    "    vals = np.array([clip_rate_for(m) for m in grid])\n",
    "    m0 = float(grid[np.argmin(np.abs(vals - target_clip))])\n",
    "\n",
    "    m_lo, m_hi = max(lo, m0 - 0.5), min(hi, m0 + 0.5)\n",
    "    for _ in range(12):  # 小さな二分探索\n",
    "        m_mid = 0.5 * (m_lo + m_hi)\n",
    "        cr = clip_rate_for(m_mid)\n",
    "        if cr > target_clip:\n",
    "            m_lo = m_mid\n",
    "        else:\n",
    "            m_hi = m_mid\n",
    "    return float(np.clip(0.5 * (m_lo + m_hi), *m_bounds))\n",
    "\n",
    "def soft_clip_from_z(z: np.ndarray, m: float, T_soft: float,\n",
    "                     min_signal: float, max_signal: float) -> np.ndarray:\n",
    "    \"\"\"p = clip( 1 + m * tanh(z / T_soft), [min_signal, max_signal] )\"\"\"\n",
    "    raw = 1.0 + m * np.tanh(z / T_soft)\n",
    "    return np.clip(raw, min_signal, max_signal)\n",
    "\n",
    "# ====== Phase2: 信頼度連動レバ（|z|） ======\n",
    "def conf_m_from_z_abs(z: np.ndarray, m_lo: float = 1.0, m_hi: float = 3.0, Tm: float = 1.2) -> np.ndarray:\n",
    "    \"\"\"|z| が小さいとき m→m_lo, 大きいと m→m_hi\"\"\"\n",
    "    return m_lo + (m_hi - m_lo) * np.tanh(np.abs(z) / Tm)\n",
    "\n",
    "# ====== Phase4: ボラ・ターゲティング ======\n",
    "def vol_target_scaler(sigma_daily: np.ndarray, gamma: float = 1.10, lev_cap: float = 2.0) -> np.ndarray:\n",
    "    \"\"\"ℓ_t = min(lev_cap, σ* / (σ_t^ann + eps)), σ* = gamma * median(σ^ann)\"\"\"\n",
    "    sigma_ann = _annualize(sigma_daily)\n",
    "    sigma_ref = np.median(sigma_ann)\n",
    "    sigma_star = gamma * sigma_ref\n",
    "    return np.minimum(lev_cap, sigma_star / (sigma_ann + 1e-6))\n",
    "\n",
    "# ====== 推論パイプ（z → soft-clip → confidence → vol target） ======\n",
    "def make_allocation_from_predictions(\n",
    "    y_pred: np.ndarray,\n",
    "    *,\n",
    "    b_z: float,\n",
    "    T_z: float,\n",
    "    T_soft: float,\n",
    "    m_soft: float,\n",
    "    conf_params: tuple[float, float, float],  # (m_lo, m_hi, Tm)\n",
    "    sigma_daily: np.ndarray | None,\n",
    "    gamma: float,\n",
    "    lev_cap: float,\n",
    "    min_signal: float,\n",
    "    max_signal: float\n",
    ") -> np.ndarray:\n",
    "    \"\"\"1本のパイプで allocation を作る（リークしない前提の σ を渡すこと）。\"\"\"\n",
    "    # z 化\n",
    "    z = (y_pred - b_z) / T_z\n",
    "    # 基本 soft-clip（中心1.0）\n",
    "    p_soft = soft_clip_from_z(z, m=m_soft, T_soft=T_soft,\n",
    "                              min_signal=min_signal, max_signal=max_signal)\n",
    "    # 信頼度連動レバ（弱めから開始）\n",
    "    m_lo, m_hi, Tm = conf_params\n",
    "    m_conf = conf_m_from_z_abs(z, m_lo=m_lo, m_hi=m_hi, Tm=Tm)\n",
    "    p_conf = np.clip(1.0 + (m_conf * np.tanh(z / T_soft)), min_signal, max_signal)\n",
    "\n",
    "    # 2段構えにしたい場合は p_soft と p_conf を混合しても良いが、まずは p_conf を採用\n",
    "    p = p_conf\n",
    "\n",
    "    # ボラ・ターゲティング（σが渡されない場合はスキップ）\n",
    "    if sigma_daily is not None:\n",
    "        ell_t = vol_target_scaler(sigma_daily, gamma=gamma, lev_cap=lev_cap)\n",
    "        p = np.clip((p - 1.0) * ell_t + 1.0, min_signal, max_signal)\n",
    "\n",
    "    return p\n"
   ]
  },
  {
   "cell_type": "code",
   "execution_count": 9,
   "id": "86800ede",
   "metadata": {},
   "outputs": [],
   "source": [
    "def _split_indices(start: int, end: int, n_slices: int) -> list[tuple[int,int]]:\n",
    "    length = end - start\n",
    "    base = length // n_slices\n",
    "    rem  = length % n_slices\n",
    "    spans = []\n",
    "    cur = start\n",
    "    for i in range(n_slices):\n",
    "        w = base + (1 if i < rem else 0)\n",
    "        spans.append((cur, cur + w))\n",
    "        cur += w\n",
    "    return spans\n",
    "\n",
    "def select_hparams_pessimistic(\n",
    "    *,\n",
    "    # calib の絶対インデックス\n",
    "    calib_abs_start: int,\n",
    "    calib_abs_end: int,\n",
    "    # calib 期間の予測\n",
    "    y_pred_calib: np.ndarray,\n",
    "    # calib 期間のソリューション DF（forward_returns, risk_free_rate）\n",
    "    sol_calib: pd.DataFrame,\n",
    "    # 全系列（リークなしσ算出に使う。必須）\n",
    "    full_forward_returns: np.ndarray,   # ← 追加（y_all を渡す）\n",
    "    # z 校正パラメータ\n",
    "    b_z: float,\n",
    "    T_z: float,\n",
    "    # σ推定\n",
    "    vol_mode: str = \"ewma\",\n",
    "    lambda_ewma: float = 0.94,\n",
    "    window_size: int = 30,\n",
    "    # サブ窓分割\n",
    "    n_slices: int = 5,\n",
    "    # 目的関数の重み\n",
    "    L_var: float = 0.20,\n",
    "    L_vol: float = 10.0,\n",
    "    L_clip: float = 0.02,\n",
    "    # グリッド\n",
    "    T_soft_grid: np.ndarray = np.array([0.9, 1.0, 1.1, 1.2]),\n",
    "    target_clip_grid: np.ndarray = np.array([0.18, 0.20, 0.22, 0.24, 0.26]),\n",
    "    m_hi_grid: np.ndarray = np.array([2.0, 2.5, 3.0]),\n",
    "    Tm_grid: np.ndarray = np.array([1.0, 1.2, 1.4, 1.6]),\n",
    "    gamma_grid: np.ndarray = np.array([1.05, 1.08, 1.10]),\n",
    "    # クリップ範囲\n",
    "    min_signal: float = 0.0,\n",
    "    max_signal: float = 2.0,\n",
    ") -> dict:\n",
    "    \"\"\"\n",
    "    calib を複数サブ窓に分割し、悲観的（下振れに強い）目的でハイパラ選定。\n",
    "    必ず full_forward_returns（= y_all）を渡すこと。\n",
    "    \"\"\"\n",
    "    y_pred_calib = np.asarray(y_pred_calib).reshape(-1)\n",
    "    if len(y_pred_calib) != len(sol_calib):\n",
    "        raise ValueError(\"len(y_pred_calib) must equal len(sol_calib)\")\n",
    "\n",
    "    # サブ窓（絶対インデックス）\n",
    "    spans_abs = _split_indices(calib_abs_start, calib_abs_end, n_slices)\n",
    "\n",
    "    # z（calib 全体の b,T で固定）\n",
    "    z_all = (y_pred_calib - b_z) / T_z\n",
    "\n",
    "    best, best_eff = None, -np.inf\n",
    "\n",
    "    for T_soft in T_soft_grid:\n",
    "        for target_clip in target_clip_grid:\n",
    "            M_SOFT = choose_m_soft_by_clip(z_all, T_soft=T_soft, target_clip=target_clip)\n",
    "\n",
    "            for m_hi in m_hi_grid:\n",
    "                m_lo = 1.0\n",
    "                for Tm in Tm_grid:\n",
    "                    for gamma in gamma_grid:\n",
    "\n",
    "                        scores, vols, clips = [], [], []\n",
    "\n",
    "                        for (abs_s, abs_e) in spans_abs:\n",
    "                            # 相対インデックス（calib内のスライス）\n",
    "                            rel_s = abs_s - calib_abs_start\n",
    "                            rel_e = abs_e - calib_abs_start\n",
    "                            if rel_e - rel_s < max(20, window_size):  # 短すぎる窓はスキップ\n",
    "                                continue\n",
    "\n",
    "                            z_seg   = z_all[rel_s:rel_e]\n",
    "                            sol_seg = sol_calib.iloc[rel_s:rel_e].reset_index(drop=True)\n",
    "\n",
    "                            # 信頼度連動\n",
    "                            m_conf = conf_m_from_z_abs(z_seg, m_lo=m_lo, m_hi=m_hi, Tm=Tm)\n",
    "                            p_soft = 1.0 + m_conf * np.tanh(z_seg / T_soft)\n",
    "                            p_soft = np.clip(p_soft, min_signal, max_signal)\n",
    "\n",
    "                            # σ：全系列 y_all と絶対インデックスで作る（リークなし）\n",
    "                            sigma_daily = _make_sigma_for_period(\n",
    "                                fr_all=full_forward_returns,\n",
    "                                start=abs_s, end=abs_e,\n",
    "                                mode=vol_mode, lam=lambda_ewma, window=window_size\n",
    "                            )\n",
    "                            # 長さ整合チェック\n",
    "                            if len(sigma_daily) != len(p_soft):\n",
    "                                # 両方の長さに合わせて切る（保険）\n",
    "                                L = min(len(sigma_daily), len(p_soft))\n",
    "                                if L <= 0:\n",
    "                                    continue\n",
    "                                sigma_daily = sigma_daily[:L]\n",
    "                                p_soft = p_soft[:L]\n",
    "                                sol_seg = sol_seg.iloc[:L].reset_index(drop=True)\n",
    "\n",
    "                            ell_t = vol_target_scaler(sigma_daily, gamma=gamma, lev_cap=2.0)\n",
    "                            p = np.clip((p_soft - 1.0) * ell_t + 1.0, min_signal, max_signal)\n",
    "\n",
    "                            sub = pd.DataFrame({\"prediction\": p}).reset_index(drop=True)\n",
    "                            sc, inter = score(sol_seg.copy(), sub, \"\", [])\n",
    "                            scores.append(sc)\n",
    "\n",
    "                            # 罰則量\n",
    "                            vol_pen = inter[-1][3] if inter else 1.0\n",
    "                            vols.append(max(0.0, vol_pen - 1.0))\n",
    "                            clips.append(float(np.mean(p >= max_signal)))\n",
    "\n",
    "                        if not scores:\n",
    "                            continue\n",
    "\n",
    "                        scores = np.array(scores, dtype=float)\n",
    "                        vols   = np.array(vols, dtype=float)\n",
    "                        clips  = np.array(clips, dtype=float)\n",
    "\n",
    "                        eff = np.median(scores) \\\n",
    "                              - L_var * np.std(scores) \\\n",
    "                              - L_vol * np.mean(vols**2) \\\n",
    "                              - L_clip * np.mean(clips)\n",
    "\n",
    "                        if eff > best_eff:\n",
    "                            best_eff = eff\n",
    "                            best = dict(\n",
    "                                T_soft=float(T_soft),\n",
    "                                target_clip=float(target_clip),\n",
    "                                m_lo=float(m_lo),\n",
    "                                m_hi=float(m_hi),\n",
    "                                Tm=float(Tm),\n",
    "                                gamma=float(gamma),\n",
    "                                score_eff=float(eff),\n",
    "                                score_median=float(np.median(scores)),\n",
    "                                score_std=float(np.std(scores)),\n",
    "                            )\n",
    "\n",
    "    return best or {}\n"
   ]
  },
  {
   "cell_type": "code",
   "execution_count": 10,
   "id": "4d1585ab",
   "metadata": {},
   "outputs": [],
   "source": [
    "score_list_dict = {}\n",
    "\n",
    "def cross_validate(\n",
    "    allocation_model,\n",
    "    label: str = \"\",\n",
    "    min_train_size: int = 3000,\n",
    "    eval_size: int = 180,            # 旧: test_size\n",
    "    *,\n",
    "    calib_len: int = 720,            # 旧: INNER_VAL_LEN\n",
    "    vol_mode: str = \"ewma\",\n",
    "    lambda_ewma: float = 0.94,\n",
    "    window_size: int = 30,\n",
    "    std_scale: float = 2.0,\n",
    "    T_soft_init: float = 1.0,\n",
    "    target_clip: float = 0.22,\n",
    "    conf_params: tuple = (1.0, 3.0, 1.2),  # (m_lo, m_hi, Tm)\n",
    "    gamma: float = 1.10,\n",
    "    lev_cap: float = 2.0\n",
    "):\n",
    "    \"\"\"\n",
    "    時系列CV（calib→eval→holdout）\n",
    "      - calib: 直前区間。z校正(b,T)とm_soft決定に使用（リークなし）\n",
    "      - eval : 各fold評価区間（旧test）\n",
    "      - holdout: 最後180（LB相当、固定）。各fold学習モデルで一貫パイプ評価\n",
    "    \"\"\"\n",
    "    n = len(train)\n",
    "    oof = np.full(n, np.nan, dtype=float)\n",
    "    eval_scores, holdout_scores, intermediate_res = [], [], []\n",
    "\n",
    "    # 特徴列\n",
    "    drop_cols = [\"date_id\", \"forward_returns\", \"risk_free_rate\", \"market_forward_excess_returns\"]\n",
    "    feature_cols = [c for c in train.columns if c not in drop_cols]\n",
    "    X_all = train[feature_cols]\n",
    "    y_all = train[\"forward_returns\"].to_numpy()\n",
    "    rfr_all = train[\"risk_free_rate\"].to_numpy()\n",
    "\n",
    "    # holdout（最後180固定）\n",
    "    holdout_start = max(0, n - 180)\n",
    "    X_holdout = X_all.iloc[holdout_start:]\n",
    "    sol_holdout = pd.DataFrame({\n",
    "        \"forward_returns\": y_all[holdout_start:],\n",
    "        \"risk_free_rate\":  rfr_all[holdout_start:],\n",
    "    }).reset_index(drop=True)\n",
    "\n",
    "    for fold, eval_start in enumerate(range(n - eval_size, min_train_size, -eval_size)):\n",
    "        print(Fore.CYAN + f\"=== Fold {fold} Eval start at {eval_start} ===\" + Style.RESET_ALL)\n",
    "        eval_end = eval_start + eval_size\n",
    "\n",
    "        # ---- split ----\n",
    "        X_train = X_all.iloc[:eval_start]\n",
    "        X_eval  = X_all.iloc[eval_start:eval_end]\n",
    "        y_eval  = y_all[eval_start:eval_end]   # デバッグ用\n",
    "        sol_eval = pd.DataFrame({\n",
    "            \"forward_returns\": y_all[eval_start:eval_end],\n",
    "            \"risk_free_rate\":  rfr_all[eval_start:eval_end],\n",
    "        }).reset_index(drop=True)\n",
    "\n",
    "        calib_start = max(0, eval_start - calib_len)\n",
    "        X_calib = X_all.iloc[calib_start:eval_start]\n",
    "        y_calib = y_all[calib_start:eval_start]\n",
    "        sol_calib = pd.DataFrame({\n",
    "            \"forward_returns\": y_all[calib_start:eval_start],\n",
    "            \"risk_free_rate\":  rfr_all[calib_start:eval_start],\n",
    "        }).reset_index(drop=True)\n",
    "\n",
    "        # ---- fit ----\n",
    "        allocation_model.fit(X_train, y_all[:eval_start])\n",
    "\n",
    "        # ---- calib: z校正 & m_soft 決定 ----\n",
    "        y_pred_calib = allocation_model.predict(X_calib)\n",
    "        b_z, T_z = compute_z_calibration(y_pred_calib, std_scale=std_scale)\n",
    "        z_calib = (y_pred_calib - b_z) / T_z\n",
    "        # T_SOFT = T_soft_init\n",
    "        # M_SOFT = choose_m_soft_by_clip(z_calib, T_soft=T_SOFT, target_clip=target_clip)\n",
    "\n",
    "        # ---- 悲観的ハイパラ選定（calib を複数サブ窓で評価）----\n",
    "        best = select_hparams_pessimistic(\n",
    "            calib_abs_start=calib_start,\n",
    "            calib_abs_end=eval_start,\n",
    "            y_pred_calib=y_pred_calib,\n",
    "            sol_calib=sol_calib,\n",
    "            full_forward_returns=y_all,   # ★ ここを必ず渡す\n",
    "            b_z=b_z, T_z=T_z,\n",
    "            vol_mode=vol_mode, lambda_ewma=lambda_ewma, window_size=window_size,\n",
    "            n_slices=5,\n",
    "            L_var=0.20, L_vol=10.0, L_clip=0.02,\n",
    "            T_soft_grid=np.array([0.9, 1.0, 1.1, 1.2]),\n",
    "            target_clip_grid=np.array([0.18, 0.20, 0.22, 0.24, 0.26]),\n",
    "            m_hi_grid=np.array([2.0, 2.5, 3.0]),\n",
    "            Tm_grid=np.array([1.0, 1.2, 1.4, 1.6]),\n",
    "            gamma_grid=np.array([1.05, 1.08, 1.10]),\n",
    "            min_signal=ret_signal_params.min_signal,\n",
    "            max_signal=ret_signal_params.max_signal,\n",
    "        )\n",
    "\n",
    "        # fallback（念のため）\n",
    "        if not best:\n",
    "            T_SOFT = T_soft_init\n",
    "            M_SOFT = choose_m_soft_by_clip(z_calib, T_soft=T_SOFT, target_clip=target_clip)\n",
    "            m_lo, m_hi, Tm = conf_params\n",
    "            GAMMA = gamma\n",
    "        else:\n",
    "            T_SOFT = best['T_soft']\n",
    "            # calib 全体の z で target_clip を満たす M_SOFT を再計算\n",
    "            M_SOFT = choose_m_soft_by_clip(z_calib, T_soft=T_SOFT, target_clip=best['target_clip'])\n",
    "            m_lo, m_hi, Tm = 1.0, best['m_hi'], best['Tm']\n",
    "            GAMMA = best['gamma']\n",
    "\n",
    "        print(f\"[calib/pessimistic] T_SOFT={T_SOFT:.2f}, M_SOFT={M_SOFT:.3f}, \"\n",
    "          f\"m_lo={m_lo:.1f}, m_hi={m_hi:.1f}, Tm={Tm:.2f}, gamma={GAMMA:.2f}\")\n",
    "\n",
    "\n",
    "        # ---- eval: 予測 → 配分 ----\n",
    "        y_pred_eval = allocation_model.predict(X_eval)\n",
    "        sigma_eval_daily = _make_sigma_for_period(y_all, eval_start, eval_end,\n",
    "                                                mode=vol_mode, lam=lambda_ewma, window=window_size)\n",
    "        alloc_eval = make_allocation_from_predictions(\n",
    "            y_pred_eval,\n",
    "            b_z=b_z, T_z=T_z,\n",
    "            T_soft=T_SOFT, m_soft=M_SOFT,\n",
    "            conf_params=(m_lo, m_hi, Tm),\n",
    "            sigma_daily=sigma_eval_daily,\n",
    "            gamma=GAMMA, lev_cap=lev_cap,\n",
    "            min_signal=ret_signal_params.min_signal,\n",
    "            max_signal=ret_signal_params.max_signal,\n",
    "        )\n",
    "\n",
    "        sub_eval = pd.DataFrame({\"prediction\": alloc_eval}).reset_index(drop=True)\n",
    "        eval_score, intermediate_res = score(sol_eval, sub_eval, \"\", intermediate_res)\n",
    "\n",
    "        # ---- holdout（最後180）：同一パイプで評価 ----\n",
    "        y_pred_holdout = allocation_model.predict(X_holdout)\n",
    "        sigma_holdout_daily = _make_sigma_for_period(\n",
    "            y_all, holdout_start, n, mode=vol_mode, lam=lambda_ewma, window=window_size\n",
    "        )\n",
    "\n",
    "        alloc_holdout = make_allocation_from_predictions(\n",
    "            y_pred_holdout,\n",
    "            b_z=b_z, T_z=T_z,\n",
    "            T_soft=T_SOFT, m_soft=M_SOFT,\n",
    "            conf_params=(m_lo, m_hi, Tm),\n",
    "            sigma_daily=sigma_holdout_daily,\n",
    "            gamma=GAMMA, lev_cap=lev_cap,\n",
    "            min_signal=ret_signal_params.min_signal,\n",
    "            max_signal=ret_signal_params.max_signal,\n",
    "        )\n",
    "        sub_holdout = pd.DataFrame({\"prediction\": alloc_holdout}).reset_index(drop=True)\n",
    "        holdout_score, inter2 = score(sol_holdout, sub_holdout, \"\", intermediate_res)\n",
    "\n",
    "        # ---- ログ ----\n",
    "        clip0 = np.mean(alloc_eval <= ret_signal_params.min_signal) * 100\n",
    "        clip2 = np.mean(alloc_eval >= ret_signal_params.max_signal) * 100\n",
    "        if inter2:\n",
    "            _, _, sharpe, vol_pen, ret_pen = inter2[-1]\n",
    "            print(f\"[holdout] sharpe={sharpe:.3f} vol_pen={vol_pen:.2f} ret_pen={ret_pen:.2f}\")\n",
    "            lo = np.mean(alloc_holdout <= ret_signal_params.min_signal)\n",
    "            hi = np.mean(alloc_holdout >= ret_signal_params.max_signal)\n",
    "            print(f\"[holdout] clip@0={lo:.2%}, clip@2={hi:.2%}\")\n",
    "        print(f\"[calib]  M_SOFT={M_SOFT:.3f}, T_SOFT={T_SOFT:.2f}, target clip≈{int(target_clip*100)}%\")\n",
    "        print(f\"[eval ]  clip@0={clip0:.2f}% clip@2={clip2:.2f}%\")\n",
    "\n",
    "        display(HTML(\n",
    "            f\"<p style='color: orange'>\"\n",
    "            f\"train(:{eval_start:4}) eval({eval_start:4}:{eval_end:4})<br>\"\n",
    "            f\"eval_score: {eval_score:6.3f}<br>\"\n",
    "            f\"holdout(last180) score: {holdout_score:.6f}<br>\"\n",
    "            f\"z-calib: b={b_z:.3e}, T={T_z:.3e}, M_SOFT={M_SOFT:.3f}, T_SOFT={T_SOFT:.2f}\"\n",
    "            f\"</p>\"\n",
    "        ))\n",
    "\n",
    "        oof[eval_start:eval_end] = alloc_eval\n",
    "        eval_scores.append(eval_score)\n",
    "        holdout_scores.append(holdout_score)\n",
    "\n",
    "    # ===== 集計表示 =====\n",
    "    submit_model = allocation_model\n",
    "    display(HTML('<h2 style=\"text-align:center;color:orange\">======== Result ========</h2>'))\n",
    "    avg_eval = float(np.nanmean(eval_scores)) if len(eval_scores) else np.nan\n",
    "    print(f\"{label} Average Eval Score: {avg_eval:.6f}\")\n",
    "\n",
    "    # OOF 全体スコア\n",
    "    mask = np.isfinite(oof)\n",
    "    if np.any(mask):\n",
    "        solution_all = pd.DataFrame({\n",
    "            \"forward_returns\": y_all[mask],\n",
    "            \"risk_free_rate\":  rfr_all[mask],\n",
    "        }).reset_index(drop=True)\n",
    "        submission_all = pd.DataFrame({'prediction': oof[mask]}).reset_index(drop=True)\n",
    "        overall_score, inter_all = score(solution_all, submission_all, '', [])\n",
    "        vol_penalty = inter_all[-1][3] if inter_all else np.nan\n",
    "        return_penalty = inter_all[-1][4] if inter_all else np.nan\n",
    "        print(f\"{label} Overall OOF Score: {overall_score:.6f} vol_penalty={vol_penalty:.2f} return_penalty={return_penalty:.2f}\")\n",
    "    else:\n",
    "        print(f\"{label} Overall OOF Score: NaN (no valid OOF)\")\n",
    "\n",
    "    # ====== 追加: 各foldの holdout スコアのばらつき可視化 ======\n",
    "    if holdout_scores:\n",
    "        holdout_scores = np.array(holdout_scores, dtype=float)\n",
    "        mu, sd = float(np.mean(holdout_scores)), float(np.std(holdout_scores))\n",
    "        print(Fore.YELLOW + f\"[holdout] mean={mu:.3f}, std={sd:.3f}\" + Style.RESET_ALL)\n",
    "\n",
    "        plt.figure(figsize=(6.5, 2.6))\n",
    "        plt.plot(holdout_scores, marker='o', linewidth=1)\n",
    "        plt.axhline(mu, linestyle='--')\n",
    "        plt.title(f\"Holdout (last180) scores per fold — mean={mu:.3f}, std={sd:.3f}\")\n",
    "        plt.xlabel(\"Fold index\")\n",
    "        plt.ylabel(\"Score\")\n",
    "        plt.tight_layout()\n",
    "        plt.show()\n",
    "\n",
    "    score_list_dict[label] = eval_scores\n",
    "    if eval_scores:\n",
    "        print(f\"{label} First Eval Fold Score: {eval_scores[0]:.6f}\")\n",
    "    if holdout_scores.size:\n",
    "        print(Fore.YELLOW + f\"{label} Holdout Score (avg over folds using each model): {holdout_scores.mean():.3f}\" + Style.RESET_ALL)\n",
    "\n",
    "    # ヒスト（OOF）\n",
    "    if np.any(mask):\n",
    "        vals = oof[mask]\n",
    "        vmin, vmax = float(np.min(vals)), float(np.max(vals))\n",
    "        if vmin == vmax: vmax = vmin + 1e-6\n",
    "        bins = np.linspace(vmin, vmax, 50)\n",
    "        plt.figure(figsize=(6, 2))\n",
    "        plt.hist(vals, bins=bins, density=False, color='c', edgecolor='k', linewidth=0.5)\n",
    "        plt.title(f'Allocation histogram of {label}')\n",
    "        plt.gca().get_yaxis().set_visible(False)\n",
    "        plt.xlim(vmin, vmax)\n",
    "        plt.show()\n",
    "        print(f\"Range of predictions: [{vmin:.6f}, {vmax:.6f}]\")\n",
    "\n",
    "    return submit_model\n"
   ]
  },
  {
   "cell_type": "code",
   "execution_count": 11,
   "id": "a3ca9afa",
   "metadata": {},
   "outputs": [
    {
     "name": "stdout",
     "output_type": "stream",
     "text": [
      "\u001b[36m=== Fold 0 Eval start at 8810 ===\u001b[0m\n",
      "[LightGBM] [Info] Auto-choosing col-wise multi-threading, the overhead of testing was 0.002685 seconds.\n",
      "You can set `force_col_wise=true` to remove the overhead.\n",
      "[LightGBM] [Info] Total Bins 21575\n",
      "[LightGBM] [Info] Number of data points in the train set: 8810, number of used features: 94\n",
      "[LightGBM] [Info] Start training from score 0.000468\n",
      "[calib/pessimistic] T_SOFT=0.90, M_SOFT=1.184, m_lo=1.0, m_hi=3.0, Tm=1.00, gamma=1.05\n",
      "[holdout] sharpe=0.405 vol_pen=1.05 ret_pen=1.00\n",
      "[holdout] clip@0=0.00%, clip@2=0.00%\n",
      "[calib]  M_SOFT=1.184, T_SOFT=0.90, target clip≈22%\n",
      "[eval ]  clip@0=0.00% clip@2=0.00%\n"
     ]
    },
    {
     "data": {
      "text/html": [
       "<p style='color: orange'>train(:8810) eval(8810:8990)<br>eval_score:  0.385<br>holdout(last180) score: 0.384554<br>z-calib: b=5.080e-04, T=1.742e-02, M_SOFT=1.184, T_SOFT=0.90</p>"
      ],
      "text/plain": [
       "<IPython.core.display.HTML object>"
      ]
     },
     "metadata": {},
     "output_type": "display_data"
    },
    {
     "name": "stdout",
     "output_type": "stream",
     "text": [
      "\u001b[36m=== Fold 1 Eval start at 8630 ===\u001b[0m\n",
      "[LightGBM] [Info] Auto-choosing col-wise multi-threading, the overhead of testing was 0.003257 seconds.\n",
      "You can set `force_col_wise=true` to remove the overhead.\n",
      "[LightGBM] [Info] Total Bins 21573\n",
      "[LightGBM] [Info] Number of data points in the train set: 8630, number of used features: 94\n",
      "[LightGBM] [Info] Start training from score 0.000460\n",
      "[calib/pessimistic] T_SOFT=0.90, M_SOFT=1.184, m_lo=1.0, m_hi=3.0, Tm=1.00, gamma=1.10\n",
      "[holdout] sharpe=0.109 vol_pen=1.00 ret_pen=1.33\n",
      "[holdout] clip@0=0.00%, clip@2=0.00%\n",
      "[calib]  M_SOFT=1.184, T_SOFT=0.90, target clip≈22%\n",
      "[eval ]  clip@0=0.00% clip@2=0.00%\n"
     ]
    },
    {
     "data": {
      "text/html": [
       "<p style='color: orange'>train(:8630) eval(8630:8810)<br>eval_score:  1.121<br>holdout(last180) score: 0.082134<br>z-calib: b=4.762e-04, T=1.770e-02, M_SOFT=1.184, T_SOFT=0.90</p>"
      ],
      "text/plain": [
       "<IPython.core.display.HTML object>"
      ]
     },
     "metadata": {},
     "output_type": "display_data"
    },
    {
     "name": "stdout",
     "output_type": "stream",
     "text": [
      "\u001b[36m=== Fold 2 Eval start at 8450 ===\u001b[0m\n",
      "[LightGBM] [Info] Auto-choosing col-wise multi-threading, the overhead of testing was 0.002504 seconds.\n",
      "You can set `force_col_wise=true` to remove the overhead.\n",
      "[LightGBM] [Info] Total Bins 21575\n",
      "[LightGBM] [Info] Number of data points in the train set: 8450, number of used features: 94\n",
      "[LightGBM] [Info] Start training from score 0.000453\n",
      "[calib/pessimistic] T_SOFT=0.90, M_SOFT=2.184, m_lo=1.0, m_hi=3.0, Tm=1.00, gamma=1.10\n",
      "[holdout] sharpe=0.314 vol_pen=1.00 ret_pen=1.02\n",
      "[holdout] clip@0=0.00%, clip@2=0.00%\n",
      "[calib]  M_SOFT=2.184, T_SOFT=0.90, target clip≈22%\n",
      "[eval ]  clip@0=0.00% clip@2=0.00%\n"
     ]
    },
    {
     "data": {
      "text/html": [
       "<p style='color: orange'>train(:8450) eval(8450:8630)<br>eval_score:  1.277<br>holdout(last180) score: 0.307119<br>z-calib: b=4.583e-04, T=1.898e-02, M_SOFT=2.184, T_SOFT=0.90</p>"
      ],
      "text/plain": [
       "<IPython.core.display.HTML object>"
      ]
     },
     "metadata": {},
     "output_type": "display_data"
    },
    {
     "name": "stdout",
     "output_type": "stream",
     "text": [
      "\u001b[36m=== Fold 3 Eval start at 8270 ===\u001b[0m\n",
      "[LightGBM] [Info] Auto-choosing col-wise multi-threading, the overhead of testing was 0.002422 seconds.\n",
      "You can set `force_col_wise=true` to remove the overhead.\n",
      "[LightGBM] [Info] Total Bins 21574\n",
      "[LightGBM] [Info] Number of data points in the train set: 8270, number of used features: 94\n",
      "[LightGBM] [Info] Start training from score 0.000440\n",
      "[calib/pessimistic] T_SOFT=0.90, M_SOFT=1.184, m_lo=1.0, m_hi=3.0, Tm=1.00, gamma=1.10\n",
      "[holdout] sharpe=0.548 vol_pen=1.00 ret_pen=1.00\n",
      "[holdout] clip@0=0.00%, clip@2=0.00%\n",
      "[calib]  M_SOFT=1.184, T_SOFT=0.90, target clip≈22%\n",
      "[eval ]  clip@0=0.00% clip@2=0.00%\n"
     ]
    },
    {
     "data": {
      "text/html": [
       "<p style='color: orange'>train(:8270) eval(8270:8450)<br>eval_score:  1.386<br>holdout(last180) score: 0.548453<br>z-calib: b=9.222e-04, T=2.368e-02, M_SOFT=1.184, T_SOFT=0.90</p>"
      ],
      "text/plain": [
       "<IPython.core.display.HTML object>"
      ]
     },
     "metadata": {},
     "output_type": "display_data"
    },
    {
     "name": "stdout",
     "output_type": "stream",
     "text": [
      "\u001b[36m=== Fold 4 Eval start at 8090 ===\u001b[0m\n",
      "[LightGBM] [Info] Auto-choosing col-wise multi-threading, the overhead of testing was 0.003013 seconds.\n",
      "You can set `force_col_wise=true` to remove the overhead.\n",
      "[LightGBM] [Info] Total Bins 21569\n",
      "[LightGBM] [Info] Number of data points in the train set: 8090, number of used features: 94\n",
      "[LightGBM] [Info] Start training from score 0.000468\n",
      "[calib/pessimistic] T_SOFT=0.90, M_SOFT=2.421, m_lo=1.0, m_hi=3.0, Tm=1.00, gamma=1.10\n",
      "[holdout] sharpe=0.283 vol_pen=1.00 ret_pen=1.06\n",
      "[holdout] clip@0=0.00%, clip@2=0.00%\n",
      "[calib]  M_SOFT=2.421, T_SOFT=0.90, target clip≈22%\n",
      "[eval ]  clip@0=0.56% clip@2=7.22%\n"
     ]
    },
    {
     "data": {
      "text/html": [
       "<p style='color: orange'>train(:8090) eval(8090:8270)<br>eval_score: -0.531<br>holdout(last180) score: 0.268188<br>z-calib: b=1.212e-03, T=2.029e-02, M_SOFT=2.421, T_SOFT=0.90</p>"
      ],
      "text/plain": [
       "<IPython.core.display.HTML object>"
      ]
     },
     "metadata": {},
     "output_type": "display_data"
    },
    {
     "name": "stdout",
     "output_type": "stream",
     "text": [
      "\u001b[36m=== Fold 5 Eval start at 7910 ===\u001b[0m\n",
      "[LightGBM] [Info] Auto-choosing col-wise multi-threading, the overhead of testing was 0.002549 seconds.\n",
      "You can set `force_col_wise=true` to remove the overhead.\n",
      "[LightGBM] [Info] Total Bins 21568\n",
      "[LightGBM] [Info] Number of data points in the train set: 7910, number of used features: 94\n",
      "[LightGBM] [Info] Start training from score 0.000465\n",
      "[calib/pessimistic] T_SOFT=0.90, M_SOFT=2.421, m_lo=1.0, m_hi=3.0, Tm=1.00, gamma=1.10\n",
      "[holdout] sharpe=0.411 vol_pen=1.00 ret_pen=1.00\n",
      "[holdout] clip@0=0.00%, clip@2=0.00%\n",
      "[calib]  M_SOFT=2.421, T_SOFT=0.90, target clip≈22%\n",
      "[eval ]  clip@0=0.00% clip@2=0.56%\n"
     ]
    },
    {
     "data": {
      "text/html": [
       "<p style='color: orange'>train(:7910) eval(7910:8090)<br>eval_score:  1.573<br>holdout(last180) score: 0.411313<br>z-calib: b=1.087e-03, T=2.132e-02, M_SOFT=2.421, T_SOFT=0.90</p>"
      ],
      "text/plain": [
       "<IPython.core.display.HTML object>"
      ]
     },
     "metadata": {},
     "output_type": "display_data"
    },
    {
     "name": "stdout",
     "output_type": "stream",
     "text": [
      "\u001b[36m=== Fold 6 Eval start at 7730 ===\u001b[0m\n",
      "[LightGBM] [Info] Auto-choosing col-wise multi-threading, the overhead of testing was 0.002567 seconds.\n",
      "You can set `force_col_wise=true` to remove the overhead.\n",
      "[LightGBM] [Info] Total Bins 21566\n",
      "[LightGBM] [Info] Number of data points in the train set: 7730, number of used features: 94\n",
      "[LightGBM] [Info] Start training from score 0.000448\n",
      "[calib/pessimistic] T_SOFT=0.90, M_SOFT=1.421, m_lo=1.0, m_hi=3.0, Tm=1.00, gamma=1.10\n",
      "[holdout] sharpe=0.381 vol_pen=1.00 ret_pen=1.00\n",
      "[holdout] clip@0=0.00%, clip@2=0.00%\n",
      "[calib]  M_SOFT=1.421, T_SOFT=0.90, target clip≈22%\n",
      "[eval ]  clip@0=9.44% clip@2=0.00%\n"
     ]
    },
    {
     "data": {
      "text/html": [
       "<p style='color: orange'>train(:7730) eval(7730:7910)<br>eval_score:  0.718<br>holdout(last180) score: 0.379618<br>z-calib: b=1.073e-03, T=2.122e-02, M_SOFT=1.421, T_SOFT=0.90</p>"
      ],
      "text/plain": [
       "<IPython.core.display.HTML object>"
      ]
     },
     "metadata": {},
     "output_type": "display_data"
    },
    {
     "name": "stdout",
     "output_type": "stream",
     "text": [
      "\u001b[36m=== Fold 7 Eval start at 7550 ===\u001b[0m\n",
      "[LightGBM] [Info] Auto-choosing col-wise multi-threading, the overhead of testing was 0.001875 seconds.\n",
      "You can set `force_col_wise=true` to remove the overhead.\n",
      "[LightGBM] [Info] Total Bins 21508\n",
      "[LightGBM] [Info] Number of data points in the train set: 7550, number of used features: 94\n",
      "[LightGBM] [Info] Start training from score 0.000434\n",
      "[calib/pessimistic] T_SOFT=0.90, M_SOFT=1.421, m_lo=1.0, m_hi=3.0, Tm=1.00, gamma=1.10\n",
      "[holdout] sharpe=0.411 vol_pen=1.00 ret_pen=1.00\n",
      "[holdout] clip@0=1.67%, clip@2=0.56%\n",
      "[calib]  M_SOFT=1.421, T_SOFT=0.90, target clip≈22%\n",
      "[eval ]  clip@0=8.33% clip@2=2.78%\n"
     ]
    },
    {
     "data": {
      "text/html": [
       "<p style='color: orange'>train(:7550) eval(7550:7730)<br>eval_score:  0.511<br>holdout(last180) score: 0.411283<br>z-calib: b=6.820e-04, T=1.398e-02, M_SOFT=1.421, T_SOFT=0.90</p>"
      ],
      "text/plain": [
       "<IPython.core.display.HTML object>"
      ]
     },
     "metadata": {},
     "output_type": "display_data"
    },
    {
     "name": "stdout",
     "output_type": "stream",
     "text": [
      "\u001b[36m=== Fold 8 Eval start at 7370 ===\u001b[0m\n",
      "[LightGBM] [Info] Auto-choosing col-wise multi-threading, the overhead of testing was 0.001910 seconds.\n",
      "You can set `force_col_wise=true` to remove the overhead.\n",
      "[LightGBM] [Info] Total Bins 21444\n",
      "[LightGBM] [Info] Number of data points in the train set: 7370, number of used features: 94\n",
      "[LightGBM] [Info] Start training from score 0.000428\n",
      "[calib/pessimistic] T_SOFT=0.90, M_SOFT=2.658, m_lo=1.0, m_hi=3.0, Tm=1.00, gamma=1.10\n",
      "[holdout] sharpe=0.274 vol_pen=1.02 ret_pen=1.05\n",
      "[holdout] clip@0=1.11%, clip@2=0.00%\n",
      "[calib]  M_SOFT=2.658, T_SOFT=0.90, target clip≈22%\n",
      "[eval ]  clip@0=2.78% clip@2=3.89%\n"
     ]
    },
    {
     "data": {
      "text/html": [
       "<p style='color: orange'>train(:7370) eval(7370:7550)<br>eval_score:  1.217<br>holdout(last180) score: 0.255813<br>z-calib: b=6.448e-04, T=1.334e-02, M_SOFT=2.658, T_SOFT=0.90</p>"
      ],
      "text/plain": [
       "<IPython.core.display.HTML object>"
      ]
     },
     "metadata": {},
     "output_type": "display_data"
    },
    {
     "name": "stdout",
     "output_type": "stream",
     "text": [
      "\u001b[36m=== Fold 9 Eval start at 7190 ===\u001b[0m\n",
      "[LightGBM] [Info] Auto-choosing col-wise multi-threading, the overhead of testing was 0.002451 seconds.\n",
      "You can set `force_col_wise=true` to remove the overhead.\n",
      "[LightGBM] [Info] Total Bins 21383\n",
      "[LightGBM] [Info] Number of data points in the train set: 7190, number of used features: 94\n",
      "[LightGBM] [Info] Start training from score 0.000433\n",
      "[calib/pessimistic] T_SOFT=0.90, M_SOFT=1.184, m_lo=1.0, m_hi=3.0, Tm=1.00, gamma=1.10\n",
      "[holdout] sharpe=0.119 vol_pen=1.16 ret_pen=1.27\n",
      "[holdout] clip@0=2.22%, clip@2=1.67%\n",
      "[calib]  M_SOFT=1.184, T_SOFT=0.90, target clip≈22%\n",
      "[eval ]  clip@0=2.22% clip@2=2.78%\n"
     ]
    },
    {
     "data": {
      "text/html": [
       "<p style='color: orange'>train(:7190) eval(7190:7370)<br>eval_score:  0.379<br>holdout(last180) score: 0.081551<br>z-calib: b=5.740e-04, T=1.315e-02, M_SOFT=1.184, T_SOFT=0.90</p>"
      ],
      "text/plain": [
       "<IPython.core.display.HTML object>"
      ]
     },
     "metadata": {},
     "output_type": "display_data"
    },
    {
     "name": "stdout",
     "output_type": "stream",
     "text": [
      "\u001b[36m=== Fold 10 Eval start at 7010 ===\u001b[0m\n",
      "[LightGBM] [Info] Auto-choosing col-wise multi-threading, the overhead of testing was 0.002001 seconds.\n",
      "You can set `force_col_wise=true` to remove the overhead.\n",
      "[LightGBM] [Info] Total Bins 21328\n",
      "[LightGBM] [Info] Number of data points in the train set: 7010, number of used features: 94\n",
      "[LightGBM] [Info] Start training from score 0.000428\n",
      "[calib/pessimistic] T_SOFT=0.90, M_SOFT=1.184, m_lo=1.0, m_hi=3.0, Tm=1.00, gamma=1.10\n",
      "[holdout] sharpe=0.302 vol_pen=1.08 ret_pen=1.02\n",
      "[holdout] clip@0=2.22%, clip@2=0.56%\n",
      "[calib]  M_SOFT=1.184, T_SOFT=0.90, target clip≈22%\n",
      "[eval ]  clip@0=5.00% clip@2=0.00%\n"
     ]
    },
    {
     "data": {
      "text/html": [
       "<p style='color: orange'>train(:7010) eval(7010:7190)<br>eval_score:  0.810<br>holdout(last180) score: 0.274481<br>z-calib: b=4.002e-04, T=1.364e-02, M_SOFT=1.184, T_SOFT=0.90</p>"
      ],
      "text/plain": [
       "<IPython.core.display.HTML object>"
      ]
     },
     "metadata": {},
     "output_type": "display_data"
    },
    {
     "name": "stdout",
     "output_type": "stream",
     "text": [
      "\u001b[36m=== Fold 11 Eval start at 6830 ===\u001b[0m\n",
      "[LightGBM] [Info] Auto-choosing col-wise multi-threading, the overhead of testing was 0.002079 seconds.\n",
      "You can set `force_col_wise=true` to remove the overhead.\n",
      "[LightGBM] [Info] Total Bins 21313\n",
      "[LightGBM] [Info] Number of data points in the train set: 6830, number of used features: 93\n",
      "[LightGBM] [Info] Start training from score 0.000421\n",
      "[calib/pessimistic] T_SOFT=0.90, M_SOFT=1.184, m_lo=1.0, m_hi=3.0, Tm=1.00, gamma=1.05\n",
      "[holdout] sharpe=0.206 vol_pen=1.14 ret_pen=1.10\n",
      "[holdout] clip@0=0.00%, clip@2=0.56%\n",
      "[calib]  M_SOFT=1.184, T_SOFT=0.90, target clip≈22%\n",
      "[eval ]  clip@0=10.56% clip@2=0.00%\n"
     ]
    },
    {
     "data": {
      "text/html": [
       "<p style='color: orange'>train(:6830) eval(6830:7010)<br>eval_score:  2.047<br>holdout(last180) score: 0.163981<br>z-calib: b=4.353e-04, T=1.442e-02, M_SOFT=1.184, T_SOFT=0.90</p>"
      ],
      "text/plain": [
       "<IPython.core.display.HTML object>"
      ]
     },
     "metadata": {},
     "output_type": "display_data"
    },
    {
     "name": "stdout",
     "output_type": "stream",
     "text": [
      "\u001b[36m=== Fold 12 Eval start at 6650 ===\u001b[0m\n",
      "[LightGBM] [Info] Auto-choosing col-wise multi-threading, the overhead of testing was 0.001990 seconds.\n",
      "You can set `force_col_wise=true` to remove the overhead.\n",
      "[LightGBM] [Info] Total Bins 21261\n",
      "[LightGBM] [Info] Number of data points in the train set: 6650, number of used features: 93\n",
      "[LightGBM] [Info] Start training from score 0.000413\n",
      "[calib/pessimistic] T_SOFT=0.90, M_SOFT=2.184, m_lo=1.0, m_hi=3.0, Tm=1.00, gamma=1.10\n",
      "[holdout] sharpe=0.212 vol_pen=1.15 ret_pen=1.09\n",
      "[holdout] clip@0=2.78%, clip@2=0.56%\n",
      "[calib]  M_SOFT=2.184, T_SOFT=0.90, target clip≈22%\n",
      "[eval ]  clip@0=13.33% clip@2=0.00%\n"
     ]
    },
    {
     "data": {
      "text/html": [
       "<p style='color: orange'>train(:6650) eval(6650:6830)<br>eval_score:  1.803<br>holdout(last180) score: 0.169361<br>z-calib: b=5.253e-04, T=1.443e-02, M_SOFT=2.184, T_SOFT=0.90</p>"
      ],
      "text/plain": [
       "<IPython.core.display.HTML object>"
      ]
     },
     "metadata": {},
     "output_type": "display_data"
    },
    {
     "name": "stdout",
     "output_type": "stream",
     "text": [
      "\u001b[36m=== Fold 13 Eval start at 6470 ===\u001b[0m\n",
      "[LightGBM] [Info] Auto-choosing col-wise multi-threading, the overhead of testing was 0.002385 seconds.\n",
      "You can set `force_col_wise=true` to remove the overhead.\n",
      "[LightGBM] [Info] Total Bins 21194\n",
      "[LightGBM] [Info] Number of data points in the train set: 6470, number of used features: 93\n",
      "[LightGBM] [Info] Start training from score 0.000413\n",
      "[calib/pessimistic] T_SOFT=0.90, M_SOFT=1.184, m_lo=1.0, m_hi=3.0, Tm=1.00, gamma=1.10\n",
      "[holdout] sharpe=0.094 vol_pen=1.05 ret_pen=1.35\n",
      "[holdout] clip@0=6.67%, clip@2=0.56%\n",
      "[calib]  M_SOFT=1.184, T_SOFT=0.90, target clip≈22%\n",
      "[eval ]  clip@0=6.67% clip@2=1.11%\n"
     ]
    },
    {
     "data": {
      "text/html": [
       "<p style='color: orange'>train(:6470) eval(6470:6650)<br>eval_score:  1.939<br>holdout(last180) score: 0.065815<br>z-calib: b=7.800e-04, T=1.327e-02, M_SOFT=1.184, T_SOFT=0.90</p>"
      ],
      "text/plain": [
       "<IPython.core.display.HTML object>"
      ]
     },
     "metadata": {},
     "output_type": "display_data"
    },
    {
     "name": "stdout",
     "output_type": "stream",
     "text": [
      "\u001b[36m=== Fold 14 Eval start at 6290 ===\u001b[0m\n",
      "[LightGBM] [Info] Auto-choosing col-wise multi-threading, the overhead of testing was 0.002249 seconds.\n",
      "You can set `force_col_wise=true` to remove the overhead.\n",
      "[LightGBM] [Info] Total Bins 21072\n",
      "[LightGBM] [Info] Number of data points in the train set: 6290, number of used features: 93\n",
      "[LightGBM] [Info] Start training from score 0.000422\n",
      "[calib/pessimistic] T_SOFT=0.90, M_SOFT=2.184, m_lo=1.0, m_hi=3.0, Tm=1.00, gamma=1.10\n",
      "[holdout] sharpe=0.410 vol_pen=1.17 ret_pen=1.00\n",
      "[holdout] clip@0=1.11%, clip@2=1.67%\n",
      "[calib]  M_SOFT=2.184, T_SOFT=0.90, target clip≈22%\n",
      "[eval ]  clip@0=4.44% clip@2=0.56%\n"
     ]
    },
    {
     "data": {
      "text/html": [
       "<p style='color: orange'>train(:6290) eval(6290:6470)<br>eval_score:  0.458<br>holdout(last180) score: 0.350821<br>z-calib: b=7.628e-04, T=1.223e-02, M_SOFT=2.184, T_SOFT=0.90</p>"
      ],
      "text/plain": [
       "<IPython.core.display.HTML object>"
      ]
     },
     "metadata": {},
     "output_type": "display_data"
    },
    {
     "name": "stdout",
     "output_type": "stream",
     "text": [
      "\u001b[36m=== Fold 15 Eval start at 6110 ===\u001b[0m\n",
      "[LightGBM] [Info] Auto-choosing col-wise multi-threading, the overhead of testing was 0.001970 seconds.\n",
      "You can set `force_col_wise=true` to remove the overhead.\n",
      "[LightGBM] [Info] Total Bins 20660\n",
      "[LightGBM] [Info] Number of data points in the train set: 6110, number of used features: 93\n",
      "[LightGBM] [Info] Start training from score 0.000424\n",
      "[calib/pessimistic] T_SOFT=0.90, M_SOFT=2.421, m_lo=1.0, m_hi=3.0, Tm=1.00, gamma=1.10\n",
      "[holdout] sharpe=0.180 vol_pen=1.07 ret_pen=1.16\n",
      "[holdout] clip@0=1.11%, clip@2=0.56%\n",
      "[calib]  M_SOFT=2.421, T_SOFT=0.90, target clip≈22%\n",
      "[eval ]  clip@0=7.22% clip@2=0.00%\n"
     ]
    },
    {
     "data": {
      "text/html": [
       "<p style='color: orange'>train(:6110) eval(6110:6290)<br>eval_score:  1.832<br>holdout(last180) score: 0.144924<br>z-calib: b=7.117e-04, T=1.777e-02, M_SOFT=2.421, T_SOFT=0.90</p>"
      ],
      "text/plain": [
       "<IPython.core.display.HTML object>"
      ]
     },
     "metadata": {},
     "output_type": "display_data"
    },
    {
     "name": "stdout",
     "output_type": "stream",
     "text": [
      "\u001b[36m=== Fold 16 Eval start at 5930 ===\u001b[0m\n",
      "[LightGBM] [Info] Auto-choosing col-wise multi-threading, the overhead of testing was 0.001816 seconds.\n",
      "You can set `force_col_wise=true` to remove the overhead.\n",
      "[LightGBM] [Info] Total Bins 20389\n",
      "[LightGBM] [Info] Number of data points in the train set: 5930, number of used features: 92\n",
      "[LightGBM] [Info] Start training from score 0.000415\n",
      "[calib/pessimistic] T_SOFT=0.90, M_SOFT=1.184, m_lo=1.0, m_hi=3.0, Tm=1.00, gamma=1.08\n",
      "[holdout] sharpe=0.409 vol_pen=1.00 ret_pen=1.00\n",
      "[holdout] clip@0=7.22%, clip@2=0.00%\n",
      "[calib]  M_SOFT=1.184, T_SOFT=0.90, target clip≈22%\n",
      "[eval ]  clip@0=7.22% clip@2=0.00%\n"
     ]
    },
    {
     "data": {
      "text/html": [
       "<p style='color: orange'>train(:5930) eval(5930:6110)<br>eval_score:  1.858<br>holdout(last180) score: 0.408263<br>z-calib: b=8.788e-04, T=1.795e-02, M_SOFT=1.184, T_SOFT=0.90</p>"
      ],
      "text/plain": [
       "<IPython.core.display.HTML object>"
      ]
     },
     "metadata": {},
     "output_type": "display_data"
    },
    {
     "name": "stdout",
     "output_type": "stream",
     "text": [
      "\u001b[36m=== Fold 17 Eval start at 5750 ===\u001b[0m\n",
      "[LightGBM] [Info] Auto-choosing col-wise multi-threading, the overhead of testing was 0.002363 seconds.\n",
      "You can set `force_col_wise=true` to remove the overhead.\n",
      "[LightGBM] [Info] Total Bins 19944\n",
      "[LightGBM] [Info] Number of data points in the train set: 5750, number of used features: 91\n",
      "[LightGBM] [Info] Start training from score 0.000396\n",
      "[calib/pessimistic] T_SOFT=0.90, M_SOFT=1.184, m_lo=1.0, m_hi=3.0, Tm=1.00, gamma=1.10\n",
      "[holdout] sharpe=0.357 vol_pen=1.00 ret_pen=1.01\n",
      "[holdout] clip@0=0.56%, clip@2=0.00%\n",
      "[calib]  M_SOFT=1.184, T_SOFT=0.90, target clip≈22%\n",
      "[eval ]  clip@0=0.56% clip@2=0.00%\n"
     ]
    },
    {
     "data": {
      "text/html": [
       "<p style='color: orange'>train(:5750) eval(5750:5930)<br>eval_score:  0.951<br>holdout(last180) score: 0.353448<br>z-calib: b=6.882e-04, T=2.002e-02, M_SOFT=1.184, T_SOFT=0.90</p>"
      ],
      "text/plain": [
       "<IPython.core.display.HTML object>"
      ]
     },
     "metadata": {},
     "output_type": "display_data"
    },
    {
     "name": "stdout",
     "output_type": "stream",
     "text": [
      "\u001b[36m=== Fold 18 Eval start at 5570 ===\u001b[0m\n",
      "[LightGBM] [Info] Auto-choosing col-wise multi-threading, the overhead of testing was 0.001421 seconds.\n",
      "You can set `force_col_wise=true` to remove the overhead.\n",
      "[LightGBM] [Info] Total Bins 19631\n",
      "[LightGBM] [Info] Number of data points in the train set: 5570, number of used features: 91\n",
      "[LightGBM] [Info] Start training from score 0.000394\n",
      "[calib/pessimistic] T_SOFT=0.90, M_SOFT=1.184, m_lo=1.0, m_hi=3.0, Tm=1.00, gamma=1.10\n",
      "[holdout] sharpe=0.589 vol_pen=1.00 ret_pen=1.00\n",
      "[holdout] clip@0=0.00%, clip@2=0.00%\n",
      "[calib]  M_SOFT=1.184, T_SOFT=0.90, target clip≈22%\n",
      "[eval ]  clip@0=0.00% clip@2=0.00%\n"
     ]
    },
    {
     "data": {
      "text/html": [
       "<p style='color: orange'>train(:5570) eval(5570:5750)<br>eval_score:  0.822<br>holdout(last180) score: 0.589291<br>z-calib: b=1.208e-03, T=2.208e-02, M_SOFT=1.184, T_SOFT=0.90</p>"
      ],
      "text/plain": [
       "<IPython.core.display.HTML object>"
      ]
     },
     "metadata": {},
     "output_type": "display_data"
    },
    {
     "name": "stdout",
     "output_type": "stream",
     "text": [
      "\u001b[36m=== Fold 19 Eval start at 5390 ===\u001b[0m\n",
      "[LightGBM] [Info] Auto-choosing col-wise multi-threading, the overhead of testing was 0.002182 seconds.\n",
      "You can set `force_col_wise=true` to remove the overhead.\n",
      "[LightGBM] [Info] Total Bins 19296\n",
      "[LightGBM] [Info] Number of data points in the train set: 5390, number of used features: 88\n",
      "[LightGBM] [Info] Start training from score 0.000394\n",
      "[calib/pessimistic] T_SOFT=0.90, M_SOFT=2.184, m_lo=1.0, m_hi=3.0, Tm=1.00, gamma=1.10\n",
      "[holdout] sharpe=0.266 vol_pen=1.00 ret_pen=1.10\n",
      "[holdout] clip@0=0.00%, clip@2=0.00%\n",
      "[calib]  M_SOFT=2.184, T_SOFT=0.90, target clip≈22%\n",
      "[eval ]  clip@0=0.00% clip@2=0.56%\n"
     ]
    },
    {
     "data": {
      "text/html": [
       "<p style='color: orange'>train(:5390) eval(5390:5570)<br>eval_score:  0.403<br>holdout(last180) score: 0.242727<br>z-calib: b=1.110e-03, T=2.830e-02, M_SOFT=2.184, T_SOFT=0.90</p>"
      ],
      "text/plain": [
       "<IPython.core.display.HTML object>"
      ]
     },
     "metadata": {},
     "output_type": "display_data"
    },
    {
     "name": "stdout",
     "output_type": "stream",
     "text": [
      "\u001b[36m=== Fold 20 Eval start at 5210 ===\u001b[0m\n",
      "[LightGBM] [Info] Auto-choosing col-wise multi-threading, the overhead of testing was 0.001961 seconds.\n",
      "You can set `force_col_wise=true` to remove the overhead.\n",
      "[LightGBM] [Info] Total Bins 19172\n",
      "[LightGBM] [Info] Number of data points in the train set: 5210, number of used features: 88\n",
      "[LightGBM] [Info] Start training from score 0.000362\n",
      "[calib/pessimistic] T_SOFT=0.90, M_SOFT=2.184, m_lo=1.0, m_hi=3.0, Tm=1.00, gamma=1.10\n",
      "[holdout] sharpe=0.165 vol_pen=1.00 ret_pen=1.25\n",
      "[holdout] clip@0=2.22%, clip@2=0.00%\n",
      "[calib]  M_SOFT=2.184, T_SOFT=0.90, target clip≈22%\n",
      "[eval ]  clip@0=0.56% clip@2=0.00%\n"
     ]
    },
    {
     "data": {
      "text/html": [
       "<p style='color: orange'>train(:5210) eval(5210:5390)<br>eval_score:  2.356<br>holdout(last180) score: 0.132104<br>z-calib: b=5.279e-04, T=3.002e-02, M_SOFT=2.184, T_SOFT=0.90</p>"
      ],
      "text/plain": [
       "<IPython.core.display.HTML object>"
      ]
     },
     "metadata": {},
     "output_type": "display_data"
    },
    {
     "name": "stdout",
     "output_type": "stream",
     "text": [
      "\u001b[36m=== Fold 21 Eval start at 5030 ===\u001b[0m\n",
      "[LightGBM] [Info] Auto-choosing col-wise multi-threading, the overhead of testing was 0.002211 seconds.\n",
      "You can set `force_col_wise=true` to remove the overhead.\n",
      "[LightGBM] [Info] Total Bins 19057\n",
      "[LightGBM] [Info] Number of data points in the train set: 5030, number of used features: 87\n",
      "[LightGBM] [Info] Start training from score 0.000377\n",
      "[calib/pessimistic] T_SOFT=0.90, M_SOFT=2.184, m_lo=1.0, m_hi=3.0, Tm=1.00, gamma=1.10\n",
      "[holdout] sharpe=0.312 vol_pen=1.00 ret_pen=1.05\n",
      "[holdout] clip@0=0.00%, clip@2=0.00%\n",
      "[calib]  M_SOFT=2.184, T_SOFT=0.90, target clip≈22%\n",
      "[eval ]  clip@0=0.56% clip@2=0.00%\n"
     ]
    },
    {
     "data": {
      "text/html": [
       "<p style='color: orange'>train(:5030) eval(5030:5210)<br>eval_score: -0.154<br>holdout(last180) score: 0.297215<br>z-calib: b=6.021e-04, T=2.937e-02, M_SOFT=2.184, T_SOFT=0.90</p>"
      ],
      "text/plain": [
       "<IPython.core.display.HTML object>"
      ]
     },
     "metadata": {},
     "output_type": "display_data"
    },
    {
     "name": "stdout",
     "output_type": "stream",
     "text": [
      "\u001b[36m=== Fold 22 Eval start at 4850 ===\u001b[0m\n",
      "[LightGBM] [Info] Auto-choosing col-wise multi-threading, the overhead of testing was 0.001572 seconds.\n",
      "You can set `force_col_wise=true` to remove the overhead.\n",
      "[LightGBM] [Info] Total Bins 18949\n",
      "[LightGBM] [Info] Number of data points in the train set: 4850, number of used features: 87\n",
      "[LightGBM] [Info] Start training from score 0.000312\n",
      "[calib/pessimistic] T_SOFT=0.90, M_SOFT=1.184, m_lo=1.0, m_hi=3.0, Tm=1.00, gamma=1.10\n",
      "[holdout] sharpe=0.173 vol_pen=1.00 ret_pen=1.24\n",
      "[holdout] clip@0=9.44%, clip@2=0.00%\n",
      "[calib]  M_SOFT=1.184, T_SOFT=0.90, target clip≈22%\n",
      "[eval ]  clip@0=10.56% clip@2=0.00%\n"
     ]
    },
    {
     "data": {
      "text/html": [
       "<p style='color: orange'>train(:4850) eval(4850:5030)<br>eval_score:  0.453<br>holdout(last180) score: 0.140212<br>z-calib: b=4.766e-04, T=2.747e-02, M_SOFT=1.184, T_SOFT=0.90</p>"
      ],
      "text/plain": [
       "<IPython.core.display.HTML object>"
      ]
     },
     "metadata": {},
     "output_type": "display_data"
    },
    {
     "name": "stdout",
     "output_type": "stream",
     "text": [
      "\u001b[36m=== Fold 23 Eval start at 4670 ===\u001b[0m\n",
      "[LightGBM] [Info] Auto-choosing col-wise multi-threading, the overhead of testing was 0.002153 seconds.\n",
      "You can set `force_col_wise=true` to remove the overhead.\n",
      "[LightGBM] [Info] Total Bins 18896\n",
      "[LightGBM] [Info] Number of data points in the train set: 4670, number of used features: 87\n",
      "[LightGBM] [Info] Start training from score 0.000386\n",
      "[calib/pessimistic] T_SOFT=0.90, M_SOFT=1.184, m_lo=1.0, m_hi=3.0, Tm=1.00, gamma=1.10\n",
      "[holdout] sharpe=0.116 vol_pen=1.00 ret_pen=1.36\n",
      "[holdout] clip@0=23.89%, clip@2=0.00%\n",
      "[calib]  M_SOFT=1.184, T_SOFT=0.90, target clip≈22%\n",
      "[eval ]  clip@0=13.33% clip@2=17.78%\n"
     ]
    },
    {
     "data": {
      "text/html": [
       "<p style='color: orange'>train(:4670) eval(4670:4850)<br>eval_score: -0.613<br>holdout(last180) score: 0.085156<br>z-calib: b=6.132e-04, T=1.693e-02, M_SOFT=1.184, T_SOFT=0.90</p>"
      ],
      "text/plain": [
       "<IPython.core.display.HTML object>"
      ]
     },
     "metadata": {},
     "output_type": "display_data"
    },
    {
     "name": "stdout",
     "output_type": "stream",
     "text": [
      "\u001b[36m=== Fold 24 Eval start at 4490 ===\u001b[0m\n",
      "[LightGBM] [Info] Auto-choosing col-wise multi-threading, the overhead of testing was 0.001863 seconds.\n",
      "You can set `force_col_wise=true` to remove the overhead.\n",
      "[LightGBM] [Info] Total Bins 18469\n",
      "[LightGBM] [Info] Number of data points in the train set: 4490, number of used features: 86\n",
      "[LightGBM] [Info] Start training from score 0.000442\n",
      "[calib/pessimistic] T_SOFT=0.90, M_SOFT=2.184, m_lo=1.0, m_hi=3.0, Tm=1.00, gamma=1.10\n",
      "[holdout] sharpe=-0.260 vol_pen=1.00 ret_pen=2.68\n",
      "[holdout] clip@0=19.44%, clip@2=1.11%\n",
      "[calib]  M_SOFT=2.184, T_SOFT=0.90, target clip≈22%\n",
      "[eval ]  clip@0=4.44% clip@2=16.11%\n"
     ]
    },
    {
     "data": {
      "text/html": [
       "<p style='color: orange'>train(:4490) eval(4490:4670)<br>eval_score: -0.577<br>holdout(last180) score: -0.097057<br>z-calib: b=7.626e-04, T=1.315e-02, M_SOFT=2.184, T_SOFT=0.90</p>"
      ],
      "text/plain": [
       "<IPython.core.display.HTML object>"
      ]
     },
     "metadata": {},
     "output_type": "display_data"
    },
    {
     "name": "stdout",
     "output_type": "stream",
     "text": [
      "\u001b[36m=== Fold 25 Eval start at 4310 ===\u001b[0m\n",
      "[LightGBM] [Info] Auto-choosing col-wise multi-threading, the overhead of testing was 0.001511 seconds.\n",
      "You can set `force_col_wise=true` to remove the overhead.\n",
      "[LightGBM] [Info] Total Bins 18318\n",
      "[LightGBM] [Info] Number of data points in the train set: 4310, number of used features: 86\n",
      "[LightGBM] [Info] Start training from score 0.000444\n",
      "[calib/pessimistic] T_SOFT=0.90, M_SOFT=2.184, m_lo=1.0, m_hi=3.0, Tm=1.00, gamma=1.10\n",
      "[holdout] sharpe=0.150 vol_pen=1.00 ret_pen=1.24\n",
      "[holdout] clip@0=14.44%, clip@2=1.67%\n",
      "[calib]  M_SOFT=2.184, T_SOFT=0.90, target clip≈22%\n",
      "[eval ]  clip@0=2.78% clip@2=3.33%\n"
     ]
    },
    {
     "data": {
      "text/html": [
       "<p style='color: orange'>train(:4310) eval(4310:4490)<br>eval_score:  0.521<br>holdout(last180) score: 0.120407<br>z-calib: b=8.186e-04, T=1.189e-02, M_SOFT=2.184, T_SOFT=0.90</p>"
      ],
      "text/plain": [
       "<IPython.core.display.HTML object>"
      ]
     },
     "metadata": {},
     "output_type": "display_data"
    },
    {
     "name": "stdout",
     "output_type": "stream",
     "text": [
      "\u001b[36m=== Fold 26 Eval start at 4130 ===\u001b[0m\n",
      "[LightGBM] [Info] Auto-choosing col-wise multi-threading, the overhead of testing was 0.001489 seconds.\n",
      "You can set `force_col_wise=true` to remove the overhead.\n",
      "[LightGBM] [Info] Total Bins 18264\n",
      "[LightGBM] [Info] Number of data points in the train set: 4130, number of used features: 86\n",
      "[LightGBM] [Info] Start training from score 0.000425\n",
      "[calib/pessimistic] T_SOFT=0.90, M_SOFT=0.947, m_lo=1.0, m_hi=3.0, Tm=1.00, gamma=1.10\n",
      "[holdout] sharpe=-0.189 vol_pen=1.00 ret_pen=2.35\n",
      "[holdout] clip@0=12.22%, clip@2=0.56%\n",
      "[calib]  M_SOFT=0.947, T_SOFT=0.90, target clip≈22%\n",
      "[eval ]  clip@0=2.78% clip@2=0.00%\n"
     ]
    },
    {
     "data": {
      "text/html": [
       "<p style='color: orange'>train(:4130) eval(4130:4310)<br>eval_score:  1.954<br>holdout(last180) score: -0.080306<br>z-calib: b=9.583e-04, T=1.258e-02, M_SOFT=0.947, T_SOFT=0.90</p>"
      ],
      "text/plain": [
       "<IPython.core.display.HTML object>"
      ]
     },
     "metadata": {},
     "output_type": "display_data"
    },
    {
     "name": "stdout",
     "output_type": "stream",
     "text": [
      "\u001b[36m=== Fold 27 Eval start at 3950 ===\u001b[0m\n",
      "[LightGBM] [Info] Auto-choosing col-wise multi-threading, the overhead of testing was 0.002425 seconds.\n",
      "You can set `force_col_wise=true` to remove the overhead.\n",
      "[LightGBM] [Info] Total Bins 17761\n",
      "[LightGBM] [Info] Number of data points in the train set: 3950, number of used features: 86\n",
      "[LightGBM] [Info] Start training from score 0.000430\n",
      "[calib/pessimistic] T_SOFT=0.90, M_SOFT=2.184, m_lo=1.0, m_hi=3.0, Tm=1.00, gamma=1.10\n",
      "[holdout] sharpe=0.361 vol_pen=1.00 ret_pen=1.02\n",
      "[holdout] clip@0=9.44%, clip@2=0.56%\n",
      "[calib]  M_SOFT=2.184, T_SOFT=0.90, target clip≈22%\n",
      "[eval ]  clip@0=0.56% clip@2=0.56%\n"
     ]
    },
    {
     "data": {
      "text/html": [
       "<p style='color: orange'>train(:3950) eval(3950:4130)<br>eval_score:  1.187<br>holdout(last180) score: 0.353544<br>z-calib: b=8.972e-04, T=1.663e-02, M_SOFT=2.184, T_SOFT=0.90</p>"
      ],
      "text/plain": [
       "<IPython.core.display.HTML object>"
      ]
     },
     "metadata": {},
     "output_type": "display_data"
    },
    {
     "name": "stdout",
     "output_type": "stream",
     "text": [
      "\u001b[36m=== Fold 28 Eval start at 3770 ===\u001b[0m\n",
      "[LightGBM] [Info] Auto-choosing col-wise multi-threading, the overhead of testing was 0.001488 seconds.\n",
      "You can set `force_col_wise=true` to remove the overhead.\n",
      "[LightGBM] [Info] Total Bins 17476\n",
      "[LightGBM] [Info] Number of data points in the train set: 3770, number of used features: 86\n",
      "[LightGBM] [Info] Start training from score 0.000444\n",
      "[calib/pessimistic] T_SOFT=0.90, M_SOFT=2.184, m_lo=1.0, m_hi=3.0, Tm=1.00, gamma=1.10\n",
      "[holdout] sharpe=0.289 vol_pen=1.00 ret_pen=1.07\n",
      "[holdout] clip@0=3.89%, clip@2=0.00%\n",
      "[calib]  M_SOFT=2.184, T_SOFT=0.90, target clip≈22%\n",
      "[eval ]  clip@0=0.00% clip@2=0.00%\n"
     ]
    },
    {
     "data": {
      "text/html": [
       "<p style='color: orange'>train(:3770) eval(3770:3950)<br>eval_score:  0.012<br>holdout(last180) score: 0.271045<br>z-calib: b=7.062e-04, T=2.266e-02, M_SOFT=2.184, T_SOFT=0.90</p>"
      ],
      "text/plain": [
       "<IPython.core.display.HTML object>"
      ]
     },
     "metadata": {},
     "output_type": "display_data"
    },
    {
     "name": "stdout",
     "output_type": "stream",
     "text": [
      "\u001b[36m=== Fold 29 Eval start at 3590 ===\u001b[0m\n",
      "[LightGBM] [Info] Auto-choosing col-wise multi-threading, the overhead of testing was 0.002263 seconds.\n",
      "You can set `force_col_wise=true` to remove the overhead.\n",
      "[LightGBM] [Info] Total Bins 17231\n",
      "[LightGBM] [Info] Number of data points in the train set: 3590, number of used features: 86\n",
      "[LightGBM] [Info] Start training from score 0.000440\n",
      "[calib/pessimistic] T_SOFT=0.90, M_SOFT=2.184, m_lo=1.0, m_hi=3.0, Tm=1.00, gamma=1.10\n",
      "[holdout] sharpe=0.284 vol_pen=1.00 ret_pen=1.07\n",
      "[holdout] clip@0=3.33%, clip@2=0.00%\n",
      "[calib]  M_SOFT=2.184, T_SOFT=0.90, target clip≈22%\n",
      "[eval ]  clip@0=0.00% clip@2=0.56%\n"
     ]
    },
    {
     "data": {
      "text/html": [
       "<p style='color: orange'>train(:3590) eval(3590:3770)<br>eval_score:  0.937<br>holdout(last180) score: 0.264620<br>z-calib: b=4.174e-04, T=2.463e-02, M_SOFT=2.184, T_SOFT=0.90</p>"
      ],
      "text/plain": [
       "<IPython.core.display.HTML object>"
      ]
     },
     "metadata": {},
     "output_type": "display_data"
    },
    {
     "name": "stdout",
     "output_type": "stream",
     "text": [
      "\u001b[36m=== Fold 30 Eval start at 3410 ===\u001b[0m\n",
      "[LightGBM] [Info] Auto-choosing col-wise multi-threading, the overhead of testing was 0.001295 seconds.\n",
      "You can set `force_col_wise=true` to remove the overhead.\n",
      "[LightGBM] [Info] Total Bins 17027\n",
      "[LightGBM] [Info] Number of data points in the train set: 3410, number of used features: 85\n",
      "[LightGBM] [Info] Start training from score 0.000425\n",
      "[calib/pessimistic] T_SOFT=0.90, M_SOFT=2.184, m_lo=1.0, m_hi=3.0, Tm=1.00, gamma=1.10\n",
      "[holdout] sharpe=0.738 vol_pen=1.00 ret_pen=1.00\n",
      "[holdout] clip@0=1.67%, clip@2=0.56%\n",
      "[calib]  M_SOFT=2.184, T_SOFT=0.90, target clip≈22%\n",
      "[eval ]  clip@0=0.00% clip@2=0.00%\n"
     ]
    },
    {
     "data": {
      "text/html": [
       "<p style='color: orange'>train(:3410) eval(3410:3590)<br>eval_score:  1.474<br>holdout(last180) score: 0.738478<br>z-calib: b=-2.457e-04, T=2.793e-02, M_SOFT=2.184, T_SOFT=0.90</p>"
      ],
      "text/plain": [
       "<IPython.core.display.HTML object>"
      ]
     },
     "metadata": {},
     "output_type": "display_data"
    },
    {
     "name": "stdout",
     "output_type": "stream",
     "text": [
      "\u001b[36m=== Fold 31 Eval start at 3230 ===\u001b[0m\n",
      "[LightGBM] [Info] Auto-choosing col-wise multi-threading, the overhead of testing was 0.001087 seconds.\n",
      "You can set `force_col_wise=true` to remove the overhead.\n",
      "[LightGBM] [Info] Total Bins 16840\n",
      "[LightGBM] [Info] Number of data points in the train set: 3230, number of used features: 83\n",
      "[LightGBM] [Info] Start training from score 0.000411\n",
      "[calib/pessimistic] T_SOFT=0.90, M_SOFT=2.184, m_lo=1.0, m_hi=3.0, Tm=1.00, gamma=1.10\n",
      "[holdout] sharpe=0.456 vol_pen=1.00 ret_pen=1.00\n",
      "[holdout] clip@0=3.89%, clip@2=0.00%\n",
      "[calib]  M_SOFT=2.184, T_SOFT=0.90, target clip≈22%\n",
      "[eval ]  clip@0=1.67% clip@2=1.11%\n"
     ]
    },
    {
     "data": {
      "text/html": [
       "<p style='color: orange'>train(:3230) eval(3230:3410)<br>eval_score:  0.716<br>holdout(last180) score: 0.455894<br>z-calib: b=-4.804e-04, T=2.847e-02, M_SOFT=2.184, T_SOFT=0.90</p>"
      ],
      "text/plain": [
       "<IPython.core.display.HTML object>"
      ]
     },
     "metadata": {},
     "output_type": "display_data"
    },
    {
     "name": "stdout",
     "output_type": "stream",
     "text": [
      "\u001b[36m=== Fold 32 Eval start at 3050 ===\u001b[0m\n",
      "[LightGBM] [Info] Auto-choosing col-wise multi-threading, the overhead of testing was 0.001852 seconds.\n",
      "You can set `force_col_wise=true` to remove the overhead.\n",
      "[LightGBM] [Info] Total Bins 16764\n",
      "[LightGBM] [Info] Number of data points in the train set: 3050, number of used features: 83\n",
      "[LightGBM] [Info] Start training from score 0.000508\n",
      "[calib/pessimistic] T_SOFT=0.90, M_SOFT=2.184, m_lo=1.0, m_hi=3.0, Tm=1.00, gamma=1.10\n",
      "[holdout] sharpe=0.212 vol_pen=1.00 ret_pen=1.13\n",
      "[holdout] clip@0=1.11%, clip@2=0.00%\n",
      "[calib]  M_SOFT=2.184, T_SOFT=0.90, target clip≈22%\n",
      "[eval ]  clip@0=1.67% clip@2=5.00%\n"
     ]
    },
    {
     "data": {
      "text/html": [
       "<p style='color: orange'>train(:3050) eval(3050:3230)<br>eval_score: -0.658<br>holdout(last180) score: 0.187431<br>z-calib: b=-2.662e-05, T=2.575e-02, M_SOFT=2.184, T_SOFT=0.90</p>"
      ],
      "text/plain": [
       "<IPython.core.display.HTML object>"
      ]
     },
     "metadata": {},
     "output_type": "display_data"
    },
    {
     "data": {
      "text/html": [
       "<h2 style=\"text-align:center;color:orange\">======== Result ========</h2>"
      ],
      "text/plain": [
       "<IPython.core.display.HTML object>"
      ]
     },
     "metadata": {},
     "output_type": "display_data"
    },
    {
     "name": "stdout",
     "output_type": "stream",
     "text": [
      "LightGBM Model Average Eval Score: 0.865714\n",
      "LightGBM Model Overall OOF Score: 0.466791 vol_penalty=1.04 return_penalty=1.00\n",
      "\u001b[33m[holdout] mean=0.266, std=0.178\u001b[0m\n"
     ]
    },
    {
     "data": {
      "image/png": "[encoded data removed]",
      "text/plain": [
       "<Figure size 650x260 with 1 Axes>"
      ]
     },
     "metadata": {},
     "output_type": "display_data"
    },
    {
     "name": "stdout",
     "output_type": "stream",
     "text": [
      "LightGBM Model First Eval Fold Score: 0.384554\n",
      "\u001b[33mLightGBM Model Holdout Score (avg over folds using each model): 0.266\u001b[0m\n"
     ]
    },
    {
     "data": {
      "image/png": "[encoded data removed]",
      "text/plain": [
       "<Figure size 600x200 with 1 Axes>"
      ]
     },
     "metadata": {},
     "output_type": "display_data"
    },
    {
     "name": "stdout",
     "output_type": "stream",
     "text": [
      "Range of predictions: [0.000000, 2.000000]\n"
     ]
    }
   ],
   "source": [
    "# 単純なLightGBMモデルで試す\n",
    "\n",
    "allocation_model = lgb.LGBMRegressor(\n",
    "    n_estimators=1000,\n",
    "    learning_rate=0.05,\n",
    "    num_leaves=31,\n",
    "    colsample_bytree=0.8,\n",
    "    subsample=0.8,\n",
    "    random_state=42,\n",
    ")\n",
    "\n",
    "submit_model = cross_validate(allocation_model, label=\"LightGBM Model\")"
   ]
  },
  {
   "cell_type": "markdown",
   "id": "427c0cc0",
   "metadata": {},
   "source": [
    "### Submission\n",
    "- time-series streaming形式\n",
    "- Kaggle サーバーから1batchずつ送られるデータからsubmission.parquetを返す\n",
    "- 返り値検証があるため，指定された形式で返す\n",
    "- 指定形式\n",
    "  - "
   ]
  },
  {
   "cell_type": "code",
   "execution_count": 12,
   "id": "218685fd",
   "metadata": {},
   "outputs": [],
   "source": [
    "def predict(test: pl.DataFrame) -> float:\n",
    "    \"\"\"Replace this function with your inference code.\"\"\"\n",
    "    test_pd = test.to_pandas()\n",
    "    # display(test_pd.info())\n",
    "    if len(test_pd.columns) > 94:\n",
    "        test_pd = test_pd.drop(\n",
    "            [\"date_id\", \"is_scored\", \"lagged_forward_returns\", \"lagged_risk_free_rate\", \"lagged_market_forward_excess_returns\"],\n",
    "            axis = 1)\n",
    "\n",
    "    preds = submit_model.predict(test_pd)\n",
    "    raw_pred: float = float(preds[0])\n",
    "    print(f\"predict:{raw_pred}\")\n",
    "\n",
    "    # --- 出力（float or ndarray）---\n",
    "    # KaggleのAPI仕様上、float単体かSeries/DataFrameで返す必要あり float(preds[0]) if len(preds) == 1 else preds　\n",
    "    return convert_ret_to_signal(raw_pred, ret_signal_params)"
   ]
  },
  {
   "cell_type": "code",
   "execution_count": 13,
   "id": "4b05b6a4",
   "metadata": {},
   "outputs": [
    {
     "ename": "GatewayRuntimeError",
     "evalue": "(<GatewayRuntimeErrorType.GATEWAY_RAISED_EXCEPTION: 5>, 'Traceback (most recent call last):\\n  File \"/home/masa1357/Dockerdata/kaggle/Kaggle_Hull-Tactical---Market-Prediction/kaggle_evaluation/core/base_gateway.py\", line 134, in run\\n    predictions, row_ids = self.get_all_predictions()\\n  File \"/home/masa1357/Dockerdata/kaggle/Kaggle_Hull-Tactical---Market-Prediction/kaggle_evaluation/core/base_gateway.py\", line 109, in get_all_predictions\\n    for data_batch, row_ids in self.generate_data_batches():\\n  File \"/home/masa1357/Dockerdata/kaggle/Kaggle_Hull-Tactical---Market-Prediction/kaggle_evaluation/default_gateway.py\", line 29, in generate_data_batches\\n    test = pl.read_csv(self.competition_data_dir / \\'test.csv\\')\\n  File \"/usr/local/lib/python3.10/dist-packages/polars/_utils/deprecation.py\", line 128, in wrapper\\n    return function(*args, **kwargs)\\n  File \"/usr/local/lib/python3.10/dist-packages/polars/_utils/deprecation.py\", line 128, in wrapper\\n    return function(*args, **kwargs)\\n  File \"/usr/local/lib/python3.10/dist-packages/polars/_utils/deprecation.py\", line 128, in wrapper\\n    return function(*args, **kwargs)\\n  File \"/usr/local/lib/python3.10/dist-packages/polars/io/csv/functions.py\", line 549, in read_csv\\n    df = _read_csv_impl(\\n  File \"/usr/local/lib/python3.10/dist-packages/polars/io/csv/functions.py\", line 697, in _read_csv_impl\\n    pydf = PyDataFrame.read_csv(\\nFileNotFoundError: No such file or directory (os error 2): /kaggle/input/hull-tactical-market-prediction/test.csv\\n')",
     "output_type": "error",
     "traceback": [
      "\u001b[0;31m---------------------------------------------------------------------------\u001b[0m",
      "\u001b[0;31mGatewayRuntimeError\u001b[0m                       Traceback (most recent call last)",
      "Cell \u001b[0;32mIn[13], line 7\u001b[0m\n\u001b[1;32m      5\u001b[0m     inference_server\u001b[38;5;241m.\u001b[39mserve()\n\u001b[1;32m      6\u001b[0m \u001b[38;5;28;01melse\u001b[39;00m:\n\u001b[0;32m----> 7\u001b[0m     \u001b[43minference_server\u001b[49m\u001b[38;5;241;43m.\u001b[39;49m\u001b[43mrun_local_gateway\u001b[49m\u001b[43m(\u001b[49m\u001b[43m(\u001b[49m\u001b[38;5;124;43m'\u001b[39;49m\u001b[38;5;124;43m/kaggle/input/hull-tactical-market-prediction/\u001b[39;49m\u001b[38;5;124;43m'\u001b[39;49m\u001b[43m,\u001b[49m\u001b[43m)\u001b[49m\u001b[43m)\u001b[49m\n",
      "File \u001b[0;32m/home/masa1357/Dockerdata/kaggle/Kaggle_Hull-Tactical---Market-Prediction/kaggle_evaluation/core/templates.py:110\u001b[0m, in \u001b[0;36mInferenceServer.run_local_gateway\u001b[0;34m(self, data_paths, file_share_dir, *args, **kwargs)\u001b[0m\n\u001b[1;32m    108\u001b[0m     \u001b[38;5;28mself\u001b[39m\u001b[38;5;241m.\u001b[39mgateway\u001b[38;5;241m.\u001b[39mrun()\n\u001b[1;32m    109\u001b[0m \u001b[38;5;28;01mexcept\u001b[39;00m \u001b[38;5;167;01mException\u001b[39;00m \u001b[38;5;28;01mas\u001b[39;00m err:\n\u001b[0;32m--> 110\u001b[0m     \u001b[38;5;28;01mraise\u001b[39;00m err \u001b[38;5;28;01mfrom\u001b[39;00m \u001b[38;5;28;01mNone\u001b[39;00m\n\u001b[1;32m    111\u001b[0m \u001b[38;5;28;01mfinally\u001b[39;00m:\n\u001b[1;32m    112\u001b[0m     \u001b[38;5;28mself\u001b[39m\u001b[38;5;241m.\u001b[39mserver\u001b[38;5;241m.\u001b[39mstop(\u001b[38;5;241m0\u001b[39m)\n",
      "File \u001b[0;32m/home/masa1357/Dockerdata/kaggle/Kaggle_Hull-Tactical---Market-Prediction/kaggle_evaluation/core/templates.py:108\u001b[0m, in \u001b[0;36mInferenceServer.run_local_gateway\u001b[0;34m(self, data_paths, file_share_dir, *args, **kwargs)\u001b[0m\n\u001b[1;32m    106\u001b[0m \u001b[38;5;28;01mtry\u001b[39;00m:\n\u001b[1;32m    107\u001b[0m     \u001b[38;5;28mself\u001b[39m\u001b[38;5;241m.\u001b[39mgateway \u001b[38;5;241m=\u001b[39m \u001b[38;5;28mself\u001b[39m\u001b[38;5;241m.\u001b[39m_get_gateway_for_test(data_paths, file_share_dir, \u001b[38;5;241m*\u001b[39margs, \u001b[38;5;241m*\u001b[39m\u001b[38;5;241m*\u001b[39mkwargs)\n\u001b[0;32m--> 108\u001b[0m     \u001b[38;5;28;43mself\u001b[39;49m\u001b[38;5;241;43m.\u001b[39;49m\u001b[43mgateway\u001b[49m\u001b[38;5;241;43m.\u001b[39;49m\u001b[43mrun\u001b[49m\u001b[43m(\u001b[49m\u001b[43m)\u001b[49m\n\u001b[1;32m    109\u001b[0m \u001b[38;5;28;01mexcept\u001b[39;00m \u001b[38;5;167;01mException\u001b[39;00m \u001b[38;5;28;01mas\u001b[39;00m err:\n\u001b[1;32m    110\u001b[0m     \u001b[38;5;28;01mraise\u001b[39;00m err \u001b[38;5;28;01mfrom\u001b[39;00m \u001b[38;5;28;01mNone\u001b[39;00m\n",
      "File \u001b[0;32m/home/masa1357/Dockerdata/kaggle/Kaggle_Hull-Tactical---Market-Prediction/kaggle_evaluation/core/base_gateway.py:153\u001b[0m, in \u001b[0;36mBaseGateway.run\u001b[0;34m(self)\u001b[0m\n\u001b[1;32m    150\u001b[0m     \u001b[38;5;28mself\u001b[39m\u001b[38;5;241m.\u001b[39mwrite_result(error)\n\u001b[1;32m    151\u001b[0m \u001b[38;5;28;01melif\u001b[39;00m error:\n\u001b[1;32m    152\u001b[0m     \u001b[38;5;66;03m# For local testing\u001b[39;00m\n\u001b[0;32m--> 153\u001b[0m     \u001b[38;5;28;01mraise\u001b[39;00m error\n",
      "\u001b[0;31mGatewayRuntimeError\u001b[0m: (<GatewayRuntimeErrorType.GATEWAY_RAISED_EXCEPTION: 5>, 'Traceback (most recent call last):\\n  File \"/home/masa1357/Dockerdata/kaggle/Kaggle_Hull-Tactical---Market-Prediction/kaggle_evaluation/core/base_gateway.py\", line 134, in run\\n    predictions, row_ids = self.get_all_predictions()\\n  File \"/home/masa1357/Dockerdata/kaggle/Kaggle_Hull-Tactical---Market-Prediction/kaggle_evaluation/core/base_gateway.py\", line 109, in get_all_predictions\\n    for data_batch, row_ids in self.generate_data_batches():\\n  File \"/home/masa1357/Dockerdata/kaggle/Kaggle_Hull-Tactical---Market-Prediction/kaggle_evaluation/default_gateway.py\", line 29, in generate_data_batches\\n    test = pl.read_csv(self.competition_data_dir / \\'test.csv\\')\\n  File \"/usr/local/lib/python3.10/dist-packages/polars/_utils/deprecation.py\", line 128, in wrapper\\n    return function(*args, **kwargs)\\n  File \"/usr/local/lib/python3.10/dist-packages/polars/_utils/deprecation.py\", line 128, in wrapper\\n    return function(*args, **kwargs)\\n  File \"/usr/local/lib/python3.10/dist-packages/polars/_utils/deprecation.py\", line 128, in wrapper\\n    return function(*args, **kwargs)\\n  File \"/usr/local/lib/python3.10/dist-packages/polars/io/csv/functions.py\", line 549, in read_csv\\n    df = _read_csv_impl(\\n  File \"/usr/local/lib/python3.10/dist-packages/polars/io/csv/functions.py\", line 697, in _read_csv_impl\\n    pydf = PyDataFrame.read_csv(\\nFileNotFoundError: No such file or directory (os error 2): /kaggle/input/hull-tactical-market-prediction/test.csv\\n')"
     ]
    }
   ],
   "source": [
    "# サーバー上でpredict(test_batch)を動かす\n",
    "inference_server = kaggle_evaluation.default_inference_server.DefaultInferenceServer(predict)\n",
    "\n",
    "if os.getenv('KAGGLE_IS_COMPETITION_RERUN'):\n",
    "    inference_server.serve()\n",
    "else:\n",
    "    inference_server.run_local_gateway(('/kaggle/input/hull-tactical-market-prediction/',))"
   ]
  }
 ],
 "metadata": {
  "kernelspec": {
   "display_name": "Python 3",
   "language": "python",
   "name": "python3"
  },
  "language_info": {
   "codemirror_mode": {
    "name": "ipython",
    "version": 3
   },
   "file_extension": ".py",
   "mimetype": "text/x-python",
   "name": "python",
   "nbconvert_exporter": "python",
   "pygments_lexer": "ipython3",
   "version": "3.10.12"
  }
 },
 "nbformat": 4,
 "nbformat_minor": 5
}
